{
 "cells": [
  {
   "cell_type": "code",
   "execution_count": 5,
   "id": "400380da",
   "metadata": {},
   "outputs": [],
   "source": [
    "from nltk.corpus import stopwords\n",
    "import fasttext.util\n",
    "import pandas as pd\n",
    "import fasttext\n",
    "import pickle\n",
    "import dill\n",
    "import ast\n",
    "import re\n",
    "import numpy as np"
   ]
  },
  {
   "cell_type": "code",
   "execution_count": 6,
   "id": "d7ed06fa-78ac-4e5a-98f2-89aa3b1caf1d",
   "metadata": {},
   "outputs": [],
   "source": [
    "def make_predict(vacancy_text):\n",
    "    vacancy_text = vacancy_text.strip()\n",
    "    feature_dict = {}\n",
    "\n",
    "    feature_list = [i for i in vacancy_text.split('\\n') if i!='']\n",
    "    \n",
    "    feature_list = [i.split(':') for i in feature_list]\n",
    "    \n",
    "    for i in feature_list:\n",
    "        feat_name = i[0].strip()\n",
    "        feat_model_name = model_name_dict[feat_name]\n",
    "    \n",
    "        clear_feat = i[1].replace('.', '').strip()\n",
    "    \n",
    "        if feat_model_name in ['required_experience']:\n",
    "            feature_dict[feat_model_name] = clear_feat[0].upper()+clear_feat[1:]\n",
    "        else:\n",
    "            feature_dict[feat_model_name] = clear_feat\n",
    "    \n",
    "    data = pd.DataFrame.from_dict([feature_dict])\n",
    "    \n",
    "    data.city_id = data.city_id.apply(lambda value: str(value) if value in top_10_city else 'Остальные')\n",
    "    \n",
    "    data.custom_position = data.custom_position.apply(lambda value: ' '.join([word for word in value.split(' ') if word not in stopwords_list]))\n",
    "\n",
    "    data.education_name = data.education_name.replace('высшее (бакалавр)', 'высшее') \n",
    "    \n",
    "    data['city_id'+'_'+data.city_id.values[0]] = True\n",
    "    data['required_experience'+'_'+data.required_experience.values[0]] = True\n",
    "    data['schedule'+'_'+data.schedule.values[0]] = True\n",
    "    data['education_name'+'_'+data.education_name.values[0]] = True\n",
    "\n",
    "    custom_position_name = data.custom_position.values[0]\n",
    "    vector_professions = np.mean([ft.get_word_vector(word) for word in custom_position_name.split(' ')], axis=0).tolist()\n",
    "    data['vector_professions'] = [vector_professions]\n",
    "    \n",
    "    work_skills = data.work_skills_str.values[0]\n",
    "    vector_skills = np.mean([ft.get_word_vector(word) for word in work_skills.split(' ')], axis=0).tolist()\n",
    "    data['vector_skills'] = [vector_skills]\n",
    "    \n",
    "    vector_professions_df = pd.DataFrame(data.vector_professions.tolist(), columns=[f\"feature_prof_{c}\" for c in range(1, 100+1)])\n",
    "    data = pd.concat([data, vector_professions_df], axis=1)\n",
    "    \n",
    "    vector_skills_df = pd.DataFrame(data.vector_skills.tolist(), columns=[f\"feature_skill_{c}\" for c in range(1, 100+1)])\n",
    "    data = pd.concat([data, vector_skills_df], axis=1)\n",
    "    \n",
    "    miss_columns = list(set(fit_columns) - set(data.columns))\n",
    "    for i in miss_columns:\n",
    "        data[miss_columns] = False\n",
    "    \n",
    "    predict = model.predict(data[model.feature_names_])[0]\n",
    "    return round(predict)"
   ]
  },
  {
   "cell_type": "code",
   "execution_count": 7,
   "id": "9629a298-2c62-4156-b418-0aa8961d176c",
   "metadata": {},
   "outputs": [
    {
     "name": "stderr",
     "output_type": "stream",
     "text": [
      "Warning : `load_model` does not return WordVectorModel or SupervisedModel any more, but a `FastText` object which is very similar.\n"
     ]
    },
    {
     "data": {
      "text/plain": [
       "<fasttext.FastText._FastText at 0x150973b9c40>"
      ]
     },
     "execution_count": 7,
     "metadata": {},
     "output_type": "execute_result"
    }
   ],
   "source": [
    "dim = 100\n",
    "\n",
    "ft = fasttext.load_model('cc.ru.300.bin')\n",
    "\n",
    "fasttext.util.reduce_model(ft, dim)"
   ]
  },
  {
   "cell_type": "code",
   "execution_count": 8,
   "id": "242ad0d5",
   "metadata": {},
   "outputs": [],
   "source": [
    "with open('ctb_reg.dill', 'rb') as handle:\n",
    "    model = pickle.load(handle)\n",
    "\n",
    "with open('top_10_city.dill', 'rb') as handle:\n",
    "    top_10_city = pickle.load(handle)\n",
    "\n",
    "top_10_city = [str(i) for i in top_10_city]"
   ]
  },
  {
   "cell_type": "code",
   "execution_count": 9,
   "id": "79927970-c65d-4117-b8ba-0b3491e4feb9",
   "metadata": {},
   "outputs": [],
   "source": [
    "stopwords_list = stopwords.words(\"russian\")\n",
    "\n",
    "obj_columns = ['schedule','education_name','city_id','required_experience']\n",
    "\n",
    "fit_columns = model.feature_names_"
   ]
  },
  {
   "cell_type": "code",
   "execution_count": 10,
   "id": "a8bfabe3-defc-40b1-b85c-99f86b8b1f90",
   "metadata": {},
   "outputs": [],
   "source": [
    "model_name_dict = {\n",
    "    'Профессия':'custom_position',\n",
    "    'Город':'city_id',\n",
    "    'Опыт работы':'required_experience',\n",
    "    'Образование':'education_name',\n",
    "    'График':'schedule',\n",
    "    'Навыки':'work_skills_str'\n",
    "}"
   ]
  },
  {
   "cell_type": "markdown",
   "id": "150cb1f3-cbc6-4d56-b368-b2782b941b90",
   "metadata": {},
   "source": [
    "Доступные категории.\n",
    "- Опыт работы: нет опыта, от 1 года до 3 лет, от 3 до 6 лет, более 6 лет.\n",
    "- Образование: любое, среднее профессиональное, среднее, неполное высшее, высшее.\n",
    "- График: сменный график, полный рабочий день, вахта, свободный график, удаленная работа, частичная занятость."
   ]
  },
  {
   "cell_type": "code",
   "execution_count": 11,
   "id": "9ef5a4a7-0415-46ce-8516-57720005ea5b",
   "metadata": {},
   "outputs": [],
   "source": [
    "vacancy_text = \"\"\"\n",
    "Профессия: грузчик.\n",
    "Город: 1.\n",
    "Опыт работы: высшее.\n",
    "Образование: любое.\n",
    "График: свободный график.\n",
    "Навыки: погрузочно-разгрузочные работы, комплектация, работа с ценниками, ротация товара, выкладка товара, работа в торговом зале, выкладка, ответственность, пунктуальность, внимательность.\n",
    "\"\"\""
   ]
  },
  {
   "cell_type": "code",
   "execution_count": 12,
   "id": "c71188af-fe6c-4e3c-918c-95f71528b2ab",
   "metadata": {},
   "outputs": [
    {
     "data": {
      "text/plain": [
       "89369"
      ]
     },
     "execution_count": 12,
     "metadata": {},
     "output_type": "execute_result"
    }
   ],
   "source": [
    "make_predict(vacancy_text)"
   ]
  },
  {
   "cell_type": "markdown",
   "id": "bad962f5-8357-4452-b6e6-fbd3545a6ca2",
   "metadata": {},
   "source": [
    "/predict \n",
    "Профессия: грузчик.\n",
    "Город: Москва.\n",
    "Опыт работы: нет опыта.\n",
    "Образование: любое.\n",
    "График: свободный график.\n",
    "Навыки: погрузочно-разгрузочные работы, комплектация, работа с ценниками, ротация товара, выкладка товара, работа в торговом зале, выкладка, ответственность, пунктуальность, внимательность.\n",
    "\n",
    "/predict \n",
    "Профессия: продавец.\n",
    "Город: Новосибирск.\n",
    "Опыт работы: нет опыта.\n",
    "Образование: любое.\n",
    "График: свободный график.\n",
    "Навыки: марктировка товара, прием товара, выкладка товара.\n",
    "\n",
    "/predict \n",
    "Профессия: повар.\n",
    "Город: Москва.\n",
    "Опыт работы: от 1 года до 3 лет.\n",
    "Образование: среднее профессиональное.\n",
    "График: полный рабочий день.\n",
    "Навыки: составление меню, оформление заявки на пищевые продукты, их приобретение, контроль за хранение, использование и реализация готовой продукции, управление деятельностью производства через планирование, обмен информацией, взаимодействия с персоналом."
   ]
  }
 ],
 "metadata": {
  "kernelspec": {
   "display_name": "Python 3 (ipykernel)",
   "language": "python",
   "name": "python3"
  },
  "language_info": {
   "codemirror_mode": {
    "name": "ipython",
    "version": 3
   },
   "file_extension": ".py",
   "mimetype": "text/x-python",
   "name": "python",
   "nbconvert_exporter": "python",
   "pygments_lexer": "ipython3",
   "version": "3.9.18"
  }
 },
 "nbformat": 4,
 "nbformat_minor": 5
}
