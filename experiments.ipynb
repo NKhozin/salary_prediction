{
 "cells": [
  {
   "cell_type": "code",
   "execution_count": 20,
   "id": "308221f3",
   "metadata": {},
   "outputs": [],
   "source": [
    "from StemLemPipe import phrases2lower, phrases_without_excess_symbols, phrases_transform, text2sentences, split_by_words, sentence_split, create_stemmer_lemmer, words_to_ngrams_list, sum_phrases, wordlist2set, stopwords, StemLemPipeline\n",
    "from sklearn.model_selection import KFold, cross_val_score, train_test_split\n",
    "from sklearn.metrics import mean_absolute_percentage_error\n",
    "from sklearn.model_selection import cross_validate\n",
    "from sklearn.tree import DecisionTreeRegressor\n",
    "from catboost import CatBoostRegressor\n",
    "from nltk.corpus import stopwords\n",
    "from collections import Counter\n",
    "from tqdm import tqdm\n",
    "import fasttext.util\n",
    "import pandas as pd\n",
    "import numpy as np\n",
    "import matplotlib\n",
    "import fasttext\n",
    "import pickle\n",
    "import string\n",
    "import optuna\n",
    "import time\n",
    "import shap\n",
    "import dill\n",
    "import ast\n",
    "import re"
   ]
  },
  {
   "cell_type": "code",
   "execution_count": null,
   "id": "c5dfbf63",
   "metadata": {},
   "outputs": [],
   "source": [
    "from nltk.stem.snowball import SnowballStemmer\n",
    "from nltk.tokenize import word_tokenize\n",
    "from nltk.stem import WordNetLemmatizer\n",
    "from nltk.corpus import stopwords\n",
    "from nltk.stem.porter import *\n",
    "import spacy\n",
    "import nltk"
   ]
  },
  {
   "cell_type": "markdown",
   "id": "12a821cc",
   "metadata": {},
   "source": [
    "Загружаем и инициализируем необходимые данные, модели"
   ]
  },
  {
   "cell_type": "code",
   "execution_count": 2,
   "id": "c5f65757",
   "metadata": {},
   "outputs": [],
   "source": [
    "num_folds = 5\n",
    "random_state = 42\n",
    "scoring = ['neg_mean_absolute_error', 'neg_mean_absolute_percentage_error']"
   ]
  },
  {
   "cell_type": "code",
   "execution_count": 6,
   "id": "7768331c",
   "metadata": {},
   "outputs": [],
   "source": [
    "result_df_all = pd.read_excel('results_4.xlsx', index_col=0)"
   ]
  },
  {
   "cell_type": "code",
   "execution_count": 4,
   "id": "d8695c86",
   "metadata": {},
   "outputs": [],
   "source": [
    "fit_columns = ['count_skills', 'schedule_полный рабочий день', 'schedule_свободный график',\n",
    "       'schedule_сменный график', 'schedule_удаленная работа',\n",
    "       'schedule_частичная занятость', 'education_name_высшее (бакалавр)',\n",
    "       'education_name_любое', 'education_name_неполное высшее',\n",
    "       'education_name_среднее', 'education_name_среднее профессиональное',\n",
    "       'city_id_10', 'city_id_16', 'city_id_174', 'city_id_2', 'city_id_268',\n",
    "       'city_id_3', 'city_id_36', 'city_id_57', 'city_id_6',\n",
    "       'city_id_Остальные', 'required_experience_Нет опыта',\n",
    "       'required_experience_От 1 года до 3 лет',\n",
    "       'required_experience_От 3 до 6 лет', 'vector_skills','vector_professions']"
   ]
  },
  {
   "cell_type": "code",
   "execution_count": 8,
   "id": "d395dba8",
   "metadata": {},
   "outputs": [],
   "source": [
    "base_data = pd.read_csv('students_vacancies_10Nov2023_clear.csv', index_col=0)"
   ]
  },
  {
   "cell_type": "code",
   "execution_count": 9,
   "id": "18539379",
   "metadata": {},
   "outputs": [],
   "source": [
    "base_data.work_skills = base_data.work_skills.apply(ast.literal_eval)\n",
    "base_data.vector_skills = base_data.vector_skills.apply(ast.literal_eval)\n",
    "base_data.vector_professions = base_data.vector_professions.apply(ast.literal_eval)"
   ]
  },
  {
   "cell_type": "code",
   "execution_count": 10,
   "id": "8bfdd3f4",
   "metadata": {},
   "outputs": [
    {
     "name": "stderr",
     "output_type": "stream",
     "text": [
      "Warning : `load_model` does not return WordVectorModel or SupervisedModel any more, but a `FastText` object which is very similar.\n"
     ]
    },
    {
     "data": {
      "text/plain": [
       "<fasttext.FastText._FastText at 0x26907f13dc0>"
      ]
     },
     "execution_count": 10,
     "metadata": {},
     "output_type": "execute_result"
    }
   ],
   "source": [
    "dim = 100\n",
    "\n",
    "ft = fasttext.load_model('cc.ru.300.bin')\n",
    "\n",
    "fasttext.util.reduce_model(ft, dim)"
   ]
  },
  {
   "cell_type": "markdown",
   "id": "55a6b1fc",
   "metadata": {},
   "source": [
    "Лучшее значение MAPE на 5 фолдах 23.52"
   ]
  },
  {
   "cell_type": "markdown",
   "id": "23a98c99",
   "metadata": {},
   "source": [
    "### Exp 1: clear, stemming, lemmatization"
   ]
  },
  {
   "cell_type": "markdown",
   "id": "c89583ad",
   "metadata": {},
   "source": [
    "Попробуем преобработать данные перед получением эмбеддингов: сделаем лемматизацию, стемминг, а также очистим от стоп слов"
   ]
  },
  {
   "cell_type": "code",
   "execution_count": 17,
   "id": "13dafb40",
   "metadata": {},
   "outputs": [],
   "source": [
    "def spacy_process(text):\n",
    "    doc = nlp(text)\n",
    "    return ' '.join([token.lemma_ for token in doc])\n",
    "\n",
    "def nltk_process(text):\n",
    "    #Tokenization\n",
    "    nltk_tokenList = word_tokenize(text)\n",
    "    \n",
    "    #Stemming\n",
    "    nltk_stemedList = []\n",
    "    for word in nltk_tokenList:\n",
    "        nltk_stemedList.append(s_stemmer.stem(word))\n",
    "    \n",
    "    #Lemmatization\n",
    "    wordnet_lemmatizer = WordNetLemmatizer()\n",
    "    return ' '.join([wordnet_lemmatizer.lemmatize(word) for word in nltk_stemedList])"
   ]
  },
  {
   "cell_type": "code",
   "execution_count": 18,
   "id": "0c433e21",
   "metadata": {},
   "outputs": [],
   "source": [
    "data = base_data.copy()"
   ]
  },
  {
   "cell_type": "code",
   "execution_count": 44,
   "id": "c3b8500d",
   "metadata": {},
   "outputs": [],
   "source": [
    "#Замена знаков пунктуации\n",
    "data['custom_position'] = data.custom_position.apply(lambda value: re.sub(r'[^\\w\\s]', ' ', value))\n",
    "\n",
    "#Удаление лишних пробелов\n",
    "data['custom_position'] = data.custom_position.apply(lambda value: re.sub('\\s+', ' ', value).strip())"
   ]
  },
  {
   "cell_type": "code",
   "execution_count": 45,
   "id": "b7b62ca9",
   "metadata": {},
   "outputs": [
    {
     "data": {
      "text/html": [
       "<div>\n",
       "<style scoped>\n",
       "    .dataframe tbody tr th:only-of-type {\n",
       "        vertical-align: middle;\n",
       "    }\n",
       "\n",
       "    .dataframe tbody tr th {\n",
       "        vertical-align: top;\n",
       "    }\n",
       "\n",
       "    .dataframe thead th {\n",
       "        text-align: right;\n",
       "    }\n",
       "</style>\n",
       "<table border=\"1\" class=\"dataframe\">\n",
       "  <thead>\n",
       "    <tr style=\"text-align: right;\">\n",
       "      <th></th>\n",
       "      <th>index</th>\n",
       "      <th>0</th>\n",
       "    </tr>\n",
       "  </thead>\n",
       "  <tbody>\n",
       "    <tr>\n",
       "      <th>26</th>\n",
       "      <td>по</td>\n",
       "      <td>11062</td>\n",
       "    </tr>\n",
       "    <tr>\n",
       "      <th>32</th>\n",
       "      <td>менеджер</td>\n",
       "      <td>7965</td>\n",
       "    </tr>\n",
       "    <tr>\n",
       "      <th>20</th>\n",
       "      <td>продавец</td>\n",
       "      <td>7872</td>\n",
       "    </tr>\n",
       "    <tr>\n",
       "      <th>40</th>\n",
       "      <td>на</td>\n",
       "      <td>5859</td>\n",
       "    </tr>\n",
       "    <tr>\n",
       "      <th>11</th>\n",
       "      <td>водитель</td>\n",
       "      <td>5712</td>\n",
       "    </tr>\n",
       "    <tr>\n",
       "      <th>9</th>\n",
       "      <td>в</td>\n",
       "      <td>4988</td>\n",
       "    </tr>\n",
       "    <tr>\n",
       "      <th>77</th>\n",
       "      <td>кассир</td>\n",
       "      <td>4978</td>\n",
       "    </tr>\n",
       "    <tr>\n",
       "      <th>47</th>\n",
       "      <td>оператор</td>\n",
       "      <td>4816</td>\n",
       "    </tr>\n",
       "    <tr>\n",
       "      <th>17</th>\n",
       "      <td>с</td>\n",
       "      <td>4160</td>\n",
       "    </tr>\n",
       "    <tr>\n",
       "      <th>36</th>\n",
       "      <td>продажам</td>\n",
       "      <td>3301</td>\n",
       "    </tr>\n",
       "    <tr>\n",
       "      <th>73</th>\n",
       "      <td>консультант</td>\n",
       "      <td>3084</td>\n",
       "    </tr>\n",
       "    <tr>\n",
       "      <th>25</th>\n",
       "      <td>специалист</td>\n",
       "      <td>2791</td>\n",
       "    </tr>\n",
       "    <tr>\n",
       "      <th>2</th>\n",
       "      <td>грузчик</td>\n",
       "      <td>2749</td>\n",
       "    </tr>\n",
       "    <tr>\n",
       "      <th>181</th>\n",
       "      <td>центра</td>\n",
       "      <td>2597</td>\n",
       "    </tr>\n",
       "    <tr>\n",
       "      <th>3</th>\n",
       "      <td>комплектовщик</td>\n",
       "      <td>2434</td>\n",
       "    </tr>\n",
       "    <tr>\n",
       "      <th>34</th>\n",
       "      <td>удаленно</td>\n",
       "      <td>2218</td>\n",
       "    </tr>\n",
       "    <tr>\n",
       "      <th>63</th>\n",
       "      <td>курьер</td>\n",
       "      <td>2168</td>\n",
       "    </tr>\n",
       "    <tr>\n",
       "      <th>100</th>\n",
       "      <td>работе</td>\n",
       "      <td>2142</td>\n",
       "    </tr>\n",
       "    <tr>\n",
       "      <th>88</th>\n",
       "      <td>повар</td>\n",
       "      <td>2117</td>\n",
       "    </tr>\n",
       "    <tr>\n",
       "      <th>12</th>\n",
       "      <td>категории</td>\n",
       "      <td>2053</td>\n",
       "    </tr>\n",
       "  </tbody>\n",
       "</table>\n",
       "</div>"
      ],
      "text/plain": [
       "             index      0\n",
       "26              по  11062\n",
       "32        менеджер   7965\n",
       "20        продавец   7872\n",
       "40              на   5859\n",
       "11        водитель   5712\n",
       "9                в   4988\n",
       "77          кассир   4978\n",
       "47        оператор   4816\n",
       "17               с   4160\n",
       "36        продажам   3301\n",
       "73     консультант   3084\n",
       "25      специалист   2791\n",
       "2          грузчик   2749\n",
       "181         центра   2597\n",
       "3    комплектовщик   2434\n",
       "34        удаленно   2218\n",
       "63          курьер   2168\n",
       "100         работе   2142\n",
       "88           повар   2117\n",
       "12       категории   2053"
      ]
     },
     "execution_count": 45,
     "metadata": {},
     "output_type": "execute_result"
    }
   ],
   "source": [
    "words  = []\n",
    "\n",
    "for sublist in [i.split(' ') for i in data.custom_position.to_list()]:\n",
    "    for item in sublist:\n",
    "        words.append(item)\n",
    "        \n",
    "cnt_df = pd.DataFrame.from_dict(Counter(words), orient='index').reset_index()\n",
    "cnt_df.sort_values(by=0, ascending=False).head(20)"
   ]
  },
  {
   "cell_type": "code",
   "execution_count": 46,
   "id": "49a821af",
   "metadata": {},
   "outputs": [],
   "source": [
    "#Заменяем ка и ца\n",
    "data['custom_position'] = data['custom_position'].replace({' ца ':' ', ' ка ':' '}, regex=True)\n",
    "\n",
    "#Очищаем от стоп слов\n",
    "stopwords = stopwords.words(\"russian\")\n",
    "data.custom_position = data.custom_position.apply(lambda value: ' '.join([word for word in value.split(' ') if word not in stopwords]))"
   ]
  },
  {
   "cell_type": "code",
   "execution_count": 47,
   "id": "3adff10e",
   "metadata": {},
   "outputs": [
    {
     "name": "stderr",
     "output_type": "stream",
     "text": [
      "C:\\Users\\User\\anaconda3\\envs\\myenv_py_3_8_dl\\lib\\site-packages\\spacy\\util.py:910: UserWarning: [W095] Model 'ru_core_news_sm' (3.1.0) was trained with spaCy v3.1.0 and may not be 100% compatible with the current version (3.7.2). If you see errors or degraded performance, download a newer compatible model or retrain your custom model with the current spaCy version. For more details and available updates, run: python -m spacy validate\n",
      "  warnings.warn(warn_msg)\n"
     ]
    }
   ],
   "source": [
    "nlp = spacy.load('ru_core_news_sm')"
   ]
  },
  {
   "cell_type": "code",
   "execution_count": 48,
   "id": "4e9d8d7b",
   "metadata": {},
   "outputs": [
    {
     "name": "stdout",
     "output_type": "stream",
     "text": [
      "CPU times: total: 3min 35s\n",
      "Wall time: 3min 35s\n"
     ]
    }
   ],
   "source": [
    "%%time\n",
    "\n",
    "data['spacy_custom_position'] = data.custom_position.apply(lambda value: spacy_process(value))"
   ]
  },
  {
   "cell_type": "code",
   "execution_count": 49,
   "id": "cd8d16fb",
   "metadata": {},
   "outputs": [],
   "source": [
    "s_stemmer = SnowballStemmer(language='russian')"
   ]
  },
  {
   "cell_type": "code",
   "execution_count": 50,
   "id": "85527291",
   "metadata": {},
   "outputs": [
    {
     "name": "stdout",
     "output_type": "stream",
     "text": [
      "CPU times: total: 11.2 s\n",
      "Wall time: 11.2 s\n"
     ]
    }
   ],
   "source": [
    "%%time\n",
    "\n",
    "data['nltk_custom_position'] = data.custom_position.apply(lambda value: nltk_process(value))"
   ]
  },
  {
   "cell_type": "code",
   "execution_count": 51,
   "id": "b067ec54",
   "metadata": {},
   "outputs": [],
   "source": [
    "stem_lem = create_stemmer_lemmer(lemmatizer_backend='pymorphy', stemmer_backend='snowball')"
   ]
  },
  {
   "cell_type": "code",
   "execution_count": 52,
   "id": "a214a7f5",
   "metadata": {},
   "outputs": [
    {
     "name": "stdout",
     "output_type": "stream",
     "text": [
      "CPU times: total: 30.9 s\n",
      "Wall time: 30.9 s\n"
     ]
    }
   ],
   "source": [
    "%%time\n",
    "\n",
    "data['stem_custom_position'] = phrases_transform(data.custom_position.to_list(), func = stem_lem)"
   ]
  },
  {
   "cell_type": "code",
   "execution_count": 53,
   "id": "698fd302",
   "metadata": {},
   "outputs": [
    {
     "data": {
      "text/plain": [
       "(53186, 43)"
      ]
     },
     "execution_count": 53,
     "metadata": {},
     "output_type": "execute_result"
    }
   ],
   "source": [
    "data[data['nltk_custom_position']!=data['spacy_custom_position']].shape"
   ]
  },
  {
   "cell_type": "code",
   "execution_count": 54,
   "id": "219938d0",
   "metadata": {},
   "outputs": [
    {
     "data": {
      "text/plain": [
       "(6064, 43)"
      ]
     },
     "execution_count": 54,
     "metadata": {},
     "output_type": "execute_result"
    }
   ],
   "source": [
    "data[data['nltk_custom_position']!=data['stem_custom_position']].shape"
   ]
  },
  {
   "cell_type": "code",
   "execution_count": 55,
   "id": "44b5352d",
   "metadata": {},
   "outputs": [
    {
     "data": {
      "text/plain": [
       "(53074, 43)"
      ]
     },
     "execution_count": 55,
     "metadata": {},
     "output_type": "execute_result"
    }
   ],
   "source": [
    "data[data['spacy_custom_position']!=data['stem_custom_position']].shape"
   ]
  },
  {
   "cell_type": "code",
   "execution_count": 56,
   "id": "c3e688fc",
   "metadata": {},
   "outputs": [],
   "source": [
    "data.to_csv('students_vacancies_10Nov2023_clear_ext_feat.csv')"
   ]
  },
  {
   "cell_type": "code",
   "execution_count": null,
   "id": "daaf7204",
   "metadata": {},
   "outputs": [],
   "source": []
  },
  {
   "cell_type": "code",
   "execution_count": 23,
   "id": "13c82ebd",
   "metadata": {},
   "outputs": [],
   "source": [
    "data = pd.read_csv('students_vacancies_10Nov2023_clear_ext_feat.csv', index_col=0)"
   ]
  },
  {
   "cell_type": "code",
   "execution_count": 24,
   "id": "f251a59d",
   "metadata": {},
   "outputs": [],
   "source": [
    "data.work_skills = data.work_skills.apply(ast.literal_eval)\n",
    "data.vector_skills = data.vector_skills.apply(ast.literal_eval)\n",
    "data.vector_professions = data.vector_professions.apply(ast.literal_eval)"
   ]
  },
  {
   "cell_type": "code",
   "execution_count": 57,
   "id": "7843b19c",
   "metadata": {},
   "outputs": [],
   "source": [
    "model = CatBoostRegressor(verbose=0)\n",
    "\n",
    "results = []\n",
    "names = []\n",
    "times = []\n",
    "\n",
    "for custom_position_name in ['nltk_custom_position', 'spacy_custom_position', 'stem_custom_position']:\n",
    "    \n",
    "    vector_professions = []\n",
    "\n",
    "    for words in data[custom_position_name].values.tolist():\n",
    "        vector = np.mean([ft.get_word_vector(word) for word in words.split(' ')], axis=0).tolist()\n",
    "        vector_professions.append(vector)\n",
    "        \n",
    "    y = data.salary_from\n",
    "    X = data.drop('salary_from', axis=1)\n",
    "    \n",
    "    X['vector_professions'] = vector_professions\n",
    "    \n",
    "    X = X[fit_columns]\n",
    "    \n",
    "    vector_professions_df = pd.DataFrame(X.vector_professions.tolist(), columns=[f\"feature_prof_{c}\" for c in range(1, 100+1)])\n",
    "    X.reset_index(drop=True, inplace=True)\n",
    "    vector_professions_df.reset_index(drop=True, inplace=True)\n",
    "    X = pd.concat([X, vector_professions_df], axis=1)\n",
    "\n",
    "    vector_skills_df = pd.DataFrame(X.vector_skills.tolist(), columns=[f\"feature_skill_{c}\" for c in range(1, 100+1)])\n",
    "    X.reset_index(drop=True, inplace=True)\n",
    "    vector_skills_df.reset_index(drop=True, inplace=True)\n",
    "    X = pd.concat([X, vector_skills_df], axis=1)\n",
    "    \n",
    "    X = X.drop(['vector_professions', 'vector_skills'], axis=1)\n",
    "    \n",
    "    start = time.time()\n",
    "    kfold = KFold(n_splits=num_folds, random_state=random_state, shuffle=True)\n",
    "\n",
    "    scores = cross_validate(model, X, y, cv=kfold, scoring=scoring, return_train_score=False)\n",
    "    \n",
    "    results.append(scores)\n",
    "    names.append(custom_position_name+'_ctb')\n",
    "    end = time.time()\n",
    "    times.append(end - start)"
   ]
  },
  {
   "cell_type": "code",
   "execution_count": 58,
   "id": "029b2c90",
   "metadata": {},
   "outputs": [],
   "source": [
    "result_df = pd.DataFrame(\n",
    "    {'model_name': names,\n",
    "     'MAE': [round(np.mean(np.abs(i['test_neg_mean_absolute_error'])),1) for i in results],\n",
    "     'MAPE': [round(np.mean(np.abs(i['test_neg_mean_absolute_percentage_error']))*100,2) for i in results],\n",
    "     'fit_time': [round(i,3) for i in times]\n",
    "    })\n",
    "\n",
    "result_df['stage'] = 'Exp 1'\n",
    "result_df = result_df[['stage','model_name','MAE','MAPE','fit_time']]"
   ]
  },
  {
   "cell_type": "code",
   "execution_count": 59,
   "id": "f60ab72b",
   "metadata": {},
   "outputs": [
    {
     "data": {
      "text/html": [
       "<div>\n",
       "<style scoped>\n",
       "    .dataframe tbody tr th:only-of-type {\n",
       "        vertical-align: middle;\n",
       "    }\n",
       "\n",
       "    .dataframe tbody tr th {\n",
       "        vertical-align: top;\n",
       "    }\n",
       "\n",
       "    .dataframe thead th {\n",
       "        text-align: right;\n",
       "    }\n",
       "</style>\n",
       "<table border=\"1\" class=\"dataframe\">\n",
       "  <thead>\n",
       "    <tr style=\"text-align: right;\">\n",
       "      <th></th>\n",
       "      <th>stage</th>\n",
       "      <th>model_name</th>\n",
       "      <th>MAE</th>\n",
       "      <th>MAPE</th>\n",
       "      <th>fit_time</th>\n",
       "    </tr>\n",
       "  </thead>\n",
       "  <tbody>\n",
       "    <tr>\n",
       "      <th>0</th>\n",
       "      <td>baseline</td>\n",
       "      <td>LR</td>\n",
       "      <td>16283.3</td>\n",
       "      <td>29.53</td>\n",
       "      <td>1.720</td>\n",
       "    </tr>\n",
       "    <tr>\n",
       "      <th>1</th>\n",
       "      <td>baseline</td>\n",
       "      <td>RidgeRegression</td>\n",
       "      <td>16267.7</td>\n",
       "      <td>29.49</td>\n",
       "      <td>0.880</td>\n",
       "    </tr>\n",
       "    <tr>\n",
       "      <th>2</th>\n",
       "      <td>baseline</td>\n",
       "      <td>LassoRegression</td>\n",
       "      <td>16266.6</td>\n",
       "      <td>29.49</td>\n",
       "      <td>13.634</td>\n",
       "    </tr>\n",
       "    <tr>\n",
       "      <th>3</th>\n",
       "      <td>baseline</td>\n",
       "      <td>KNNRegression</td>\n",
       "      <td>14986.2</td>\n",
       "      <td>27.60</td>\n",
       "      <td>11.166</td>\n",
       "    </tr>\n",
       "    <tr>\n",
       "      <th>4</th>\n",
       "      <td>baseline</td>\n",
       "      <td>DecisionTreeRegressor</td>\n",
       "      <td>15059.2</td>\n",
       "      <td>28.39</td>\n",
       "      <td>142.998</td>\n",
       "    </tr>\n",
       "    <tr>\n",
       "      <th>5</th>\n",
       "      <td>baseline</td>\n",
       "      <td>CatBoostRegressor</td>\n",
       "      <td>12754.2</td>\n",
       "      <td>23.52</td>\n",
       "      <td>83.855</td>\n",
       "    </tr>\n",
       "    <tr>\n",
       "      <th>0</th>\n",
       "      <td>Exp 1</td>\n",
       "      <td>nltk_custom_position_ctb</td>\n",
       "      <td>12615.5</td>\n",
       "      <td>23.24</td>\n",
       "      <td>83.323</td>\n",
       "    </tr>\n",
       "    <tr>\n",
       "      <th>1</th>\n",
       "      <td>Exp 1</td>\n",
       "      <td>spacy_custom_position_ctb</td>\n",
       "      <td>12580.7</td>\n",
       "      <td>23.17</td>\n",
       "      <td>83.847</td>\n",
       "    </tr>\n",
       "    <tr>\n",
       "      <th>2</th>\n",
       "      <td>Exp 1</td>\n",
       "      <td>stem_custom_position_ctb</td>\n",
       "      <td>12616.2</td>\n",
       "      <td>23.25</td>\n",
       "      <td>83.539</td>\n",
       "    </tr>\n",
       "  </tbody>\n",
       "</table>\n",
       "</div>"
      ],
      "text/plain": [
       "      stage                 model_name      MAE   MAPE  fit_time\n",
       "0  baseline                         LR  16283.3  29.53     1.720\n",
       "1  baseline            RidgeRegression  16267.7  29.49     0.880\n",
       "2  baseline            LassoRegression  16266.6  29.49    13.634\n",
       "3  baseline              KNNRegression  14986.2  27.60    11.166\n",
       "4  baseline      DecisionTreeRegressor  15059.2  28.39   142.998\n",
       "5  baseline          CatBoostRegressor  12754.2  23.52    83.855\n",
       "0     Exp 1   nltk_custom_position_ctb  12615.5  23.24    83.323\n",
       "1     Exp 1  spacy_custom_position_ctb  12580.7  23.17    83.847\n",
       "2     Exp 1   stem_custom_position_ctb  12616.2  23.25    83.539"
      ]
     },
     "execution_count": 59,
     "metadata": {},
     "output_type": "execute_result"
    }
   ],
   "source": [
    "result_df_all = pd.concat([result_df_all, result_df], axis=0)\n",
    "result_df_all"
   ]
  },
  {
   "cell_type": "code",
   "execution_count": 60,
   "id": "b7837e43",
   "metadata": {},
   "outputs": [],
   "source": [
    "result_df_all.to_excel('results_2.xlsx')"
   ]
  },
  {
   "cell_type": "markdown",
   "id": "efcd584e",
   "metadata": {},
   "source": [
    "### Exp 2: подаем текстовые признаки в catboost"
   ]
  },
  {
   "cell_type": "code",
   "execution_count": 42,
   "id": "2cffdad5",
   "metadata": {},
   "outputs": [],
   "source": [
    "skills_cols = ['skill_1', 'skill_2', 'skill_3', 'skill_4', 'skill_5', 'skill_6','skill_7', 'skill_8', 'skill_9', 'skill_10']\n",
    "\n",
    "ctb_fit_columns = ['count_skills', 'schedule_полный рабочий день', 'schedule_свободный график',\n",
    "       'schedule_сменный график', 'schedule_удаленная работа',\n",
    "       'schedule_частичная занятость', 'education_name_высшее (бакалавр)',\n",
    "       'education_name_любое', 'education_name_неполное высшее',\n",
    "       'education_name_среднее', 'education_name_среднее профессиональное',\n",
    "       'city_id_10', 'city_id_16', 'city_id_174', 'city_id_2', 'city_id_268',\n",
    "       'city_id_3', 'city_id_36', 'city_id_57', 'city_id_6',\n",
    "       'city_id_Остальные', 'required_experience_Нет опыта',\n",
    "       'required_experience_От 1 года до 3 лет',\n",
    "       'required_experience_От 3 до 6 лет']\n",
    "\n",
    "results = []\n",
    "names = []\n",
    "times = []"
   ]
  },
  {
   "cell_type": "markdown",
   "id": "9410a6cf",
   "metadata": {},
   "source": [
    "#### Все текстовые признаки в ctb"
   ]
  },
  {
   "cell_type": "markdown",
   "id": "c96330e5",
   "metadata": {},
   "source": [
    "#### Все текстовые (исходные) признаки в ctb, компентенции одним признаком"
   ]
  },
  {
   "cell_type": "code",
   "execution_count": 43,
   "id": "17f47735",
   "metadata": {},
   "outputs": [],
   "source": [
    "y = data.salary_from\n",
    "X = data.drop('salary_from', axis=1)\n",
    "\n",
    "X = X[ctb_fit_columns + ['custom_position', 'work_skills_str']]\n",
    "\n",
    "X['work_skills_str'] = X['work_skills_str'].fillna('нет')\n",
    "X['work_skills_str'] = X['work_skills_str'].astype('str')\n",
    "\n",
    "X['custom_position'] = X['custom_position'].astype('str')\n",
    "\n",
    "model = CatBoostRegressor(verbose=0, text_features=['custom_position', 'work_skills_str'])\n",
    "\n",
    "kfold = KFold(n_splits=num_folds, random_state=random_state, shuffle=True)\n",
    "\n",
    "scores = cross_validate(model, X, y, cv=kfold, scoring=scoring, return_train_score=False)\n",
    "\n",
    "results.append(scores)\n",
    "names.append('ctb_with_text_feat_v1')\n",
    "end = time.time()\n",
    "times.append(end - start)"
   ]
  },
  {
   "cell_type": "markdown",
   "id": "d2460ae9",
   "metadata": {},
   "source": [
    "#### Все текстовые (леммы названий) признаки в ctb, компентенции одним признаком"
   ]
  },
  {
   "cell_type": "code",
   "execution_count": 47,
   "id": "3a380a3a",
   "metadata": {},
   "outputs": [],
   "source": [
    "y = data.salary_from\n",
    "X = data.drop('salary_from', axis=1)\n",
    "\n",
    "X = X[ctb_fit_columns + ['spacy_custom_position', 'work_skills_str']]\n",
    "\n",
    "X = X.rename(columns={'spacy_custom_position':'custom_position'})\n",
    "\n",
    "X['work_skills_str'] = X['work_skills_str'].fillna('нет')\n",
    "X['work_skills_str'] = X['work_skills_str'].astype('str')\n",
    "\n",
    "X['custom_position'] = X['custom_position'].astype('str')\n",
    "\n",
    "model = CatBoostRegressor(verbose=0, text_features=['custom_position', 'work_skills_str'])\n",
    "\n",
    "kfold = KFold(n_splits=num_folds, random_state=random_state, shuffle=True)\n",
    "\n",
    "start = time.time()\n",
    "\n",
    "scores = cross_validate(model, X, y, cv=kfold, scoring=scoring, return_train_score=False)\n",
    "\n",
    "results.append(scores)\n",
    "names.append('ctb_with_text_feat_v2')\n",
    "end = time.time()\n",
    "times.append(end - start)"
   ]
  },
  {
   "cell_type": "markdown",
   "id": "60197505",
   "metadata": {},
   "source": [
    "#### Все текстовые (леммы названий) признаки в ctb, компентенции разными признаками"
   ]
  },
  {
   "cell_type": "code",
   "execution_count": 48,
   "id": "57d04f45",
   "metadata": {},
   "outputs": [],
   "source": [
    "y = data.salary_from\n",
    "X = data.drop('salary_from', axis=1)\n",
    "\n",
    "X = X[ctb_fit_columns + ['spacy_custom_position'] + skills_cols]\n",
    "\n",
    "X = X.rename(columns={'spacy_custom_position':'custom_position'})\n",
    "\n",
    "X['custom_position'] = X['custom_position'].astype('str')\n",
    "\n",
    "X[skills_cols] = X[skills_cols].fillna('нет')\n",
    "\n",
    "model = CatBoostRegressor(verbose=0, text_features=['custom_position'] + skills_cols)\n",
    "\n",
    "kfold = KFold(n_splits=num_folds, random_state=random_state, shuffle=True)\n",
    "\n",
    "start = time.time()\n",
    "\n",
    "scores = cross_validate(model, X, y, cv=kfold, scoring=scoring, return_train_score=False)\n",
    "\n",
    "results.append(scores)\n",
    "names.append('ctb_with_text_feat_v3')\n",
    "end = time.time()\n",
    "times.append(end - start)"
   ]
  },
  {
   "cell_type": "markdown",
   "id": "deed689f",
   "metadata": {},
   "source": [
    "#### Название в виде эмбеддингов FastText, а компетенции текстов в ctb (одним признаком)"
   ]
  },
  {
   "cell_type": "code",
   "execution_count": 68,
   "id": "72a1ba51",
   "metadata": {
    "scrolled": true
   },
   "outputs": [],
   "source": [
    "y = data.salary_from\n",
    "X = data.drop('salary_from', axis=1)\n",
    "\n",
    "X = X[fit_columns + ['work_skills_str']]\n",
    "\n",
    "X.vector_professions = X.vector_professions.apply(ast.literal_eval)\n",
    "\n",
    "vector_professions_df = pd.DataFrame(X.vector_professions.tolist(), columns=[f\"feature_prof_{c}\" for c in range(1, 100+1)])\n",
    "\n",
    "X.reset_index(drop=True, inplace=True)\n",
    "vector_professions_df.reset_index(drop=True, inplace=True)\n",
    "X = pd.concat([X, vector_professions_df], axis=1)\n",
    "\n",
    "X = X.drop(['vector_professions', 'vector_skills'], axis=1)\n",
    "\n",
    "X['work_skills_str'] = X['work_skills_str'].fillna('нет')\n",
    "X['work_skills_str'] = X['work_skills_str'].astype('str')\n",
    "\n",
    "model = CatBoostRegressor(verbose=0, text_features=['work_skills_str'])\n",
    "\n",
    "kfold = KFold(n_splits=num_folds, random_state=random_state, shuffle=True)\n",
    "\n",
    "start = time.time()\n",
    "\n",
    "scores = cross_validate(model, X, y, cv=kfold, scoring=scoring, return_train_score=False)\n",
    "\n",
    "results.append(scores)\n",
    "names.append('ctb_with_text_feat_v4')\n",
    "end = time.time()\n",
    "times.append(end - start)"
   ]
  },
  {
   "cell_type": "markdown",
   "id": "c7990fb3",
   "metadata": {},
   "source": [
    "#### Название в виде эмбеддингов FastText, а компетенции текстов в ctb (разными признаками)"
   ]
  },
  {
   "cell_type": "code",
   "execution_count": 69,
   "id": "77ae7bfe",
   "metadata": {},
   "outputs": [],
   "source": [
    "y = data.salary_from\n",
    "X = data.drop('salary_from', axis=1)\n",
    "\n",
    "X = X[fit_columns + skills_cols]\n",
    "\n",
    "X.vector_professions = X.vector_professions.apply(ast.literal_eval)\n",
    "\n",
    "vector_professions_df = pd.DataFrame(X.vector_professions.tolist(), columns=[f\"feature_prof_{c}\" for c in range(1, 100+1)])\n",
    "X.reset_index(drop=True, inplace=True)\n",
    "vector_professions_df.reset_index(drop=True, inplace=True)\n",
    "X = pd.concat([X, vector_professions_df], axis=1)\n",
    "\n",
    "X = X.drop(['vector_professions', 'vector_skills'], axis=1)\n",
    "\n",
    "X[skills_cols] = X[skills_cols].fillna('нет')\n",
    "\n",
    "model = CatBoostRegressor(verbose=0, text_features=skills_cols)\n",
    "\n",
    "kfold = KFold(n_splits=num_folds, random_state=random_state, shuffle=True)\n",
    "\n",
    "start = time.time()\n",
    "\n",
    "scores = cross_validate(model, X, y, cv=kfold, scoring=scoring, return_train_score=False)\n",
    "\n",
    "results.append(scores)\n",
    "names.append('ctb_with_text_feat_v5')\n",
    "end = time.time()\n",
    "times.append(end - start)"
   ]
  },
  {
   "cell_type": "code",
   "execution_count": 70,
   "id": "4c9a0e2d",
   "metadata": {},
   "outputs": [],
   "source": [
    "result_df = pd.DataFrame(\n",
    "    {'model_name': names,\n",
    "     'MAE': [round(np.mean(np.abs(i['test_neg_mean_absolute_error'])),1) for i in results],\n",
    "     'MAPE': [round(np.mean(np.abs(i['test_neg_mean_absolute_percentage_error']))*100,2) for i in results],\n",
    "     'fit_time': [round(i,3) for i in times]\n",
    "    })\n",
    "\n",
    "result_df['stage'] = 'Exp 2'\n",
    "result_df = result_df[['stage','model_name','MAE','MAPE','fit_time']]"
   ]
  },
  {
   "cell_type": "code",
   "execution_count": 71,
   "id": "220a694d",
   "metadata": {},
   "outputs": [
    {
     "data": {
      "text/html": [
       "<div>\n",
       "<style scoped>\n",
       "    .dataframe tbody tr th:only-of-type {\n",
       "        vertical-align: middle;\n",
       "    }\n",
       "\n",
       "    .dataframe tbody tr th {\n",
       "        vertical-align: top;\n",
       "    }\n",
       "\n",
       "    .dataframe thead th {\n",
       "        text-align: right;\n",
       "    }\n",
       "</style>\n",
       "<table border=\"1\" class=\"dataframe\">\n",
       "  <thead>\n",
       "    <tr style=\"text-align: right;\">\n",
       "      <th></th>\n",
       "      <th>stage</th>\n",
       "      <th>model_name</th>\n",
       "      <th>MAE</th>\n",
       "      <th>MAPE</th>\n",
       "      <th>fit_time</th>\n",
       "    </tr>\n",
       "  </thead>\n",
       "  <tbody>\n",
       "    <tr>\n",
       "      <th>0</th>\n",
       "      <td>baseline</td>\n",
       "      <td>LR</td>\n",
       "      <td>16283.3</td>\n",
       "      <td>29.53</td>\n",
       "      <td>1.720</td>\n",
       "    </tr>\n",
       "    <tr>\n",
       "      <th>1</th>\n",
       "      <td>baseline</td>\n",
       "      <td>RidgeRegression</td>\n",
       "      <td>16267.7</td>\n",
       "      <td>29.49</td>\n",
       "      <td>0.880</td>\n",
       "    </tr>\n",
       "    <tr>\n",
       "      <th>2</th>\n",
       "      <td>baseline</td>\n",
       "      <td>LassoRegression</td>\n",
       "      <td>16266.6</td>\n",
       "      <td>29.49</td>\n",
       "      <td>13.634</td>\n",
       "    </tr>\n",
       "    <tr>\n",
       "      <th>3</th>\n",
       "      <td>baseline</td>\n",
       "      <td>KNNRegression</td>\n",
       "      <td>14986.2</td>\n",
       "      <td>27.60</td>\n",
       "      <td>11.166</td>\n",
       "    </tr>\n",
       "    <tr>\n",
       "      <th>4</th>\n",
       "      <td>baseline</td>\n",
       "      <td>DecisionTreeRegressor</td>\n",
       "      <td>15059.2</td>\n",
       "      <td>28.39</td>\n",
       "      <td>142.998</td>\n",
       "    </tr>\n",
       "    <tr>\n",
       "      <th>5</th>\n",
       "      <td>baseline</td>\n",
       "      <td>CatBoostRegressor</td>\n",
       "      <td>12754.2</td>\n",
       "      <td>23.52</td>\n",
       "      <td>83.855</td>\n",
       "    </tr>\n",
       "    <tr>\n",
       "      <th>0</th>\n",
       "      <td>Exp 1</td>\n",
       "      <td>nltk_custom_position_ctb</td>\n",
       "      <td>12615.5</td>\n",
       "      <td>23.24</td>\n",
       "      <td>83.323</td>\n",
       "    </tr>\n",
       "    <tr>\n",
       "      <th>1</th>\n",
       "      <td>Exp 1</td>\n",
       "      <td>spacy_custom_position_ctb</td>\n",
       "      <td>12580.7</td>\n",
       "      <td>23.17</td>\n",
       "      <td>83.847</td>\n",
       "    </tr>\n",
       "    <tr>\n",
       "      <th>2</th>\n",
       "      <td>Exp 1</td>\n",
       "      <td>stem_custom_position_ctb</td>\n",
       "      <td>12616.2</td>\n",
       "      <td>23.25</td>\n",
       "      <td>83.539</td>\n",
       "    </tr>\n",
       "    <tr>\n",
       "      <th>0</th>\n",
       "      <td>Exp 3</td>\n",
       "      <td>multilingual_e5+ctb</td>\n",
       "      <td>13564.8</td>\n",
       "      <td>25.11</td>\n",
       "      <td>362.827</td>\n",
       "    </tr>\n",
       "    <tr>\n",
       "      <th>0</th>\n",
       "      <td>Exp 2</td>\n",
       "      <td>ctb_with_text_feat_v1</td>\n",
       "      <td>13267.0</td>\n",
       "      <td>24.56</td>\n",
       "      <td>997.558</td>\n",
       "    </tr>\n",
       "    <tr>\n",
       "      <th>1</th>\n",
       "      <td>Exp 2</td>\n",
       "      <td>ctb_with_text_feat_v2</td>\n",
       "      <td>13274.3</td>\n",
       "      <td>24.56</td>\n",
       "      <td>1532.650</td>\n",
       "    </tr>\n",
       "    <tr>\n",
       "      <th>2</th>\n",
       "      <td>Exp 2</td>\n",
       "      <td>ctb_with_text_feat_v3</td>\n",
       "      <td>13823.3</td>\n",
       "      <td>25.45</td>\n",
       "      <td>3288.443</td>\n",
       "    </tr>\n",
       "    <tr>\n",
       "      <th>3</th>\n",
       "      <td>Exp 2</td>\n",
       "      <td>ctb_with_text_feat_v4</td>\n",
       "      <td>13137.9</td>\n",
       "      <td>24.25</td>\n",
       "      <td>4418.991</td>\n",
       "    </tr>\n",
       "    <tr>\n",
       "      <th>4</th>\n",
       "      <td>Exp 2</td>\n",
       "      <td>ctb_with_text_feat_v5</td>\n",
       "      <td>14043.0</td>\n",
       "      <td>25.73</td>\n",
       "      <td>5997.148</td>\n",
       "    </tr>\n",
       "  </tbody>\n",
       "</table>\n",
       "</div>"
      ],
      "text/plain": [
       "      stage                 model_name      MAE   MAPE  fit_time\n",
       "0  baseline                         LR  16283.3  29.53     1.720\n",
       "1  baseline            RidgeRegression  16267.7  29.49     0.880\n",
       "2  baseline            LassoRegression  16266.6  29.49    13.634\n",
       "3  baseline              KNNRegression  14986.2  27.60    11.166\n",
       "4  baseline      DecisionTreeRegressor  15059.2  28.39   142.998\n",
       "5  baseline          CatBoostRegressor  12754.2  23.52    83.855\n",
       "0     Exp 1   nltk_custom_position_ctb  12615.5  23.24    83.323\n",
       "1     Exp 1  spacy_custom_position_ctb  12580.7  23.17    83.847\n",
       "2     Exp 1   stem_custom_position_ctb  12616.2  23.25    83.539\n",
       "0     Exp 3        multilingual_e5+ctb  13564.8  25.11   362.827\n",
       "0     Exp 2      ctb_with_text_feat_v1  13267.0  24.56   997.558\n",
       "1     Exp 2      ctb_with_text_feat_v2  13274.3  24.56  1532.650\n",
       "2     Exp 2      ctb_with_text_feat_v3  13823.3  25.45  3288.443\n",
       "3     Exp 2      ctb_with_text_feat_v4  13137.9  24.25  4418.991\n",
       "4     Exp 2      ctb_with_text_feat_v5  14043.0  25.73  5997.148"
      ]
     },
     "execution_count": 71,
     "metadata": {},
     "output_type": "execute_result"
    }
   ],
   "source": [
    "result_df_all = pd.concat([result_df_all, result_df], axis=0)\n",
    "result_df_all"
   ]
  },
  {
   "cell_type": "code",
   "execution_count": 72,
   "id": "979fb25e",
   "metadata": {},
   "outputs": [],
   "source": [
    "result_df_all.to_excel('results_3.xlsx')"
   ]
  },
  {
   "cell_type": "markdown",
   "id": "264f582c",
   "metadata": {},
   "source": [
    "### Exp 3: использование других эмбеддингов"
   ]
  },
  {
   "cell_type": "code",
   "execution_count": 10,
   "id": "15baa11c",
   "metadata": {},
   "outputs": [],
   "source": [
    "from transformers import AutoTokenizer, AutoModel\n",
    "from sentence_transformers import SentenceTransformer, CrossEncoder, LoggingHandler, losses, InputExample, util"
   ]
  },
  {
   "cell_type": "code",
   "execution_count": 11,
   "id": "fa3978b6",
   "metadata": {},
   "outputs": [],
   "source": [
    "results = []\n",
    "names = []\n",
    "times = []"
   ]
  },
  {
   "cell_type": "markdown",
   "id": "225f2696",
   "metadata": {},
   "source": [
    "#### SentenceTransformer"
   ]
  },
  {
   "cell_type": "code",
   "execution_count": 12,
   "id": "ac3df963",
   "metadata": {},
   "outputs": [],
   "source": [
    "model_name = 'intfloat/multilingual-e5-large'\n",
    "\n",
    "model = SentenceTransformer(model_name)"
   ]
  },
  {
   "cell_type": "code",
   "execution_count": 13,
   "id": "688ca3ce",
   "metadata": {},
   "outputs": [],
   "source": [
    "data['text_desc'] = data['custom_position'] + ' ' + data['work_skills_str']\n",
    "data['text_desc'] = data['text_desc'].fillna('')"
   ]
  },
  {
   "cell_type": "code",
   "execution_count": 14,
   "id": "7ccab693",
   "metadata": {},
   "outputs": [
    {
     "name": "stdout",
     "output_type": "stream",
     "text": [
      "CPU times: total: 2min 12s\n",
      "Wall time: 1min 58s\n"
     ]
    }
   ],
   "source": [
    "%%time\n",
    "\n",
    "embedding_e5 = model.encode(data['text_desc'].values.tolist(), convert_to_tensor=True, device='cuda')"
   ]
  },
  {
   "cell_type": "code",
   "execution_count": 15,
   "id": "f55f03be",
   "metadata": {},
   "outputs": [],
   "source": [
    "numpy_array = embedding_e5.cpu().detach().numpy()\n",
    "\n",
    "df = pd.DataFrame(numpy_array)"
   ]
  },
  {
   "cell_type": "code",
   "execution_count": 16,
   "id": "5a971255",
   "metadata": {},
   "outputs": [],
   "source": [
    "data.reset_index(drop=True, inplace=True)\n",
    "df.reset_index(drop=True, inplace=True)"
   ]
  },
  {
   "cell_type": "code",
   "execution_count": 21,
   "id": "19bc11f1",
   "metadata": {},
   "outputs": [],
   "source": [
    "y = data.salary_from\n",
    "X = data.drop('salary_from', axis=1)"
   ]
  },
  {
   "cell_type": "code",
   "execution_count": 24,
   "id": "9691de89",
   "metadata": {
    "scrolled": true
   },
   "outputs": [],
   "source": [
    "X = X[fit_columns].drop(['vector_skills', 'vector_professions'], axis=1)"
   ]
  },
  {
   "cell_type": "code",
   "execution_count": 26,
   "id": "13f37589",
   "metadata": {},
   "outputs": [],
   "source": [
    "X.reset_index(drop=True, inplace=True)\n",
    "df.reset_index(drop=True, inplace=True)"
   ]
  },
  {
   "cell_type": "code",
   "execution_count": 28,
   "id": "bea9285b",
   "metadata": {},
   "outputs": [],
   "source": [
    "X = pd.concat([X, df], axis=1)"
   ]
  },
  {
   "cell_type": "code",
   "execution_count": 30,
   "id": "08d42237",
   "metadata": {},
   "outputs": [],
   "source": [
    "model = CatBoostRegressor(verbose=0)"
   ]
  },
  {
   "cell_type": "code",
   "execution_count": 32,
   "id": "c379a2bc",
   "metadata": {},
   "outputs": [],
   "source": [
    "start = time.time()\n",
    "kfold = KFold(n_splits=num_folds, random_state=random_state, shuffle=True)\n",
    "\n",
    "scores = cross_validate(model, X, y, cv=kfold, scoring=scoring, return_train_score=False)\n",
    "\n",
    "results.append(scores)\n",
    "names.append('multilingual_e5+ctb')\n",
    "end = time.time()\n",
    "times.append(end - start)"
   ]
  },
  {
   "cell_type": "code",
   "execution_count": 33,
   "id": "b2ea87ed",
   "metadata": {},
   "outputs": [],
   "source": [
    "result_df = pd.DataFrame(\n",
    "    {'model_name': names,\n",
    "     'MAE': [round(np.mean(np.abs(i['test_neg_mean_absolute_error'])),1) for i in results],\n",
    "     'MAPE': [round(np.mean(np.abs(i['test_neg_mean_absolute_percentage_error']))*100,2) for i in results],\n",
    "     'fit_time': [round(i,3) for i in times]\n",
    "    })\n",
    "\n",
    "result_df['stage'] = 'Exp 3'\n",
    "result_df = result_df[['stage','model_name','MAE','MAPE','fit_time']]"
   ]
  },
  {
   "cell_type": "code",
   "execution_count": 38,
   "id": "0d52e9c5",
   "metadata": {},
   "outputs": [
    {
     "data": {
      "text/html": [
       "<div>\n",
       "<style scoped>\n",
       "    .dataframe tbody tr th:only-of-type {\n",
       "        vertical-align: middle;\n",
       "    }\n",
       "\n",
       "    .dataframe tbody tr th {\n",
       "        vertical-align: top;\n",
       "    }\n",
       "\n",
       "    .dataframe thead th {\n",
       "        text-align: right;\n",
       "    }\n",
       "</style>\n",
       "<table border=\"1\" class=\"dataframe\">\n",
       "  <thead>\n",
       "    <tr style=\"text-align: right;\">\n",
       "      <th></th>\n",
       "      <th>stage</th>\n",
       "      <th>model_name</th>\n",
       "      <th>MAE</th>\n",
       "      <th>MAPE</th>\n",
       "      <th>fit_time</th>\n",
       "    </tr>\n",
       "  </thead>\n",
       "  <tbody>\n",
       "    <tr>\n",
       "      <th>0</th>\n",
       "      <td>baseline</td>\n",
       "      <td>LR</td>\n",
       "      <td>16283.3</td>\n",
       "      <td>29.53</td>\n",
       "      <td>1.720</td>\n",
       "    </tr>\n",
       "    <tr>\n",
       "      <th>1</th>\n",
       "      <td>baseline</td>\n",
       "      <td>RidgeRegression</td>\n",
       "      <td>16267.7</td>\n",
       "      <td>29.49</td>\n",
       "      <td>0.880</td>\n",
       "    </tr>\n",
       "    <tr>\n",
       "      <th>2</th>\n",
       "      <td>baseline</td>\n",
       "      <td>LassoRegression</td>\n",
       "      <td>16266.6</td>\n",
       "      <td>29.49</td>\n",
       "      <td>13.634</td>\n",
       "    </tr>\n",
       "    <tr>\n",
       "      <th>3</th>\n",
       "      <td>baseline</td>\n",
       "      <td>KNNRegression</td>\n",
       "      <td>14986.2</td>\n",
       "      <td>27.60</td>\n",
       "      <td>11.166</td>\n",
       "    </tr>\n",
       "    <tr>\n",
       "      <th>4</th>\n",
       "      <td>baseline</td>\n",
       "      <td>DecisionTreeRegressor</td>\n",
       "      <td>15059.2</td>\n",
       "      <td>28.39</td>\n",
       "      <td>142.998</td>\n",
       "    </tr>\n",
       "    <tr>\n",
       "      <th>5</th>\n",
       "      <td>baseline</td>\n",
       "      <td>CatBoostRegressor</td>\n",
       "      <td>12754.2</td>\n",
       "      <td>23.52</td>\n",
       "      <td>83.855</td>\n",
       "    </tr>\n",
       "    <tr>\n",
       "      <th>0</th>\n",
       "      <td>Exp 1</td>\n",
       "      <td>nltk_custom_position_ctb</td>\n",
       "      <td>12615.5</td>\n",
       "      <td>23.24</td>\n",
       "      <td>83.323</td>\n",
       "    </tr>\n",
       "    <tr>\n",
       "      <th>1</th>\n",
       "      <td>Exp 1</td>\n",
       "      <td>spacy_custom_position_ctb</td>\n",
       "      <td>12580.7</td>\n",
       "      <td>23.17</td>\n",
       "      <td>83.847</td>\n",
       "    </tr>\n",
       "    <tr>\n",
       "      <th>2</th>\n",
       "      <td>Exp 1</td>\n",
       "      <td>stem_custom_position_ctb</td>\n",
       "      <td>12616.2</td>\n",
       "      <td>23.25</td>\n",
       "      <td>83.539</td>\n",
       "    </tr>\n",
       "    <tr>\n",
       "      <th>0</th>\n",
       "      <td>Exp 3</td>\n",
       "      <td>multilingual_e5+ctb</td>\n",
       "      <td>13564.8</td>\n",
       "      <td>25.11</td>\n",
       "      <td>362.827</td>\n",
       "    </tr>\n",
       "    <tr>\n",
       "      <th>0</th>\n",
       "      <td>Exp 2</td>\n",
       "      <td>ctb_with_text_feat_v1</td>\n",
       "      <td>13267.0</td>\n",
       "      <td>24.56</td>\n",
       "      <td>997.558</td>\n",
       "    </tr>\n",
       "    <tr>\n",
       "      <th>1</th>\n",
       "      <td>Exp 2</td>\n",
       "      <td>ctb_with_text_feat_v2</td>\n",
       "      <td>13274.3</td>\n",
       "      <td>24.56</td>\n",
       "      <td>1532.650</td>\n",
       "    </tr>\n",
       "    <tr>\n",
       "      <th>2</th>\n",
       "      <td>Exp 2</td>\n",
       "      <td>ctb_with_text_feat_v3</td>\n",
       "      <td>13823.3</td>\n",
       "      <td>25.45</td>\n",
       "      <td>3288.443</td>\n",
       "    </tr>\n",
       "    <tr>\n",
       "      <th>3</th>\n",
       "      <td>Exp 2</td>\n",
       "      <td>ctb_with_text_feat_v4</td>\n",
       "      <td>13137.9</td>\n",
       "      <td>24.25</td>\n",
       "      <td>4418.991</td>\n",
       "    </tr>\n",
       "    <tr>\n",
       "      <th>4</th>\n",
       "      <td>Exp 2</td>\n",
       "      <td>ctb_with_text_feat_v5</td>\n",
       "      <td>14043.0</td>\n",
       "      <td>25.73</td>\n",
       "      <td>5997.148</td>\n",
       "    </tr>\n",
       "    <tr>\n",
       "      <th>0</th>\n",
       "      <td>Hyp tuning</td>\n",
       "      <td>ctb</td>\n",
       "      <td>10936.0</td>\n",
       "      <td>20.40</td>\n",
       "      <td>1.000</td>\n",
       "    </tr>\n",
       "  </tbody>\n",
       "</table>\n",
       "</div>"
      ],
      "text/plain": [
       "        stage                 model_name      MAE   MAPE  fit_time\n",
       "0    baseline                         LR  16283.3  29.53     1.720\n",
       "1    baseline            RidgeRegression  16267.7  29.49     0.880\n",
       "2    baseline            LassoRegression  16266.6  29.49    13.634\n",
       "3    baseline              KNNRegression  14986.2  27.60    11.166\n",
       "4    baseline      DecisionTreeRegressor  15059.2  28.39   142.998\n",
       "5    baseline          CatBoostRegressor  12754.2  23.52    83.855\n",
       "0       Exp 1   nltk_custom_position_ctb  12615.5  23.24    83.323\n",
       "1       Exp 1  spacy_custom_position_ctb  12580.7  23.17    83.847\n",
       "2       Exp 1   stem_custom_position_ctb  12616.2  23.25    83.539\n",
       "0       Exp 3        multilingual_e5+ctb  13564.8  25.11   362.827\n",
       "0       Exp 2      ctb_with_text_feat_v1  13267.0  24.56   997.558\n",
       "1       Exp 2      ctb_with_text_feat_v2  13274.3  24.56  1532.650\n",
       "2       Exp 2      ctb_with_text_feat_v3  13823.3  25.45  3288.443\n",
       "3       Exp 2      ctb_with_text_feat_v4  13137.9  24.25  4418.991\n",
       "4       Exp 2      ctb_with_text_feat_v5  14043.0  25.73  5997.148\n",
       "0  Hyp tuning                        ctb  10936.0  20.40     1.000"
      ]
     },
     "execution_count": 38,
     "metadata": {},
     "output_type": "execute_result"
    }
   ],
   "source": [
    "result_df_all = pd.concat([result_df_all, result_df], axis=0)\n",
    "result_df_all"
   ]
  },
  {
   "cell_type": "code",
   "execution_count": 39,
   "id": "27b827c2",
   "metadata": {},
   "outputs": [],
   "source": [
    "result_df_all.to_excel('results_4.xlsx')"
   ]
  },
  {
   "cell_type": "markdown",
   "id": "1019ae0e",
   "metadata": {},
   "source": [
    "### Hyp tuning"
   ]
  },
  {
   "cell_type": "code",
   "execution_count": 25,
   "id": "40c9a193",
   "metadata": {},
   "outputs": [
    {
     "ename": "NameError",
     "evalue": "name 'ft' is not defined",
     "output_type": "error",
     "traceback": [
      "\u001b[1;31m---------------------------------------------------------------------------\u001b[0m",
      "\u001b[1;31mNameError\u001b[0m                                 Traceback (most recent call last)",
      "Cell \u001b[1;32mIn[25], line 8\u001b[0m\n\u001b[0;32m      5\u001b[0m vector_professions \u001b[38;5;241m=\u001b[39m []\n\u001b[0;32m      7\u001b[0m \u001b[38;5;28;01mfor\u001b[39;00m words \u001b[38;5;129;01min\u001b[39;00m data[\u001b[38;5;124m'\u001b[39m\u001b[38;5;124mspacy_custom_position\u001b[39m\u001b[38;5;124m'\u001b[39m]\u001b[38;5;241m.\u001b[39mvalues\u001b[38;5;241m.\u001b[39mtolist():\n\u001b[1;32m----> 8\u001b[0m     vector \u001b[38;5;241m=\u001b[39m np\u001b[38;5;241m.\u001b[39mmean([ft\u001b[38;5;241m.\u001b[39mget_word_vector(word) \u001b[38;5;28;01mfor\u001b[39;00m word \u001b[38;5;129;01min\u001b[39;00m words\u001b[38;5;241m.\u001b[39msplit(\u001b[38;5;124m'\u001b[39m\u001b[38;5;124m \u001b[39m\u001b[38;5;124m'\u001b[39m)], axis\u001b[38;5;241m=\u001b[39m\u001b[38;5;241m0\u001b[39m)\u001b[38;5;241m.\u001b[39mtolist()\n\u001b[0;32m      9\u001b[0m     vector_professions\u001b[38;5;241m.\u001b[39mappend(vector)\n\u001b[0;32m     11\u001b[0m y \u001b[38;5;241m=\u001b[39m data\u001b[38;5;241m.\u001b[39msalary_from\n",
      "Cell \u001b[1;32mIn[25], line 8\u001b[0m, in \u001b[0;36m<listcomp>\u001b[1;34m(.0)\u001b[0m\n\u001b[0;32m      5\u001b[0m vector_professions \u001b[38;5;241m=\u001b[39m []\n\u001b[0;32m      7\u001b[0m \u001b[38;5;28;01mfor\u001b[39;00m words \u001b[38;5;129;01min\u001b[39;00m data[\u001b[38;5;124m'\u001b[39m\u001b[38;5;124mspacy_custom_position\u001b[39m\u001b[38;5;124m'\u001b[39m]\u001b[38;5;241m.\u001b[39mvalues\u001b[38;5;241m.\u001b[39mtolist():\n\u001b[1;32m----> 8\u001b[0m     vector \u001b[38;5;241m=\u001b[39m np\u001b[38;5;241m.\u001b[39mmean([\u001b[43mft\u001b[49m\u001b[38;5;241m.\u001b[39mget_word_vector(word) \u001b[38;5;28;01mfor\u001b[39;00m word \u001b[38;5;129;01min\u001b[39;00m words\u001b[38;5;241m.\u001b[39msplit(\u001b[38;5;124m'\u001b[39m\u001b[38;5;124m \u001b[39m\u001b[38;5;124m'\u001b[39m)], axis\u001b[38;5;241m=\u001b[39m\u001b[38;5;241m0\u001b[39m)\u001b[38;5;241m.\u001b[39mtolist()\n\u001b[0;32m      9\u001b[0m     vector_professions\u001b[38;5;241m.\u001b[39mappend(vector)\n\u001b[0;32m     11\u001b[0m y \u001b[38;5;241m=\u001b[39m data\u001b[38;5;241m.\u001b[39msalary_from\n",
      "\u001b[1;31mNameError\u001b[0m: name 'ft' is not defined"
     ]
    }
   ],
   "source": [
    "results = []\n",
    "names = []\n",
    "times = []\n",
    "\n",
    "vector_professions = []\n",
    "\n",
    "for words in data['spacy_custom_position'].values.tolist():\n",
    "    vector = np.mean([ft.get_word_vector(word) for word in words.split(' ')], axis=0).tolist()\n",
    "    vector_professions.append(vector)\n",
    "\n",
    "y = data.salary_from\n",
    "X = data.drop('salary_from', axis=1)\n",
    "\n",
    "X['vector_professions'] = vector_professions\n",
    "\n",
    "X = X[fit_columns]\n",
    "\n",
    "vector_professions_df = pd.DataFrame(X.vector_professions.tolist(), columns=[f\"feature_prof_{c}\" for c in range(1, 100+1)])\n",
    "X.reset_index(drop=True, inplace=True)\n",
    "vector_professions_df.reset_index(drop=True, inplace=True)\n",
    "X = pd.concat([X, vector_professions_df], axis=1)\n",
    "\n",
    "vector_skills_df = pd.DataFrame(X.vector_skills.tolist(), columns=[f\"feature_skill_{c}\" for c in range(1, 100+1)])\n",
    "X.reset_index(drop=True, inplace=True)\n",
    "vector_skills_df.reset_index(drop=True, inplace=True)\n",
    "X = pd.concat([X, vector_skills_df], axis=1)\n",
    "\n",
    "X = X.drop(['vector_professions', 'vector_skills'], axis=1)"
   ]
  },
  {
   "cell_type": "code",
   "execution_count": 15,
   "id": "1e210989",
   "metadata": {},
   "outputs": [],
   "source": [
    "def objective(trial):\n",
    "    params = {\n",
    "        \"iterations\": 1000,\n",
    "        \"learning_rate\": trial.suggest_float(\"learning_rate\", 1e-3, 0.1, log=True),\n",
    "        \"depth\": trial.suggest_int(\"depth\", 5, 14),\n",
    "        \"subsample\": trial.suggest_float(\"subsample\", 0.5, 1.0),\n",
    "        \"colsample_bylevel\": trial.suggest_float(\"colsample_bylevel\", 0.5, 1.0),\n",
    "        \"min_data_in_leaf\": trial.suggest_int(\"min_data_in_leaf\", 10, 100),\n",
    "    }\n",
    "\n",
    "    model = CatBoostRegressor(**params, verbose=0)\n",
    "\n",
    "    kfold = KFold(n_splits=num_folds, random_state=random_state, shuffle=True)\n",
    "\n",
    "    scores = cross_validate(model, X, y, cv=kfold, scoring=scoring, return_train_score=False)\n",
    "\n",
    "    return np.mean(np.abs(scores['test_neg_mean_absolute_percentage_error']))"
   ]
  },
  {
   "cell_type": "code",
   "execution_count": 17,
   "id": "f926151d",
   "metadata": {},
   "outputs": [],
   "source": [
    "study = optuna.create_study(direction='minimize')\n",
    "study.optimize(objective, n_trials=50)"
   ]
  },
  {
   "cell_type": "code",
   "execution_count": null,
   "id": "75a56856",
   "metadata": {},
   "outputs": [],
   "source": [
    "best_params = study.best_params\n",
    "print(\"Лучшие гиперпараметры:\", best_params)"
   ]
  },
  {
   "cell_type": "code",
   "execution_count": null,
   "id": "a4634ca7",
   "metadata": {},
   "outputs": [],
   "source": [
    "best_params = {'learning_rate': 0.0952755462771626, 'depth': 10, 'subsample': 0.9148320072886789, 'colsample_bylevel': 0.9986120180597968, 'min_data_in_leaf': 34}"
   ]
  },
  {
   "cell_type": "code",
   "execution_count": null,
   "id": "e1e18abb",
   "metadata": {},
   "outputs": [],
   "source": [
    "model = CatBoostRegressor(**best_params, verbose=0) \n",
    "model.fit(X, y)"
   ]
  },
  {
   "cell_type": "code",
   "execution_count": 20,
   "id": "e78efce5",
   "metadata": {},
   "outputs": [],
   "source": [
    "with open('ctb_reg_best.dill', 'wb') as f:\n",
    "    dill.dump(model, f)"
   ]
  },
  {
   "cell_type": "markdown",
   "id": "14482874",
   "metadata": {},
   "source": [
    "Добавим запись в таблицу с результатами"
   ]
  },
  {
   "cell_type": "code",
   "execution_count": 31,
   "id": "228897ca",
   "metadata": {},
   "outputs": [],
   "source": [
    "results = []\n",
    "names = []\n",
    "times = []\n",
    "\n",
    "model = CatBoostRegressor(**best_params, verbose=0)\n",
    "\n",
    "kfold = KFold(n_splits=num_folds, random_state=random_state, shuffle=True)\n",
    "\n",
    "start = time.time()\n",
    "\n",
    "scores = cross_validate(model, X, y, cv=kfold, scoring=scoring, return_train_score=False)\n",
    "\n",
    "results.append(scores)\n",
    "names.append('ctb')\n",
    "end = time.time()\n",
    "times.append(end - start)"
   ]
  },
  {
   "cell_type": "code",
   "execution_count": 33,
   "id": "c9006c16",
   "metadata": {},
   "outputs": [],
   "source": [
    "result_df = pd.DataFrame(\n",
    "    {'model_name': names,\n",
    "     'MAE': [round(np.mean(np.abs(i['test_neg_mean_absolute_error'])),1) for i in results],\n",
    "     'MAPE': [round(np.mean(np.abs(i['test_neg_mean_absolute_percentage_error']))*100,2) for i in results],\n",
    "     'fit_time': [round(i,3) for i in times]\n",
    "    })\n",
    "\n",
    "result_df['stage'] = 'Hyp tuning'\n",
    "result_df = result_df[['stage','model_name','MAE','MAPE','fit_time']]"
   ]
  },
  {
   "cell_type": "code",
   "execution_count": 50,
   "id": "46cc0eec",
   "metadata": {},
   "outputs": [],
   "source": [
    "result_df_all = pd.concat([result_df_all, result_df], axis=0)"
   ]
  },
  {
   "cell_type": "code",
   "execution_count": 40,
   "id": "9dc9ca0c",
   "metadata": {},
   "outputs": [],
   "source": [
    "result_df_all.to_excel('results_5.xlsx')"
   ]
  },
  {
   "cell_type": "markdown",
   "id": "f4968842",
   "metadata": {},
   "source": [
    "### SHAP"
   ]
  },
  {
   "cell_type": "code",
   "execution_count": null,
   "id": "c7113dce",
   "metadata": {},
   "outputs": [],
   "source": [
    "with open('ctb_reg_best.dill', 'rb') as handle:\n",
    "    model = pickle.load(handle)"
   ]
  },
  {
   "cell_type": "code",
   "execution_count": null,
   "id": "5c7e3315",
   "metadata": {},
   "outputs": [],
   "source": [
    "shap.initjs()"
   ]
  },
  {
   "cell_type": "code",
   "execution_count": null,
   "id": "67cd2a71",
   "metadata": {},
   "outputs": [],
   "source": [
    "explainer = shap.Explainer(model)\n",
    "shap_values = explainer(X)"
   ]
  },
  {
   "cell_type": "code",
   "execution_count": null,
   "id": "c83d6fad",
   "metadata": {},
   "outputs": [],
   "source": [
    "shap.plots.bar(shap_values, max_display=20)"
   ]
  },
  {
   "cell_type": "code",
   "execution_count": null,
   "id": "6b56175f",
   "metadata": {},
   "outputs": [],
   "source": [
    "shap.plots.beeswarm(shap_values, max_display=20)"
   ]
  },
  {
   "cell_type": "code",
   "execution_count": null,
   "id": "dd8a9941",
   "metadata": {},
   "outputs": [],
   "source": [
    "shap.plots.waterfall(shap_values[1])"
   ]
  },
  {
   "cell_type": "code",
   "execution_count": null,
   "id": "0ea0263e",
   "metadata": {},
   "outputs": [],
   "source": [
    "shap.plots.force(shap_values[1], matplotlib=matplotlib)"
   ]
  }
 ],
 "metadata": {
  "kernelspec": {
   "display_name": "Python 3 (ipykernel)",
   "language": "python",
   "name": "python3"
  },
  "language_info": {
   "codemirror_mode": {
    "name": "ipython",
    "version": 3
   },
   "file_extension": ".py",
   "mimetype": "text/x-python",
   "name": "python",
   "nbconvert_exporter": "python",
   "pygments_lexer": "ipython3",
   "version": "3.9.18"
  }
 },
 "nbformat": 4,
 "nbformat_minor": 5
}
