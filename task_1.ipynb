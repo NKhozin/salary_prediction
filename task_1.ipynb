{
 "cells": [
  {
   "cell_type": "code",
   "execution_count": 1,
   "id": "40382602",
   "metadata": {},
   "outputs": [],
   "source": [
    "from sklearn.model_selection import KFold, cross_val_score, train_test_split\n",
    "from sklearn.metrics import mean_absolute_percentage_error\n",
    "from sklearn.tree import DecisionTreeRegressor\n",
    "from collections import Counter\n",
    "from nltk.corpus import stopwords\n",
    "from tqdm import tqdm\n",
    "import fasttext.util\n",
    "import pandas as pd\n",
    "import numpy as np\n",
    "import fasttext\n",
    "import pickle\n",
    "import string\n",
    "import re"
   ]
  },
  {
   "cell_type": "code",
   "execution_count": null,
   "id": "1c20b17b",
   "metadata": {},
   "outputs": [],
   "source": [
    "from StemLemPipe import phrases2lower, phrases_without_excess_symbols, phrases_transform, text2sentences, split_by_words, sentence_split, create_stemmer_lemmer, words_to_ngrams_list, sum_phrases, wordlist2set, stopwords, StemLemPipeline"
   ]
  },
  {
   "cell_type": "code",
   "execution_count": null,
   "id": "8752aaf3",
   "metadata": {},
   "outputs": [],
   "source": [
    "import nltk\n",
    "import spacy\n",
    "from nltk.tokenize import word_tokenize  \n",
    "from nltk.corpus import stopwords\n",
    "from nltk.stem import WordNetLemmatizer\n",
    "from nltk.stem.snowball import SnowballStemmer\n",
    "from nltk.stem.porter import *"
   ]
  },
  {
   "cell_type": "code",
   "execution_count": 2,
   "id": "9fc1ed4b",
   "metadata": {},
   "outputs": [],
   "source": [
    "#Выделение значений в скобках в отдельный столбец\n",
    "#data['brackets'] = data.custom_position.apply(lambda value: re.findall('\\(.*?\\)', value))\n",
    "\n",
    "#Удаление значений в скобках\n",
    "#data['custom_position'] = data.custom_position.apply(lambda value: re.sub(\"\\(.*?\\)\",\"()\", value))"
   ]
  },
  {
   "cell_type": "code",
   "execution_count": 153,
   "id": "85b4ecaa",
   "metadata": {},
   "outputs": [],
   "source": [
    "def spacy_process(text):\n",
    "    doc = nlp(text)\n",
    "    return ' '.join([token.lemma_ for token in doc])\n",
    "\n",
    "def nltk_process(text):\n",
    "    #Tokenization\n",
    "    nltk_tokenList = word_tokenize(text)\n",
    "    \n",
    "    #Stemming\n",
    "    nltk_stemedList = []\n",
    "    for word in nltk_tokenList:\n",
    "        nltk_stemedList.append(p_stemmer.stem(word))\n",
    "    \n",
    "    #Lemmatization\n",
    "    wordnet_lemmatizer = WordNetLemmatizer()\n",
    "    return ' '.join([wordnet_lemmatizer.lemmatize(word) for word in nltk_stemedList])\n",
    "\n",
    "def my_mean_absolute_percentage_error(y_true, y_pred): \n",
    "    y_true, y_pred = np.array(y_true), np.array(y_pred)\n",
    "    return np.mean(np.abs((y_true - y_pred) / y_true)) * 100\n",
    "\n",
    "def prepare_data(data):\n",
    "    data = data.drop(['id','salary_to','work_skills','skill_1','skill_2','skill_3','skill_4','skill_5','skill_6','skill_7','skill_8','skill_9','skill_10'], axis=1)\n",
    "    \n",
    "    top_5_city = data.city_id.value_counts().reset_index()['city_id'].values[:5].tolist()\n",
    "    data.city_id = data.city_id.apply(lambda value: str(value) if value in top_5_city else 'Остальные')\n",
    "\n",
    "    data.required_experience = data.required_experience.fillna('Отсутствует')\n",
    "    \n",
    "    enc_columns = ['schedule','education_name','city_id','required_experience']\n",
    "    enc_data = pd.get_dummies(data[enc_columns], drop_first=True)\n",
    "    \n",
    "    data = data.drop(enc_columns, axis=1)\n",
    "    data = pd.concat([data,enc_data], axis=1)\n",
    "\n",
    "    data.custom_position = data.custom_position.str.lower().str.strip()\n",
    "    return data\n",
    "\n",
    "def get_emb_vector(custom_position, dim_size):\n",
    "    \n",
    "    ft = fasttext.load_model('cc.ru.300.bin')\n",
    "\n",
    "    fasttext.util.reduce_model(ft, dim_size)\n",
    "    \n",
    "    vector_professions = []\n",
    "    for words in custom_position:\n",
    "        vector = np.mean([ft.get_word_vector(word) for word in words.split(' ')], axis=0).tolist()\n",
    "        vector_professions.append(vector)\n",
    "    return vector_professions\n",
    "\n",
    "def get_emb_dataframe(custom_position, dim_size):\n",
    "    \n",
    "    ft = fasttext.load_model('cc.ru.300.bin')\n",
    "\n",
    "    fasttext.util.reduce_model(ft, dim_size)\n",
    "    \n",
    "    vector_professions = []\n",
    "    for words in custom_position:\n",
    "        vector = np.mean([ft.get_word_vector(word) for word in words.split(' ')], axis=0).tolist()\n",
    "        vector_professions.append(vector)\n",
    "        \n",
    "    df_vector_professions = pd.DataFrame(vector_professions, columns=[f\"feature_{c}\" for c in range(1, dim_size+1)])\n",
    "    \n",
    "    return df_vector_professions\n",
    "\n",
    "def cv_fit_predict(data, fit_cols, text_col_name):\n",
    "    \n",
    "    data = data[fit_cols]\n",
    "    \n",
    "    df_vector_professions_300 = get_emb_dataframe(data[text_col_name].values.tolist(), 300)\n",
    "    \n",
    "    data = pd.concat([data, df_vector_professions_300], axis=1)\n",
    "    \n",
    "    y = data.salary_from\n",
    "    X = data.drop(['salary_from', text_col_name], axis=1)\n",
    "    \n",
    "    num_folds = 5\n",
    "    random_state = 42\n",
    "    scoring = 'neg_mean_absolute_error'\n",
    "    \n",
    "    X_train, X_test, y_train, y_test = train_test_split(X, y, test_size=0.2, random_state=random_state)\n",
    "    \n",
    "    model = DecisionTreeRegressor(random_state=random_state)\n",
    "    \n",
    "    kfold = KFold(n_splits=num_folds, random_state=random_state, shuffle=True)\n",
    "    \n",
    "    cv_results = -1 * cross_val_score(model, X_train, y_train, cv=kfold, scoring=scoring)\n",
    "    \n",
    "    print([round(i,1) for i in cv_results])\n",
    "    print(round(cv_results.mean(),2))"
   ]
  },
  {
   "cell_type": "code",
   "execution_count": 228,
   "id": "5721ae10",
   "metadata": {},
   "outputs": [],
   "source": [
    "base_fit_cols = ['salary_from', 'count_skills',\n",
    "       'schedule_полный рабочий день', 'schedule_свободный график',\n",
    "       'schedule_сменный график', 'schedule_удаленная работа',\n",
    "       'schedule_частичная занятость', 'education_name_высшее (бакалавр)',\n",
    "       'education_name_любое', 'education_name_неполное высшее',\n",
    "       'education_name_среднее', 'education_name_среднее профессиональное',\n",
    "       'city_id_10', 'city_id_174', 'city_id_3', 'city_id_36',\n",
    "       'city_id_Остальные', 'required_experience_Нет опыта',\n",
    "       'required_experience_От 1 года до 3 лет',\n",
    "       'required_experience_От 3 до 6 лет', 'required_experience_Отсутствует']"
   ]
  },
  {
   "cell_type": "code",
   "execution_count": 4,
   "id": "ff9b5b37",
   "metadata": {},
   "outputs": [],
   "source": [
    "data = pd.read_csv('students_vacancies_10Nov2023.csv')"
   ]
  },
  {
   "cell_type": "code",
   "execution_count": 5,
   "id": "c11245e9",
   "metadata": {},
   "outputs": [
    {
     "data": {
      "text/plain": [
       "(663547, 20)"
      ]
     },
     "execution_count": 5,
     "metadata": {},
     "output_type": "execute_result"
    }
   ],
   "source": [
    "data.shape"
   ]
  },
  {
   "cell_type": "code",
   "execution_count": 6,
   "id": "3bbb6b6d",
   "metadata": {},
   "outputs": [
    {
     "name": "stdout",
     "output_type": "stream",
     "text": [
      "CPU times: total: 641 ms\n",
      "Wall time: 649 ms\n"
     ]
    }
   ],
   "source": [
    "%%time\n",
    "\n",
    "data = prepare_data(data)"
   ]
  },
  {
   "cell_type": "code",
   "execution_count": 7,
   "id": "e50d0de4",
   "metadata": {},
   "outputs": [
    {
     "name": "stdout",
     "output_type": "stream",
     "text": [
      "[4396.8, 4328.4, 4312.8, 4378.2, 4258.4]\n",
      "4334.93\n"
     ]
    }
   ],
   "source": [
    "#Лучшее среднее значение MAE на 5 фолдах: 4335\n",
    "\n",
    "cv_fit_predict(data, base_fit_cols+['custom_position'], text_col_name='custom_position')"
   ]
  },
  {
   "cell_type": "code",
   "execution_count": 8,
   "id": "9147f503",
   "metadata": {},
   "outputs": [],
   "source": [
    "#Замена знаков пунктуации\n",
    "data['custom_position'] = data.custom_position.apply(lambda value: re.sub(r'[^\\w\\s]', ' ', value))\n",
    "\n",
    "#Удаление лишних пробелов\n",
    "data['custom_position'] = data.custom_position.apply(lambda value: re.sub('\\s+', ' ', value).strip())"
   ]
  },
  {
   "cell_type": "code",
   "execution_count": 9,
   "id": "0084e5a5",
   "metadata": {},
   "outputs": [
    {
     "data": {
      "text/html": [
       "<div>\n",
       "<style scoped>\n",
       "    .dataframe tbody tr th:only-of-type {\n",
       "        vertical-align: middle;\n",
       "    }\n",
       "\n",
       "    .dataframe tbody tr th {\n",
       "        vertical-align: top;\n",
       "    }\n",
       "\n",
       "    .dataframe thead th {\n",
       "        text-align: right;\n",
       "    }\n",
       "</style>\n",
       "<table border=\"1\" class=\"dataframe\">\n",
       "  <thead>\n",
       "    <tr style=\"text-align: right;\">\n",
       "      <th></th>\n",
       "      <th>index</th>\n",
       "      <th>0</th>\n",
       "    </tr>\n",
       "  </thead>\n",
       "  <tbody>\n",
       "    <tr>\n",
       "      <th>4</th>\n",
       "      <td>грузчик</td>\n",
       "      <td>232880</td>\n",
       "    </tr>\n",
       "    <tr>\n",
       "      <th>6</th>\n",
       "      <td>мерчендайзер</td>\n",
       "      <td>229047</td>\n",
       "    </tr>\n",
       "    <tr>\n",
       "      <th>1</th>\n",
       "      <td>кассир</td>\n",
       "      <td>184358</td>\n",
       "    </tr>\n",
       "    <tr>\n",
       "      <th>0</th>\n",
       "      <td>продавец</td>\n",
       "      <td>177933</td>\n",
       "    </tr>\n",
       "    <tr>\n",
       "      <th>5</th>\n",
       "      <td>старший</td>\n",
       "      <td>135251</td>\n",
       "    </tr>\n",
       "    <tr>\n",
       "      <th>2</th>\n",
       "      <td>сотрудник</td>\n",
       "      <td>119644</td>\n",
       "    </tr>\n",
       "    <tr>\n",
       "      <th>3</th>\n",
       "      <td>супермаркета</td>\n",
       "      <td>118817</td>\n",
       "    </tr>\n",
       "    <tr>\n",
       "      <th>12</th>\n",
       "      <td>администратор</td>\n",
       "      <td>86853</td>\n",
       "    </tr>\n",
       "    <tr>\n",
       "      <th>47</th>\n",
       "      <td>по</td>\n",
       "      <td>28274</td>\n",
       "    </tr>\n",
       "    <tr>\n",
       "      <th>19</th>\n",
       "      <td>водитель</td>\n",
       "      <td>19136</td>\n",
       "    </tr>\n",
       "    <tr>\n",
       "      <th>37</th>\n",
       "      <td>штатный</td>\n",
       "      <td>18136</td>\n",
       "    </tr>\n",
       "    <tr>\n",
       "      <th>46</th>\n",
       "      <td>специалист</td>\n",
       "      <td>15583</td>\n",
       "    </tr>\n",
       "    <tr>\n",
       "      <th>24</th>\n",
       "      <td>с</td>\n",
       "      <td>13688</td>\n",
       "    </tr>\n",
       "    <tr>\n",
       "      <th>87</th>\n",
       "      <td>курьер</td>\n",
       "      <td>13521</td>\n",
       "    </tr>\n",
       "    <tr>\n",
       "      <th>59</th>\n",
       "      <td>приемке</td>\n",
       "      <td>12128</td>\n",
       "    </tr>\n",
       "    <tr>\n",
       "      <th>10</th>\n",
       "      <td>сборщик</td>\n",
       "      <td>11927</td>\n",
       "    </tr>\n",
       "    <tr>\n",
       "      <th>30</th>\n",
       "      <td>магнит</td>\n",
       "      <td>11747</td>\n",
       "    </tr>\n",
       "    <tr>\n",
       "      <th>29</th>\n",
       "      <td>магазина</td>\n",
       "      <td>11395</td>\n",
       "    </tr>\n",
       "    <tr>\n",
       "      <th>72</th>\n",
       "      <td>заказов</td>\n",
       "      <td>10764</td>\n",
       "    </tr>\n",
       "    <tr>\n",
       "      <th>53</th>\n",
       "      <td>менеджер</td>\n",
       "      <td>10535</td>\n",
       "    </tr>\n",
       "  </tbody>\n",
       "</table>\n",
       "</div>"
      ],
      "text/plain": [
       "            index       0\n",
       "4         грузчик  232880\n",
       "6    мерчендайзер  229047\n",
       "1          кассир  184358\n",
       "0        продавец  177933\n",
       "5         старший  135251\n",
       "2       сотрудник  119644\n",
       "3    супермаркета  118817\n",
       "12  администратор   86853\n",
       "47             по   28274\n",
       "19       водитель   19136\n",
       "37        штатный   18136\n",
       "46     специалист   15583\n",
       "24              с   13688\n",
       "87         курьер   13521\n",
       "59        приемке   12128\n",
       "10        сборщик   11927\n",
       "30         магнит   11747\n",
       "29       магазина   11395\n",
       "72        заказов   10764\n",
       "53       менеджер   10535"
      ]
     },
     "execution_count": 9,
     "metadata": {},
     "output_type": "execute_result"
    }
   ],
   "source": [
    "words  = []\n",
    "\n",
    "for sublist in [i.split(' ') for i in data.custom_position.to_list()]:\n",
    "    for item in sublist:\n",
    "        words.append(item)\n",
    "        \n",
    "cnt_df = pd.DataFrame.from_dict(Counter(words), orient='index').reset_index()\n",
    "cnt_df.sort_values(by=0, ascending=False).head(20)"
   ]
  },
  {
   "cell_type": "code",
   "execution_count": 10,
   "id": "9574d782",
   "metadata": {},
   "outputs": [],
   "source": [
    "#Заменяем ка и ца\n",
    "data['custom_position'] = data['custom_position'].replace({' ца ':' ', ' ка ':' '}, regex=True)"
   ]
  },
  {
   "cell_type": "code",
   "execution_count": 11,
   "id": "e522cf9c",
   "metadata": {},
   "outputs": [],
   "source": [
    "#Очищаем от стоп слов\n",
    "stopwords = stopwords.words(\"russian\")\n",
    "data.custom_position = data.custom_position.apply(lambda value: ' '.join([word for word in value.split(' ') if word not in stopwords]))"
   ]
  },
  {
   "cell_type": "code",
   "execution_count": 65,
   "id": "6d073159",
   "metadata": {},
   "outputs": [],
   "source": [
    "example = data.custom_position.values.tolist()[:10000]"
   ]
  },
  {
   "cell_type": "code",
   "execution_count": 62,
   "id": "1c454229",
   "metadata": {},
   "outputs": [],
   "source": [
    "nlp = spacy.load('ru_core_news_sm')"
   ]
  },
  {
   "cell_type": "code",
   "execution_count": 66,
   "id": "74a975ef",
   "metadata": {},
   "outputs": [
    {
     "name": "stdout",
     "output_type": "stream",
     "text": [
      "CPU times: total: 28.6 s\n",
      "Wall time: 28.6 s\n"
     ]
    }
   ],
   "source": [
    "%%time\n",
    "\n",
    "spacy_example = [spacy_process(i) for i in example]"
   ]
  },
  {
   "cell_type": "code",
   "execution_count": 70,
   "id": "ddfa288c",
   "metadata": {},
   "outputs": [
    {
     "data": {
      "text/plain": [
       "31.629073666666667"
      ]
     },
     "execution_count": 70,
     "metadata": {},
     "output_type": "execute_result"
    }
   ],
   "source": [
    "data.shape[0]/10000*28.6/60"
   ]
  },
  {
   "cell_type": "code",
   "execution_count": 76,
   "id": "610e76ba",
   "metadata": {},
   "outputs": [
    {
     "name": "stdout",
     "output_type": "stream",
     "text": [
      "CPU times: total: 27min 32s\n",
      "Wall time: 27min 33s\n"
     ]
    }
   ],
   "source": [
    "%%time\n",
    "\n",
    "data['spacy_custom_position'] = data.custom_position.apply(lambda value: spacy_process(value))"
   ]
  },
  {
   "cell_type": "code",
   "execution_count": 71,
   "id": "b09bd46c",
   "metadata": {},
   "outputs": [],
   "source": [
    "p_stemmer = PorterStemmer()\n",
    "\n",
    "#s_stemmer = SnowballStemmer(language='english')"
   ]
  },
  {
   "cell_type": "code",
   "execution_count": 73,
   "id": "9734bc64",
   "metadata": {},
   "outputs": [
    {
     "name": "stdout",
     "output_type": "stream",
     "text": [
      "CPU times: total: 797 ms\n",
      "Wall time: 914 ms\n"
     ]
    }
   ],
   "source": [
    "%%time\n",
    "\n",
    "nltk_example = [nltk_process(i) for i in example]"
   ]
  },
  {
   "cell_type": "code",
   "execution_count": 74,
   "id": "ee361f82",
   "metadata": {},
   "outputs": [
    {
     "data": {
      "text/plain": [
       "1.1059116666666666"
      ]
     },
     "execution_count": 74,
     "metadata": {},
     "output_type": "execute_result"
    }
   ],
   "source": [
    "data.shape[0]/10000*1/60"
   ]
  },
  {
   "cell_type": "code",
   "execution_count": 79,
   "id": "46522098",
   "metadata": {},
   "outputs": [
    {
     "name": "stdout",
     "output_type": "stream",
     "text": [
      "CPU times: total: 56.2 s\n",
      "Wall time: 56.3 s\n"
     ]
    }
   ],
   "source": [
    "%%time\n",
    "\n",
    "data['nltk_custom_position'] = data.custom_position.apply(lambda value: nltk_process(value))"
   ]
  },
  {
   "cell_type": "code",
   "execution_count": 114,
   "id": "8d0cb929",
   "metadata": {},
   "outputs": [],
   "source": [
    "stem_lem = create_stemmer_lemmer(lemmatizer_backend='pymorphy', stemmer_backend='snowball')"
   ]
  },
  {
   "cell_type": "code",
   "execution_count": 115,
   "id": "fe931941",
   "metadata": {},
   "outputs": [],
   "source": [
    "data['stem_custom_position'] = phrases_transform(data.custom_position.to_list(), func = stem_lem)"
   ]
  },
  {
   "cell_type": "code",
   "execution_count": 81,
   "id": "a8b357a1",
   "metadata": {},
   "outputs": [],
   "source": [
    "data.to_csv('data_ext.csv')"
   ]
  },
  {
   "cell_type": "code",
   "execution_count": 83,
   "id": "f5be1c1f",
   "metadata": {},
   "outputs": [
    {
     "data": {
      "text/html": [
       "<div>\n",
       "<style scoped>\n",
       "    .dataframe tbody tr th:only-of-type {\n",
       "        vertical-align: middle;\n",
       "    }\n",
       "\n",
       "    .dataframe tbody tr th {\n",
       "        vertical-align: top;\n",
       "    }\n",
       "\n",
       "    .dataframe thead th {\n",
       "        text-align: right;\n",
       "    }\n",
       "</style>\n",
       "<table border=\"1\" class=\"dataframe\">\n",
       "  <thead>\n",
       "    <tr style=\"text-align: right;\">\n",
       "      <th></th>\n",
       "      <th>custom_position</th>\n",
       "      <th>spacy_custom_position</th>\n",
       "    </tr>\n",
       "  </thead>\n",
       "  <tbody>\n",
       "    <tr>\n",
       "      <th>2</th>\n",
       "      <td>кассир сотрудник супермаркета</td>\n",
       "      <td>кассир сотрудник супермаркет</td>\n",
       "    </tr>\n",
       "    <tr>\n",
       "      <th>4</th>\n",
       "      <td>продавец старший сотрудник супермаркета</td>\n",
       "      <td>продавец старший сотрудник супермаркет</td>\n",
       "    </tr>\n",
       "    <tr>\n",
       "      <th>5</th>\n",
       "      <td>продавец старший сотрудник супермаркета</td>\n",
       "      <td>продавец старший сотрудник супермаркет</td>\n",
       "    </tr>\n",
       "    <tr>\n",
       "      <th>8</th>\n",
       "      <td>продавец сотрудник супермаркета</td>\n",
       "      <td>продавец сотрудник супермаркет</td>\n",
       "    </tr>\n",
       "    <tr>\n",
       "      <th>11</th>\n",
       "      <td>продавец старший сотрудник супермаркета</td>\n",
       "      <td>продавец старший сотрудник супермаркет</td>\n",
       "    </tr>\n",
       "    <tr>\n",
       "      <th>...</th>\n",
       "      <td>...</td>\n",
       "      <td>...</td>\n",
       "    </tr>\n",
       "    <tr>\n",
       "      <th>663540</th>\n",
       "      <td>продавец магазина магнит</td>\n",
       "      <td>продавец магазин магнит</td>\n",
       "    </tr>\n",
       "    <tr>\n",
       "      <th>663541</th>\n",
       "      <td>старший кассир старший сотрудник супермаркета</td>\n",
       "      <td>старший кассир старший сотрудник супермаркет</td>\n",
       "    </tr>\n",
       "    <tr>\n",
       "      <th>663544</th>\n",
       "      <td>менеджер продажам турагентство anex tour</td>\n",
       "      <td>менеджер продажа турагентство anex tour</td>\n",
       "    </tr>\n",
       "    <tr>\n",
       "      <th>663545</th>\n",
       "      <td>специалист приемке сотрудник супермаркета</td>\n",
       "      <td>специалист приёмка сотрудник супермаркет</td>\n",
       "    </tr>\n",
       "    <tr>\n",
       "      <th>663546</th>\n",
       "      <td>сборщик заказов подработка</td>\n",
       "      <td>сборщик заказ подработка</td>\n",
       "    </tr>\n",
       "  </tbody>\n",
       "</table>\n",
       "<p>205923 rows × 2 columns</p>\n",
       "</div>"
      ],
      "text/plain": [
       "                                      custom_position  \\\n",
       "2                       кассир сотрудник супермаркета   \n",
       "4             продавец старший сотрудник супермаркета   \n",
       "5             продавец старший сотрудник супермаркета   \n",
       "8                     продавец сотрудник супермаркета   \n",
       "11            продавец старший сотрудник супермаркета   \n",
       "...                                               ...   \n",
       "663540                       продавец магазина магнит   \n",
       "663541  старший кассир старший сотрудник супермаркета   \n",
       "663544       менеджер продажам турагентство anex tour   \n",
       "663545      специалист приемке сотрудник супермаркета   \n",
       "663546                     сборщик заказов подработка   \n",
       "\n",
       "                               spacy_custom_position  \n",
       "2                       кассир сотрудник супермаркет  \n",
       "4             продавец старший сотрудник супермаркет  \n",
       "5             продавец старший сотрудник супермаркет  \n",
       "8                     продавец сотрудник супермаркет  \n",
       "11            продавец старший сотрудник супермаркет  \n",
       "...                                              ...  \n",
       "663540                       продавец магазин магнит  \n",
       "663541  старший кассир старший сотрудник супермаркет  \n",
       "663544       менеджер продажа турагентство anex tour  \n",
       "663545      специалист приёмка сотрудник супермаркет  \n",
       "663546                      сборщик заказ подработка  \n",
       "\n",
       "[205923 rows x 2 columns]"
      ]
     },
     "execution_count": 83,
     "metadata": {},
     "output_type": "execute_result"
    }
   ],
   "source": [
    "data[data['spacy_custom_position']!=data['custom_position']][['custom_position','spacy_custom_position']]"
   ]
  },
  {
   "cell_type": "code",
   "execution_count": 82,
   "id": "3fa0c17e",
   "metadata": {},
   "outputs": [
    {
     "data": {
      "text/html": [
       "<div>\n",
       "<style scoped>\n",
       "    .dataframe tbody tr th:only-of-type {\n",
       "        vertical-align: middle;\n",
       "    }\n",
       "\n",
       "    .dataframe tbody tr th {\n",
       "        vertical-align: top;\n",
       "    }\n",
       "\n",
       "    .dataframe thead th {\n",
       "        text-align: right;\n",
       "    }\n",
       "</style>\n",
       "<table border=\"1\" class=\"dataframe\">\n",
       "  <thead>\n",
       "    <tr style=\"text-align: right;\">\n",
       "      <th></th>\n",
       "      <th>custom_position</th>\n",
       "      <th>nltk_custom_position</th>\n",
       "    </tr>\n",
       "  </thead>\n",
       "  <tbody>\n",
       "    <tr>\n",
       "      <th>1486</th>\n",
       "      <td>помощник менеджера проектов junior project man...</td>\n",
       "      <td>помощник менеджера проектов junior project man...</td>\n",
       "    </tr>\n",
       "    <tr>\n",
       "      <th>4878</th>\n",
       "      <td>консультант бренда iqos</td>\n",
       "      <td>консультант бренда iqo</td>\n",
       "    </tr>\n",
       "    <tr>\n",
       "      <th>8974</th>\n",
       "      <td>менеджер интернет магазина online</td>\n",
       "      <td>менеджер интернет магазина onlin</td>\n",
       "    </tr>\n",
       "    <tr>\n",
       "      <th>11173</th>\n",
       "      <td>интернет маркетолог digital</td>\n",
       "      <td>интернет маркетолог digit</td>\n",
       "    </tr>\n",
       "    <tr>\n",
       "      <th>12576</th>\n",
       "      <td>менеджер работе маркетплейсами маркет озон wil...</td>\n",
       "      <td>менеджер работе маркетплейсами маркет озон wil...</td>\n",
       "    </tr>\n",
       "    <tr>\n",
       "      <th>...</th>\n",
       "      <td>...</td>\n",
       "      <td>...</td>\n",
       "    </tr>\n",
       "    <tr>\n",
       "      <th>662874</th>\n",
       "      <td>предлагаем удаленную работу вложений получайте...</td>\n",
       "      <td>предлагаем удаленную работу вложений получайте...</td>\n",
       "    </tr>\n",
       "    <tr>\n",
       "      <th>662889</th>\n",
       "      <td>предлагаем удаленную работу вложений получайте...</td>\n",
       "      <td>предлагаем удаленную работу вложений получайте...</td>\n",
       "    </tr>\n",
       "    <tr>\n",
       "      <th>662893</th>\n",
       "      <td>предлагаем удаленную работу вложений получайте...</td>\n",
       "      <td>предлагаем удаленную работу вложений получайте...</td>\n",
       "    </tr>\n",
       "    <tr>\n",
       "      <th>662901</th>\n",
       "      <td>предлагаем удаленную работу вложений получайте...</td>\n",
       "      <td>предлагаем удаленную работу вложений получайте...</td>\n",
       "    </tr>\n",
       "    <tr>\n",
       "      <th>662910</th>\n",
       "      <td>предлагаем удаленную работу вложений получайте...</td>\n",
       "      <td>предлагаем удаленную работу вложений получайте...</td>\n",
       "    </tr>\n",
       "  </tbody>\n",
       "</table>\n",
       "<p>342 rows × 2 columns</p>\n",
       "</div>"
      ],
      "text/plain": [
       "                                          custom_position  \\\n",
       "1486    помощник менеджера проектов junior project man...   \n",
       "4878                              консультант бренда iqos   \n",
       "8974                    менеджер интернет магазина online   \n",
       "11173                         интернет маркетолог digital   \n",
       "12576   менеджер работе маркетплейсами маркет озон wil...   \n",
       "...                                                   ...   \n",
       "662874  предлагаем удаленную работу вложений получайте...   \n",
       "662889  предлагаем удаленную работу вложений получайте...   \n",
       "662893  предлагаем удаленную работу вложений получайте...   \n",
       "662901  предлагаем удаленную работу вложений получайте...   \n",
       "662910  предлагаем удаленную работу вложений получайте...   \n",
       "\n",
       "                                     nltk_custom_position  \n",
       "1486    помощник менеджера проектов junior project man...  \n",
       "4878                               консультант бренда iqo  \n",
       "8974                     менеджер интернет магазина onlin  \n",
       "11173                           интернет маркетолог digit  \n",
       "12576   менеджер работе маркетплейсами маркет озон wil...  \n",
       "...                                                   ...  \n",
       "662874  предлагаем удаленную работу вложений получайте...  \n",
       "662889  предлагаем удаленную работу вложений получайте...  \n",
       "662893  предлагаем удаленную работу вложений получайте...  \n",
       "662901  предлагаем удаленную работу вложений получайте...  \n",
       "662910  предлагаем удаленную работу вложений получайте...  \n",
       "\n",
       "[342 rows x 2 columns]"
      ]
     },
     "execution_count": 82,
     "metadata": {},
     "output_type": "execute_result"
    }
   ],
   "source": [
    "data[data['nltk_custom_position']!=data['custom_position']][['custom_position','nltk_custom_position']]"
   ]
  },
  {
   "cell_type": "code",
   "execution_count": 101,
   "id": "dfdf1c18",
   "metadata": {},
   "outputs": [
    {
     "name": "stdout",
     "output_type": "stream",
     "text": [
      "[4374.2, 4295.6, 4262.4, 4271.4, 4285.7]\n",
      "4297.87\n"
     ]
    }
   ],
   "source": [
    "text_col_name = 'spacy_custom_position'\n",
    "\n",
    "cv_fit_predict(data, base_fit_cols+[text_col_name], text_col_name=text_col_name)"
   ]
  },
  {
   "cell_type": "code",
   "execution_count": 102,
   "id": "4b1b237b",
   "metadata": {},
   "outputs": [
    {
     "name": "stdout",
     "output_type": "stream",
     "text": [
      "[4331.8, 4305.8, 4278.8, 4283.6, 4268.3]\n",
      "4293.65\n"
     ]
    }
   ],
   "source": [
    "text_col_name = 'nltk_custom_position'\n",
    "\n",
    "cv_fit_predict(data, base_fit_cols+[text_col_name], text_col_name=text_col_name)"
   ]
  },
  {
   "cell_type": "code",
   "execution_count": 116,
   "id": "dc36be67",
   "metadata": {},
   "outputs": [
    {
     "name": "stdout",
     "output_type": "stream",
     "text": [
      "[4357.5, 4326.9, 4270.3, 4284.1, 4310.4]\n",
      "4309.85\n"
     ]
    }
   ],
   "source": [
    "text_col_name = 'stem_custom_position'\n",
    "\n",
    "cv_fit_predict(data, base_fit_cols+[text_col_name], text_col_name=text_col_name)"
   ]
  },
  {
   "cell_type": "markdown",
   "id": "54d55bcf",
   "metadata": {},
   "source": [
    "### CatBoost"
   ]
  },
  {
   "cell_type": "code",
   "execution_count": 154,
   "id": "26b6f17f",
   "metadata": {},
   "outputs": [],
   "source": [
    "from catboost import Pool, CatBoostRegressor"
   ]
  },
  {
   "cell_type": "code",
   "execution_count": 155,
   "id": "0a32630e",
   "metadata": {},
   "outputs": [],
   "source": [
    "emb = get_emb_vector(data['custom_position'].values.tolist(), 300)"
   ]
  },
  {
   "cell_type": "code",
   "execution_count": 156,
   "id": "89f7c542",
   "metadata": {},
   "outputs": [],
   "source": [
    "ctb_data = data[base_fit_cols+['custom_position']]"
   ]
  },
  {
   "cell_type": "code",
   "execution_count": 158,
   "id": "04162681",
   "metadata": {},
   "outputs": [
    {
     "name": "stderr",
     "output_type": "stream",
     "text": [
      "C:\\Users\\User\\AppData\\Local\\Temp\\ipykernel_2728\\252822995.py:1: SettingWithCopyWarning: \n",
      "A value is trying to be set on a copy of a slice from a DataFrame.\n",
      "Try using .loc[row_indexer,col_indexer] = value instead\n",
      "\n",
      "See the caveats in the documentation: https://pandas.pydata.org/pandas-docs/stable/user_guide/indexing.html#returning-a-view-versus-a-copy\n",
      "  ctb_data['emb'] = emb\n"
     ]
    }
   ],
   "source": [
    "ctb_data['emb'] = emb"
   ]
  },
  {
   "cell_type": "code",
   "execution_count": 159,
   "id": "3e424ed3",
   "metadata": {},
   "outputs": [],
   "source": [
    "y = ctb_data.salary_from\n",
    "X = ctb_data.drop(['salary_from', 'custom_position'], axis=1)"
   ]
  },
  {
   "cell_type": "code",
   "execution_count": 160,
   "id": "bbfd5203",
   "metadata": {},
   "outputs": [],
   "source": [
    "X_train, X_test, y_train, y_test = train_test_split(X, y, test_size=0.2, random_state=random_state)"
   ]
  },
  {
   "cell_type": "code",
   "execution_count": 166,
   "id": "211c3579",
   "metadata": {},
   "outputs": [],
   "source": [
    "emb_features = ['emb']"
   ]
  },
  {
   "cell_type": "code",
   "execution_count": 172,
   "id": "6f4f4b30",
   "metadata": {},
   "outputs": [],
   "source": [
    "cat_params = {\n",
    "        'iterations': 1000,\n",
    "        'early_stopping_rounds': 100,\n",
    "        'loss_function': \"MAPE\",\n",
    "        'random_seed': 42,\n",
    "        'embedding_features': emb_features,\n",
    "    }"
   ]
  },
  {
   "cell_type": "code",
   "execution_count": 173,
   "id": "49a508f8",
   "metadata": {},
   "outputs": [],
   "source": [
    "train_pool = Pool(\n",
    "                data=X_train,\n",
    "                label=y_train,\n",
    "                embedding_features=emb_features)"
   ]
  },
  {
   "cell_type": "code",
   "execution_count": 176,
   "id": "7b32a3b2",
   "metadata": {},
   "outputs": [],
   "source": [
    "model = CatBoostRegressor(**cat_params)"
   ]
  },
  {
   "cell_type": "code",
   "execution_count": 177,
   "id": "031cb282",
   "metadata": {},
   "outputs": [
    {
     "data": {
      "text/plain": [
       "<catboost.core.CatBoostRegressor at 0x1af9a1867d0>"
      ]
     },
     "execution_count": 177,
     "metadata": {},
     "output_type": "execute_result"
    }
   ],
   "source": [
    "model.fit(train_pool)"
   ]
  },
  {
   "cell_type": "code",
   "execution_count": 178,
   "id": "a6df7cf4",
   "metadata": {},
   "outputs": [
    {
     "name": "stdout",
     "output_type": "stream",
     "text": [
      "train MAPE:  0.18186194374273493\n",
      "test MAPE:  0.1826064062388584\n"
     ]
    }
   ],
   "source": [
    "y_train_pred = model.predict(X_train)\n",
    "\n",
    "print('train MAPE: ',mean_absolute_percentage_error(y_train, y_train_pred))\n",
    "\n",
    "y_test_pred = model.predict(X_test)\n",
    "\n",
    "print('test MAPE: ',mean_absolute_percentage_error(y_test, y_test_pred))"
   ]
  },
  {
   "cell_type": "code",
   "execution_count": null,
   "id": "85426a60",
   "metadata": {},
   "outputs": [],
   "source": []
  },
  {
   "cell_type": "code",
   "execution_count": null,
   "id": "57452744",
   "metadata": {},
   "outputs": [],
   "source": []
  },
  {
   "cell_type": "code",
   "execution_count": 249,
   "id": "6e11c45a",
   "metadata": {},
   "outputs": [],
   "source": [
    "cnt = 21\n",
    "\n",
    "my_data = cnt_df.sort_values(by=0, ascending=False)\n",
    "my_data.columns=['word','cnt']"
   ]
  },
  {
   "cell_type": "code",
   "execution_count": 250,
   "id": "ae7d41dd",
   "metadata": {},
   "outputs": [],
   "source": [
    "my_data['rank'] = my_data['cnt'].rank() #method='dense'\n",
    "my_data['rank_perc'] = my_data['rank']/my_data.shape[0]*100"
   ]
  },
  {
   "cell_type": "code",
   "execution_count": 251,
   "id": "09959e41",
   "metadata": {},
   "outputs": [],
   "source": [
    "words = my_data[my_data['cnt']>5].word.to_list()"
   ]
  },
  {
   "cell_type": "code",
   "execution_count": 253,
   "id": "a630b303",
   "metadata": {},
   "outputs": [
    {
     "name": "stdout",
     "output_type": "stream",
     "text": [
      "[4282.8, 4281.0, 4224.6, 4249.3, 4242.0]\n",
      "4255.95\n"
     ]
    }
   ],
   "source": [
    "text_col_name = 'my_custom_position'\n",
    "\n",
    "cv_fit_predict(data, base_fit_cols+[text_col_name], text_col_name=text_col_name)"
   ]
  },
  {
   "cell_type": "code",
   "execution_count": 254,
   "id": "c0d2fba8",
   "metadata": {},
   "outputs": [],
   "source": [
    "words = my_data[my_data.rank_perc<99].word.to_list()"
   ]
  },
  {
   "cell_type": "code",
   "execution_count": 255,
   "id": "30a5f7ad",
   "metadata": {},
   "outputs": [],
   "source": [
    "data['my_custom_position'] = data['custom_position'].apply(lambda value: ' '.join([i for i in value.split(' ') if i in words]))"
   ]
  },
  {
   "cell_type": "code",
   "execution_count": 256,
   "id": "2fea7942",
   "metadata": {},
   "outputs": [
    {
     "name": "stdout",
     "output_type": "stream",
     "text": [
      "[6264.6, 6226.0, 6191.8, 6172.7, 6151.9]\n",
      "6201.4\n"
     ]
    }
   ],
   "source": [
    "text_col_name = 'my_custom_position'\n",
    "\n",
    "cv_fit_predict(data, base_fit_cols+[text_col_name], text_col_name=text_col_name)"
   ]
  },
  {
   "cell_type": "code",
   "execution_count": null,
   "id": "a9dc0f77",
   "metadata": {},
   "outputs": [],
   "source": []
  },
  {
   "cell_type": "code",
   "execution_count": null,
   "id": "d9672ae2",
   "metadata": {},
   "outputs": [],
   "source": []
  },
  {
   "cell_type": "code",
   "execution_count": null,
   "id": "6de768d9",
   "metadata": {},
   "outputs": [],
   "source": []
  },
  {
   "cell_type": "code",
   "execution_count": null,
   "id": "b6610f36",
   "metadata": {},
   "outputs": [],
   "source": []
  },
  {
   "cell_type": "code",
   "execution_count": null,
   "id": "955e12e7",
   "metadata": {},
   "outputs": [],
   "source": []
  },
  {
   "cell_type": "code",
   "execution_count": null,
   "id": "b17fc62a",
   "metadata": {},
   "outputs": [],
   "source": []
  },
  {
   "cell_type": "code",
   "execution_count": null,
   "id": "135e350d",
   "metadata": {},
   "outputs": [],
   "source": []
  }
 ],
 "metadata": {
  "kernelspec": {
   "display_name": "Python 3 (ipykernel)",
   "language": "python",
   "name": "python3"
  },
  "language_info": {
   "codemirror_mode": {
    "name": "ipython",
    "version": 3
   },
   "file_extension": ".py",
   "mimetype": "text/x-python",
   "name": "python",
   "nbconvert_exporter": "python",
   "pygments_lexer": "ipython3",
   "version": "3.10.13"
  }
 },
 "nbformat": 4,
 "nbformat_minor": 5
}
