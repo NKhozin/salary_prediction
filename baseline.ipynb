{
 "cells": [
  {
   "cell_type": "code",
   "execution_count": 1,
   "metadata": {},
   "outputs": [],
   "source": [
    "# #1) Скачиваем с https://fasttext.cc/docs/en/crawl-vectors.html\n",
    "# #2) Распаковыпаем\n",
    "\n",
    "# import gzip\n",
    "# import shutil\n",
    "\n",
    "# with gzip.open('cc.ru.300.bin.gz', 'rb') as f_in:\n",
    "#     with open('cc.ru.300.bin', 'wb') as f_out:\n",
    "#         shutil.copyfileobj(f_in, f_out)"
   ]
  },
  {
   "cell_type": "markdown",
   "metadata": {},
   "source": [
    "### Подготовка "
   ]
  },
  {
   "cell_type": "code",
   "execution_count": 1,
   "metadata": {
    "scrolled": true
   },
   "outputs": [],
   "source": [
    "import pandas as pd\n",
    "import numpy as np\n",
    "import fasttext\n",
    "import fasttext.util\n",
    "from tqdm import tqdm\n",
    "import pickle"
   ]
  },
  {
   "cell_type": "code",
   "execution_count": 2,
   "metadata": {},
   "outputs": [],
   "source": [
    "def prepare_data(data):\n",
    "    data = data.drop(['id','salary_to','work_skills','skill_1','skill_2','skill_3','skill_4','skill_5','skill_6','skill_7','skill_8','skill_9','skill_10'], axis=1)\n",
    "    \n",
    "    top_5_city = data.city_id.value_counts().reset_index()['city_id'].values[:5].tolist()\n",
    "    data.city_id = data.city_id.apply(lambda value: str(value) if value in top_5_city else 'Остальные')\n",
    "\n",
    "    data.required_experience = data.required_experience.fillna('Отсутствует')\n",
    "    \n",
    "    enc_columns = ['schedule','education_name','city_id','required_experience']\n",
    "    enc_data = pd.get_dummies(data[enc_columns], drop_first=True)\n",
    "    \n",
    "    data = data.drop(enc_columns, axis=1)\n",
    "    data = pd.concat([data,enc_data], axis=1)\n",
    "\n",
    "    data.custom_position = data.custom_position.str.lower().str.strip()\n",
    "    return data\n",
    "\n",
    "def get_emb_dataframe(custom_position, dim_size):\n",
    "    \n",
    "    ft = fasttext.load_model('cc.ru.300.bin')\n",
    "\n",
    "    fasttext.util.reduce_model(ft, dim_size)\n",
    "    \n",
    "    vector_professions = []\n",
    "    for words in custom_position:\n",
    "        vector = np.mean([ft.get_word_vector(word) for word in words.split(' ')], axis=0).tolist()\n",
    "        vector_professions.append(vector)\n",
    "        \n",
    "    df_vector_professions = pd.DataFrame(vector_professions, columns=[f\"feature_{c}\" for c in range(1, dim_size+1)])\n",
    "    \n",
    "    return df_vector_professions"
   ]
  },
  {
   "cell_type": "code",
   "execution_count": 3,
   "metadata": {},
   "outputs": [],
   "source": [
    "data = pd.read_csv('students_vacancies_10Nov2023.csv')"
   ]
  },
  {
   "cell_type": "code",
   "execution_count": 4,
   "metadata": {},
   "outputs": [
    {
     "name": "stdout",
     "output_type": "stream",
     "text": [
      "CPU times: total: 688 ms\n",
      "Wall time: 682 ms\n"
     ]
    }
   ],
   "source": [
    "%%time\n",
    "\n",
    "data = prepare_data(data)"
   ]
  },
  {
   "cell_type": "code",
   "execution_count": 5,
   "metadata": {},
   "outputs": [
    {
     "data": {
      "text/html": [
       "<div>\n",
       "<style scoped>\n",
       "    .dataframe tbody tr th:only-of-type {\n",
       "        vertical-align: middle;\n",
       "    }\n",
       "\n",
       "    .dataframe tbody tr th {\n",
       "        vertical-align: top;\n",
       "    }\n",
       "\n",
       "    .dataframe thead th {\n",
       "        text-align: right;\n",
       "    }\n",
       "</style>\n",
       "<table border=\"1\" class=\"dataframe\">\n",
       "  <thead>\n",
       "    <tr style=\"text-align: right;\">\n",
       "      <th></th>\n",
       "      <th>custom_position</th>\n",
       "      <th>salary_from</th>\n",
       "      <th>count_skills</th>\n",
       "      <th>schedule_полный рабочий день</th>\n",
       "      <th>schedule_свободный график</th>\n",
       "      <th>schedule_сменный график</th>\n",
       "      <th>schedule_удаленная работа</th>\n",
       "      <th>schedule_частичная занятость</th>\n",
       "      <th>education_name_высшее (бакалавр)</th>\n",
       "      <th>education_name_любое</th>\n",
       "      <th>...</th>\n",
       "      <th>education_name_среднее профессиональное</th>\n",
       "      <th>city_id_10</th>\n",
       "      <th>city_id_174</th>\n",
       "      <th>city_id_3</th>\n",
       "      <th>city_id_36</th>\n",
       "      <th>city_id_Остальные</th>\n",
       "      <th>required_experience_Нет опыта</th>\n",
       "      <th>required_experience_От 1 года до 3 лет</th>\n",
       "      <th>required_experience_От 3 до 6 лет</th>\n",
       "      <th>required_experience_Отсутствует</th>\n",
       "    </tr>\n",
       "  </thead>\n",
       "  <tbody>\n",
       "    <tr>\n",
       "      <th>0</th>\n",
       "      <td>продавец-кассир</td>\n",
       "      <td>24400.0</td>\n",
       "      <td>0</td>\n",
       "      <td>False</td>\n",
       "      <td>False</td>\n",
       "      <td>True</td>\n",
       "      <td>False</td>\n",
       "      <td>False</td>\n",
       "      <td>False</td>\n",
       "      <td>True</td>\n",
       "      <td>...</td>\n",
       "      <td>False</td>\n",
       "      <td>False</td>\n",
       "      <td>True</td>\n",
       "      <td>False</td>\n",
       "      <td>False</td>\n",
       "      <td>False</td>\n",
       "      <td>True</td>\n",
       "      <td>False</td>\n",
       "      <td>False</td>\n",
       "      <td>False</td>\n",
       "    </tr>\n",
       "    <tr>\n",
       "      <th>1</th>\n",
       "      <td>продавец-кассир</td>\n",
       "      <td>27800.0</td>\n",
       "      <td>0</td>\n",
       "      <td>False</td>\n",
       "      <td>False</td>\n",
       "      <td>True</td>\n",
       "      <td>False</td>\n",
       "      <td>False</td>\n",
       "      <td>False</td>\n",
       "      <td>True</td>\n",
       "      <td>...</td>\n",
       "      <td>False</td>\n",
       "      <td>False</td>\n",
       "      <td>False</td>\n",
       "      <td>False</td>\n",
       "      <td>True</td>\n",
       "      <td>False</td>\n",
       "      <td>True</td>\n",
       "      <td>False</td>\n",
       "      <td>False</td>\n",
       "      <td>False</td>\n",
       "    </tr>\n",
       "    <tr>\n",
       "      <th>2</th>\n",
       "      <td>кассир (сотрудник супермаркета)</td>\n",
       "      <td>44000.0</td>\n",
       "      <td>0</td>\n",
       "      <td>True</td>\n",
       "      <td>False</td>\n",
       "      <td>False</td>\n",
       "      <td>False</td>\n",
       "      <td>False</td>\n",
       "      <td>False</td>\n",
       "      <td>True</td>\n",
       "      <td>...</td>\n",
       "      <td>False</td>\n",
       "      <td>False</td>\n",
       "      <td>False</td>\n",
       "      <td>False</td>\n",
       "      <td>False</td>\n",
       "      <td>False</td>\n",
       "      <td>True</td>\n",
       "      <td>False</td>\n",
       "      <td>False</td>\n",
       "      <td>False</td>\n",
       "    </tr>\n",
       "    <tr>\n",
       "      <th>3</th>\n",
       "      <td>грузчик</td>\n",
       "      <td>55000.0</td>\n",
       "      <td>0</td>\n",
       "      <td>True</td>\n",
       "      <td>False</td>\n",
       "      <td>False</td>\n",
       "      <td>False</td>\n",
       "      <td>False</td>\n",
       "      <td>False</td>\n",
       "      <td>True</td>\n",
       "      <td>...</td>\n",
       "      <td>False</td>\n",
       "      <td>False</td>\n",
       "      <td>False</td>\n",
       "      <td>False</td>\n",
       "      <td>False</td>\n",
       "      <td>False</td>\n",
       "      <td>False</td>\n",
       "      <td>False</td>\n",
       "      <td>False</td>\n",
       "      <td>True</td>\n",
       "    </tr>\n",
       "    <tr>\n",
       "      <th>4</th>\n",
       "      <td>продавец (старший сотрудник супермаркета)</td>\n",
       "      <td>26000.0</td>\n",
       "      <td>0</td>\n",
       "      <td>True</td>\n",
       "      <td>False</td>\n",
       "      <td>False</td>\n",
       "      <td>False</td>\n",
       "      <td>False</td>\n",
       "      <td>False</td>\n",
       "      <td>True</td>\n",
       "      <td>...</td>\n",
       "      <td>False</td>\n",
       "      <td>False</td>\n",
       "      <td>False</td>\n",
       "      <td>False</td>\n",
       "      <td>False</td>\n",
       "      <td>True</td>\n",
       "      <td>True</td>\n",
       "      <td>False</td>\n",
       "      <td>False</td>\n",
       "      <td>False</td>\n",
       "    </tr>\n",
       "  </tbody>\n",
       "</table>\n",
       "<p>5 rows × 22 columns</p>\n",
       "</div>"
      ],
      "text/plain": [
       "                             custom_position  salary_from  count_skills  \\\n",
       "0                            продавец-кассир      24400.0             0   \n",
       "1                            продавец-кассир      27800.0             0   \n",
       "2            кассир (сотрудник супермаркета)      44000.0             0   \n",
       "3                                    грузчик      55000.0             0   \n",
       "4  продавец (старший сотрудник супермаркета)      26000.0             0   \n",
       "\n",
       "   schedule_полный рабочий день  schedule_свободный график  \\\n",
       "0                         False                      False   \n",
       "1                         False                      False   \n",
       "2                          True                      False   \n",
       "3                          True                      False   \n",
       "4                          True                      False   \n",
       "\n",
       "   schedule_сменный график  schedule_удаленная работа  \\\n",
       "0                     True                      False   \n",
       "1                     True                      False   \n",
       "2                    False                      False   \n",
       "3                    False                      False   \n",
       "4                    False                      False   \n",
       "\n",
       "   schedule_частичная занятость  education_name_высшее (бакалавр)  \\\n",
       "0                         False                             False   \n",
       "1                         False                             False   \n",
       "2                         False                             False   \n",
       "3                         False                             False   \n",
       "4                         False                             False   \n",
       "\n",
       "   education_name_любое  ...  education_name_среднее профессиональное  \\\n",
       "0                  True  ...                                    False   \n",
       "1                  True  ...                                    False   \n",
       "2                  True  ...                                    False   \n",
       "3                  True  ...                                    False   \n",
       "4                  True  ...                                    False   \n",
       "\n",
       "   city_id_10  city_id_174  city_id_3  city_id_36  city_id_Остальные  \\\n",
       "0       False         True      False       False              False   \n",
       "1       False        False      False        True              False   \n",
       "2       False        False      False       False              False   \n",
       "3       False        False      False       False              False   \n",
       "4       False        False      False       False               True   \n",
       "\n",
       "   required_experience_Нет опыта  required_experience_От 1 года до 3 лет  \\\n",
       "0                           True                                   False   \n",
       "1                           True                                   False   \n",
       "2                           True                                   False   \n",
       "3                          False                                   False   \n",
       "4                           True                                   False   \n",
       "\n",
       "   required_experience_От 3 до 6 лет  required_experience_Отсутствует  \n",
       "0                              False                            False  \n",
       "1                              False                            False  \n",
       "2                              False                            False  \n",
       "3                              False                             True  \n",
       "4                              False                            False  \n",
       "\n",
       "[5 rows x 22 columns]"
      ]
     },
     "execution_count": 5,
     "metadata": {},
     "output_type": "execute_result"
    }
   ],
   "source": [
    "data.head()"
   ]
  },
  {
   "cell_type": "code",
   "execution_count": 6,
   "metadata": {},
   "outputs": [
    {
     "name": "stdout",
     "output_type": "stream",
     "text": [
      "CPU times: total: 2min 9s\n",
      "Wall time: 1min 22s\n"
     ]
    }
   ],
   "source": [
    "%%time\n",
    "\n",
    "df_vector_professions_300 = get_emb_dataframe(data.custom_position.values.tolist(), 300)"
   ]
  },
  {
   "cell_type": "code",
   "execution_count": 7,
   "metadata": {},
   "outputs": [
    {
     "data": {
      "text/html": [
       "<div>\n",
       "<style scoped>\n",
       "    .dataframe tbody tr th:only-of-type {\n",
       "        vertical-align: middle;\n",
       "    }\n",
       "\n",
       "    .dataframe tbody tr th {\n",
       "        vertical-align: top;\n",
       "    }\n",
       "\n",
       "    .dataframe thead th {\n",
       "        text-align: right;\n",
       "    }\n",
       "</style>\n",
       "<table border=\"1\" class=\"dataframe\">\n",
       "  <thead>\n",
       "    <tr style=\"text-align: right;\">\n",
       "      <th></th>\n",
       "      <th>feature_1</th>\n",
       "      <th>feature_2</th>\n",
       "      <th>feature_3</th>\n",
       "      <th>feature_4</th>\n",
       "      <th>feature_5</th>\n",
       "      <th>feature_6</th>\n",
       "      <th>feature_7</th>\n",
       "      <th>feature_8</th>\n",
       "      <th>feature_9</th>\n",
       "      <th>feature_10</th>\n",
       "      <th>...</th>\n",
       "      <th>feature_291</th>\n",
       "      <th>feature_292</th>\n",
       "      <th>feature_293</th>\n",
       "      <th>feature_294</th>\n",
       "      <th>feature_295</th>\n",
       "      <th>feature_296</th>\n",
       "      <th>feature_297</th>\n",
       "      <th>feature_298</th>\n",
       "      <th>feature_299</th>\n",
       "      <th>feature_300</th>\n",
       "    </tr>\n",
       "  </thead>\n",
       "  <tbody>\n",
       "    <tr>\n",
       "      <th>0</th>\n",
       "      <td>0.032455</td>\n",
       "      <td>-0.025255</td>\n",
       "      <td>-0.054770</td>\n",
       "      <td>0.003816</td>\n",
       "      <td>-0.005694</td>\n",
       "      <td>-0.050002</td>\n",
       "      <td>0.019562</td>\n",
       "      <td>-0.017022</td>\n",
       "      <td>0.017240</td>\n",
       "      <td>-0.036146</td>\n",
       "      <td>...</td>\n",
       "      <td>0.016353</td>\n",
       "      <td>-0.028390</td>\n",
       "      <td>-0.021710</td>\n",
       "      <td>0.008343</td>\n",
       "      <td>0.008010</td>\n",
       "      <td>-0.033859</td>\n",
       "      <td>0.024095</td>\n",
       "      <td>-0.011439</td>\n",
       "      <td>-0.006787</td>\n",
       "      <td>-0.026829</td>\n",
       "    </tr>\n",
       "    <tr>\n",
       "      <th>1</th>\n",
       "      <td>0.032455</td>\n",
       "      <td>-0.025255</td>\n",
       "      <td>-0.054770</td>\n",
       "      <td>0.003816</td>\n",
       "      <td>-0.005694</td>\n",
       "      <td>-0.050002</td>\n",
       "      <td>0.019562</td>\n",
       "      <td>-0.017022</td>\n",
       "      <td>0.017240</td>\n",
       "      <td>-0.036146</td>\n",
       "      <td>...</td>\n",
       "      <td>0.016353</td>\n",
       "      <td>-0.028390</td>\n",
       "      <td>-0.021710</td>\n",
       "      <td>0.008343</td>\n",
       "      <td>0.008010</td>\n",
       "      <td>-0.033859</td>\n",
       "      <td>0.024095</td>\n",
       "      <td>-0.011439</td>\n",
       "      <td>-0.006787</td>\n",
       "      <td>-0.026829</td>\n",
       "    </tr>\n",
       "    <tr>\n",
       "      <th>2</th>\n",
       "      <td>-0.009212</td>\n",
       "      <td>-0.012537</td>\n",
       "      <td>-0.067383</td>\n",
       "      <td>0.028766</td>\n",
       "      <td>-0.011142</td>\n",
       "      <td>0.004602</td>\n",
       "      <td>0.060946</td>\n",
       "      <td>-0.003581</td>\n",
       "      <td>0.039640</td>\n",
       "      <td>-0.046618</td>\n",
       "      <td>...</td>\n",
       "      <td>-0.015849</td>\n",
       "      <td>-0.001783</td>\n",
       "      <td>-0.035526</td>\n",
       "      <td>0.015621</td>\n",
       "      <td>0.022169</td>\n",
       "      <td>-0.024138</td>\n",
       "      <td>0.012493</td>\n",
       "      <td>-0.017852</td>\n",
       "      <td>-0.002482</td>\n",
       "      <td>-0.004526</td>\n",
       "    </tr>\n",
       "    <tr>\n",
       "      <th>3</th>\n",
       "      <td>0.055456</td>\n",
       "      <td>-0.033637</td>\n",
       "      <td>-0.033025</td>\n",
       "      <td>0.072700</td>\n",
       "      <td>0.084262</td>\n",
       "      <td>-0.036506</td>\n",
       "      <td>0.095369</td>\n",
       "      <td>-0.102950</td>\n",
       "      <td>0.075218</td>\n",
       "      <td>-0.109627</td>\n",
       "      <td>...</td>\n",
       "      <td>-0.015814</td>\n",
       "      <td>-0.015697</td>\n",
       "      <td>0.027031</td>\n",
       "      <td>0.025075</td>\n",
       "      <td>0.024870</td>\n",
       "      <td>-0.030684</td>\n",
       "      <td>-0.010764</td>\n",
       "      <td>-0.049753</td>\n",
       "      <td>-0.050485</td>\n",
       "      <td>-0.060160</td>\n",
       "    </tr>\n",
       "    <tr>\n",
       "      <th>4</th>\n",
       "      <td>-0.032064</td>\n",
       "      <td>-0.010089</td>\n",
       "      <td>-0.042918</td>\n",
       "      <td>-0.002573</td>\n",
       "      <td>0.002586</td>\n",
       "      <td>-0.004027</td>\n",
       "      <td>0.054874</td>\n",
       "      <td>0.033568</td>\n",
       "      <td>0.023794</td>\n",
       "      <td>-0.057234</td>\n",
       "      <td>...</td>\n",
       "      <td>-0.019581</td>\n",
       "      <td>0.010304</td>\n",
       "      <td>-0.007735</td>\n",
       "      <td>0.012373</td>\n",
       "      <td>0.006142</td>\n",
       "      <td>-0.013442</td>\n",
       "      <td>-0.001235</td>\n",
       "      <td>-0.000212</td>\n",
       "      <td>-0.020757</td>\n",
       "      <td>-0.012704</td>\n",
       "    </tr>\n",
       "  </tbody>\n",
       "</table>\n",
       "<p>5 rows × 300 columns</p>\n",
       "</div>"
      ],
      "text/plain": [
       "   feature_1  feature_2  feature_3  feature_4  feature_5  feature_6  \\\n",
       "0   0.032455  -0.025255  -0.054770   0.003816  -0.005694  -0.050002   \n",
       "1   0.032455  -0.025255  -0.054770   0.003816  -0.005694  -0.050002   \n",
       "2  -0.009212  -0.012537  -0.067383   0.028766  -0.011142   0.004602   \n",
       "3   0.055456  -0.033637  -0.033025   0.072700   0.084262  -0.036506   \n",
       "4  -0.032064  -0.010089  -0.042918  -0.002573   0.002586  -0.004027   \n",
       "\n",
       "   feature_7  feature_8  feature_9  feature_10  ...  feature_291  feature_292  \\\n",
       "0   0.019562  -0.017022   0.017240   -0.036146  ...     0.016353    -0.028390   \n",
       "1   0.019562  -0.017022   0.017240   -0.036146  ...     0.016353    -0.028390   \n",
       "2   0.060946  -0.003581   0.039640   -0.046618  ...    -0.015849    -0.001783   \n",
       "3   0.095369  -0.102950   0.075218   -0.109627  ...    -0.015814    -0.015697   \n",
       "4   0.054874   0.033568   0.023794   -0.057234  ...    -0.019581     0.010304   \n",
       "\n",
       "   feature_293  feature_294  feature_295  feature_296  feature_297  \\\n",
       "0    -0.021710     0.008343     0.008010    -0.033859     0.024095   \n",
       "1    -0.021710     0.008343     0.008010    -0.033859     0.024095   \n",
       "2    -0.035526     0.015621     0.022169    -0.024138     0.012493   \n",
       "3     0.027031     0.025075     0.024870    -0.030684    -0.010764   \n",
       "4    -0.007735     0.012373     0.006142    -0.013442    -0.001235   \n",
       "\n",
       "   feature_298  feature_299  feature_300  \n",
       "0    -0.011439    -0.006787    -0.026829  \n",
       "1    -0.011439    -0.006787    -0.026829  \n",
       "2    -0.017852    -0.002482    -0.004526  \n",
       "3    -0.049753    -0.050485    -0.060160  \n",
       "4    -0.000212    -0.020757    -0.012704  \n",
       "\n",
       "[5 rows x 300 columns]"
      ]
     },
     "execution_count": 7,
     "metadata": {},
     "output_type": "execute_result"
    }
   ],
   "source": [
    "df_vector_professions_300.head()"
   ]
  },
  {
   "cell_type": "code",
   "execution_count": 8,
   "metadata": {},
   "outputs": [
    {
     "data": {
      "text/plain": [
       "(663547, 300)"
      ]
     },
     "execution_count": 8,
     "metadata": {},
     "output_type": "execute_result"
    }
   ],
   "source": [
    "df_vector_professions_300.shape"
   ]
  },
  {
   "cell_type": "markdown",
   "metadata": {},
   "source": [
    "### Предсказание"
   ]
  },
  {
   "cell_type": "code",
   "execution_count": 96,
   "metadata": {},
   "outputs": [],
   "source": [
    "from sklearn.model_selection import train_test_split, cross_val_score, KFold, GridSearchCV\n",
    "from sklearn.metrics import mean_absolute_percentage_error\n",
    "from sklearn.linear_model import LinearRegression, Ridge, Lasso\n",
    "from sklearn.neighbors import KNeighborsRegressor\n",
    "from sklearn.tree import DecisionTreeRegressor\n",
    "from sklearn.ensemble import RandomForestRegressor\n",
    "from catboost import CatBoostRegressor\n",
    "import matplotlib.pyplot as plt\n",
    "import seaborn as sns\n",
    "import time"
   ]
  },
  {
   "cell_type": "code",
   "execution_count": 10,
   "metadata": {},
   "outputs": [],
   "source": [
    "data = pd.concat([data, df_vector_professions_300], axis=1)\n",
    "\n",
    "custom_position_dict = dict(zip(data.index, data.custom_position))"
   ]
  },
  {
   "cell_type": "code",
   "execution_count": 11,
   "metadata": {},
   "outputs": [],
   "source": [
    "y = data.salary_from\n",
    "X = data.drop('salary_from', axis=1)"
   ]
  },
  {
   "cell_type": "code",
   "execution_count": 70,
   "metadata": {},
   "outputs": [],
   "source": [
    "X_train, X_test, y_train, y_test = train_test_split(X, y, test_size=0.2, random_state=42)"
   ]
  },
  {
   "cell_type": "code",
   "execution_count": 71,
   "metadata": {},
   "outputs": [],
   "source": [
    "train_cust_pos = X_train.custom_position.values.tolist()\n",
    "X_train = X_train.drop('custom_position', axis=1)\n",
    "\n",
    "test_cust_pos = X_test.custom_position.values.tolist()\n",
    "X_test = X_test.drop('custom_position', axis=1)"
   ]
  },
  {
   "cell_type": "code",
   "execution_count": 23,
   "metadata": {},
   "outputs": [],
   "source": [
    "num_folds = 5\n",
    "random_state = 42\n",
    "scoring = 'neg_mean_absolute_error'\n",
    "\n",
    "models = []\n",
    "\n",
    "models.append(('LR', LinearRegression()))\n",
    "models.append(('RidgeRegression', Ridge()))\n",
    "models.append(('LassoRegression', Lasso()))\n",
    "models.append(('KNNRegression', KNeighborsRegressor()))\n",
    "models.append(('DecisionTreeRegressor', DecisionTreeRegressor()))\n",
    "models.append(('CatBoostRegressor', CatBoostRegressor(iterations=100, verbose=0)))"
   ]
  },
  {
   "cell_type": "code",
   "execution_count": 24,
   "metadata": {},
   "outputs": [
    {
     "name": "stdout",
     "output_type": "stream",
     "text": [
      "LR 5473.71 21.94 39.0  sec.\n",
      "RidgeRegression 5474.73 21.49 10.53  sec.\n"
     ]
    },
    {
     "name": "stderr",
     "output_type": "stream",
     "text": [
      "C:\\Users\\User\\anaconda3\\envs\\myenv_py_3_10\\lib\\site-packages\\sklearn\\linear_model\\_coordinate_descent.py:628: ConvergenceWarning: Objective did not converge. You might want to increase the number of iterations, check the scale of the features or consider increasing regularisation. Duality gap: 2.589e+11, tolerance: 2.016e+10\n",
      "  model = cd_fast.enet_coordinate_descent(\n",
      "C:\\Users\\User\\anaconda3\\envs\\myenv_py_3_10\\lib\\site-packages\\sklearn\\linear_model\\_coordinate_descent.py:628: ConvergenceWarning: Objective did not converge. You might want to increase the number of iterations, check the scale of the features or consider increasing regularisation. Duality gap: 3.353e+11, tolerance: 2.013e+10\n",
      "  model = cd_fast.enet_coordinate_descent(\n",
      "C:\\Users\\User\\anaconda3\\envs\\myenv_py_3_10\\lib\\site-packages\\sklearn\\linear_model\\_coordinate_descent.py:628: ConvergenceWarning: Objective did not converge. You might want to increase the number of iterations, check the scale of the features or consider increasing regularisation. Duality gap: 2.776e+11, tolerance: 2.016e+10\n",
      "  model = cd_fast.enet_coordinate_descent(\n",
      "C:\\Users\\User\\anaconda3\\envs\\myenv_py_3_10\\lib\\site-packages\\sklearn\\linear_model\\_coordinate_descent.py:628: ConvergenceWarning: Objective did not converge. You might want to increase the number of iterations, check the scale of the features or consider increasing regularisation. Duality gap: 2.163e+11, tolerance: 2.019e+10\n",
      "  model = cd_fast.enet_coordinate_descent(\n",
      "C:\\Users\\User\\anaconda3\\envs\\myenv_py_3_10\\lib\\site-packages\\sklearn\\linear_model\\_coordinate_descent.py:628: ConvergenceWarning: Objective did not converge. You might want to increase the number of iterations, check the scale of the features or consider increasing regularisation. Duality gap: 2.050e+11, tolerance: 2.011e+10\n",
      "  model = cd_fast.enet_coordinate_descent(\n"
     ]
    },
    {
     "name": "stdout",
     "output_type": "stream",
     "text": [
      "LassoRegression 5548.67 20.91 326.81  sec.\n",
      "KNNRegression 4573.41 52.74 669.64  sec.\n",
      "DecisionTreeRegressor 4335.1 39.72 244.73  sec.\n",
      "CatBoostRegressor 4677.53 41.0 54.47  sec.\n"
     ]
    }
   ],
   "source": [
    "results = []\n",
    "names = []\n",
    "times = []\n",
    "\n",
    "for name, model in models:\n",
    "    start = time.time()\n",
    "    kfold = KFold(n_splits=num_folds, random_state=random_state, shuffle=True)\n",
    "\n",
    "    cv_results = -1 * cross_val_score(model, X_train, y_train, cv=kfold, scoring=scoring)\n",
    "\n",
    "    results.append(cv_results)\n",
    "    names.append(name)\n",
    "    end = time.time()\n",
    "    times.append(end - start)\n",
    "    \n",
    "    print(name, round(cv_results.mean(),2), round(cv_results.std(),2), round(end - start,2), ' sec.')"
   ]
  },
  {
   "cell_type": "code",
   "execution_count": 25,
   "metadata": {},
   "outputs": [
    {
     "data": {
      "text/html": [
       "<div>\n",
       "<style scoped>\n",
       "    .dataframe tbody tr th:only-of-type {\n",
       "        vertical-align: middle;\n",
       "    }\n",
       "\n",
       "    .dataframe tbody tr th {\n",
       "        vertical-align: top;\n",
       "    }\n",
       "\n",
       "    .dataframe thead th {\n",
       "        text-align: right;\n",
       "    }\n",
       "</style>\n",
       "<table border=\"1\" class=\"dataframe\">\n",
       "  <thead>\n",
       "    <tr style=\"text-align: right;\">\n",
       "      <th></th>\n",
       "      <th>names</th>\n",
       "      <th>score</th>\n",
       "      <th>time</th>\n",
       "    </tr>\n",
       "  </thead>\n",
       "  <tbody>\n",
       "    <tr>\n",
       "      <th>0</th>\n",
       "      <td>LR</td>\n",
       "      <td>5473.7</td>\n",
       "      <td>38.995</td>\n",
       "    </tr>\n",
       "    <tr>\n",
       "      <th>1</th>\n",
       "      <td>RidgeRegression</td>\n",
       "      <td>5474.7</td>\n",
       "      <td>10.527</td>\n",
       "    </tr>\n",
       "    <tr>\n",
       "      <th>2</th>\n",
       "      <td>LassoRegression</td>\n",
       "      <td>5548.7</td>\n",
       "      <td>326.809</td>\n",
       "    </tr>\n",
       "    <tr>\n",
       "      <th>3</th>\n",
       "      <td>KNNRegression</td>\n",
       "      <td>4573.4</td>\n",
       "      <td>669.641</td>\n",
       "    </tr>\n",
       "    <tr>\n",
       "      <th>4</th>\n",
       "      <td>DecisionTreeRegressor</td>\n",
       "      <td>4335.1</td>\n",
       "      <td>244.726</td>\n",
       "    </tr>\n",
       "    <tr>\n",
       "      <th>5</th>\n",
       "      <td>CatBoostRegressor</td>\n",
       "      <td>4677.5</td>\n",
       "      <td>54.467</td>\n",
       "    </tr>\n",
       "  </tbody>\n",
       "</table>\n",
       "</div>"
      ],
      "text/plain": [
       "                   names   score     time\n",
       "0                     LR  5473.7   38.995\n",
       "1        RidgeRegression  5474.7   10.527\n",
       "2        LassoRegression  5548.7  326.809\n",
       "3          KNNRegression  4573.4  669.641\n",
       "4  DecisionTreeRegressor  4335.1  244.726\n",
       "5      CatBoostRegressor  4677.5   54.467"
      ]
     },
     "execution_count": 25,
     "metadata": {},
     "output_type": "execute_result"
    }
   ],
   "source": [
    "result_df = pd.DataFrame(\n",
    "    {'names': names,\n",
    "     'score': [round(np.mean(i),1) for i in results],\n",
    "     'time': [round(i,3) for i in times]\n",
    "    })\n",
    "result_df"
   ]
  },
  {
   "cell_type": "code",
   "execution_count": 29,
   "metadata": {},
   "outputs": [],
   "source": [
    "result_df.to_excel('results.xlsx')"
   ]
  },
  {
   "cell_type": "markdown",
   "metadata": {},
   "source": [
    "### MAPE лучшей модели"
   ]
  },
  {
   "cell_type": "code",
   "execution_count": 84,
   "metadata": {},
   "outputs": [
    {
     "data": {
      "text/html": [
       "<style>#sk-container-id-6 {color: black;}#sk-container-id-6 pre{padding: 0;}#sk-container-id-6 div.sk-toggleable {background-color: white;}#sk-container-id-6 label.sk-toggleable__label {cursor: pointer;display: block;width: 100%;margin-bottom: 0;padding: 0.3em;box-sizing: border-box;text-align: center;}#sk-container-id-6 label.sk-toggleable__label-arrow:before {content: \"▸\";float: left;margin-right: 0.25em;color: #696969;}#sk-container-id-6 label.sk-toggleable__label-arrow:hover:before {color: black;}#sk-container-id-6 div.sk-estimator:hover label.sk-toggleable__label-arrow:before {color: black;}#sk-container-id-6 div.sk-toggleable__content {max-height: 0;max-width: 0;overflow: hidden;text-align: left;background-color: #f0f8ff;}#sk-container-id-6 div.sk-toggleable__content pre {margin: 0.2em;color: black;border-radius: 0.25em;background-color: #f0f8ff;}#sk-container-id-6 input.sk-toggleable__control:checked~div.sk-toggleable__content {max-height: 200px;max-width: 100%;overflow: auto;}#sk-container-id-6 input.sk-toggleable__control:checked~label.sk-toggleable__label-arrow:before {content: \"▾\";}#sk-container-id-6 div.sk-estimator input.sk-toggleable__control:checked~label.sk-toggleable__label {background-color: #d4ebff;}#sk-container-id-6 div.sk-label input.sk-toggleable__control:checked~label.sk-toggleable__label {background-color: #d4ebff;}#sk-container-id-6 input.sk-hidden--visually {border: 0;clip: rect(1px 1px 1px 1px);clip: rect(1px, 1px, 1px, 1px);height: 1px;margin: -1px;overflow: hidden;padding: 0;position: absolute;width: 1px;}#sk-container-id-6 div.sk-estimator {font-family: monospace;background-color: #f0f8ff;border: 1px dotted black;border-radius: 0.25em;box-sizing: border-box;margin-bottom: 0.5em;}#sk-container-id-6 div.sk-estimator:hover {background-color: #d4ebff;}#sk-container-id-6 div.sk-parallel-item::after {content: \"\";width: 100%;border-bottom: 1px solid gray;flex-grow: 1;}#sk-container-id-6 div.sk-label:hover label.sk-toggleable__label {background-color: #d4ebff;}#sk-container-id-6 div.sk-serial::before {content: \"\";position: absolute;border-left: 1px solid gray;box-sizing: border-box;top: 0;bottom: 0;left: 50%;z-index: 0;}#sk-container-id-6 div.sk-serial {display: flex;flex-direction: column;align-items: center;background-color: white;padding-right: 0.2em;padding-left: 0.2em;position: relative;}#sk-container-id-6 div.sk-item {position: relative;z-index: 1;}#sk-container-id-6 div.sk-parallel {display: flex;align-items: stretch;justify-content: center;background-color: white;position: relative;}#sk-container-id-6 div.sk-item::before, #sk-container-id-6 div.sk-parallel-item::before {content: \"\";position: absolute;border-left: 1px solid gray;box-sizing: border-box;top: 0;bottom: 0;left: 50%;z-index: -1;}#sk-container-id-6 div.sk-parallel-item {display: flex;flex-direction: column;z-index: 1;position: relative;background-color: white;}#sk-container-id-6 div.sk-parallel-item:first-child::after {align-self: flex-end;width: 50%;}#sk-container-id-6 div.sk-parallel-item:last-child::after {align-self: flex-start;width: 50%;}#sk-container-id-6 div.sk-parallel-item:only-child::after {width: 0;}#sk-container-id-6 div.sk-dashed-wrapped {border: 1px dashed gray;margin: 0 0.4em 0.5em 0.4em;box-sizing: border-box;padding-bottom: 0.4em;background-color: white;}#sk-container-id-6 div.sk-label label {font-family: monospace;font-weight: bold;display: inline-block;line-height: 1.2em;}#sk-container-id-6 div.sk-label-container {text-align: center;}#sk-container-id-6 div.sk-container {/* jupyter's `normalize.less` sets `[hidden] { display: none; }` but bootstrap.min.css set `[hidden] { display: none !important; }` so we also need the `!important` here to be able to override the default hidden behavior on the sphinx rendered scikit-learn.org. See: https://github.com/scikit-learn/scikit-learn/issues/21755 */display: inline-block !important;position: relative;}#sk-container-id-6 div.sk-text-repr-fallback {display: none;}</style><div id=\"sk-container-id-6\" class=\"sk-top-container\"><div class=\"sk-text-repr-fallback\"><pre>DecisionTreeRegressor()</pre><b>In a Jupyter environment, please rerun this cell to show the HTML representation or trust the notebook. <br />On GitHub, the HTML representation is unable to render, please try loading this page with nbviewer.org.</b></div><div class=\"sk-container\" hidden><div class=\"sk-item\"><div class=\"sk-estimator sk-toggleable\"><input class=\"sk-toggleable__control sk-hidden--visually\" id=\"sk-estimator-id-6\" type=\"checkbox\" checked><label for=\"sk-estimator-id-6\" class=\"sk-toggleable__label sk-toggleable__label-arrow\">DecisionTreeRegressor</label><div class=\"sk-toggleable__content\"><pre>DecisionTreeRegressor()</pre></div></div></div></div></div>"
      ],
      "text/plain": [
       "DecisionTreeRegressor()"
      ]
     },
     "execution_count": 84,
     "metadata": {},
     "output_type": "execute_result"
    }
   ],
   "source": [
    "model = DecisionTreeRegressor()\n",
    "\n",
    "model.fit(X_train, y_train)"
   ]
  },
  {
   "cell_type": "code",
   "execution_count": 85,
   "metadata": {},
   "outputs": [
    {
     "name": "stdout",
     "output_type": "stream",
     "text": [
      "train MAPE:  0.06593887174797482\n",
      "test MAPE:  0.09759665934129931\n"
     ]
    }
   ],
   "source": [
    "y_train_pred = model.predict(X_train)\n",
    "\n",
    "print('train MAPE: ',mean_absolute_percentage_error(y_train, y_train_pred))\n",
    "\n",
    "y_test_pred = model.predict(X_test)\n",
    "\n",
    "print('test MAPE: ',mean_absolute_percentage_error(y_test, y_test_pred))"
   ]
  },
  {
   "cell_type": "markdown",
   "metadata": {},
   "source": [
    "### Наибольшие значения ошибок на train и test"
   ]
  },
  {
   "cell_type": "code",
   "execution_count": 86,
   "metadata": {},
   "outputs": [
    {
     "data": {
      "text/html": [
       "<div>\n",
       "<style scoped>\n",
       "    .dataframe tbody tr th:only-of-type {\n",
       "        vertical-align: middle;\n",
       "    }\n",
       "\n",
       "    .dataframe tbody tr th {\n",
       "        vertical-align: top;\n",
       "    }\n",
       "\n",
       "    .dataframe thead th {\n",
       "        text-align: right;\n",
       "    }\n",
       "</style>\n",
       "<table border=\"1\" class=\"dataframe\">\n",
       "  <thead>\n",
       "    <tr style=\"text-align: right;\">\n",
       "      <th></th>\n",
       "      <th>custom_position</th>\n",
       "      <th>target</th>\n",
       "      <th>pred</th>\n",
       "      <th>MAE</th>\n",
       "    </tr>\n",
       "  </thead>\n",
       "  <tbody>\n",
       "    <tr>\n",
       "      <th>0</th>\n",
       "      <td>разнорабочий</td>\n",
       "      <td>250000.0</td>\n",
       "      <td>51658.0</td>\n",
       "      <td>198342.0</td>\n",
       "    </tr>\n",
       "    <tr>\n",
       "      <th>1</th>\n",
       "      <td>повар</td>\n",
       "      <td>220000.0</td>\n",
       "      <td>46248.0</td>\n",
       "      <td>173752.0</td>\n",
       "    </tr>\n",
       "    <tr>\n",
       "      <th>2</th>\n",
       "      <td>менеджер по продажам</td>\n",
       "      <td>250000.0</td>\n",
       "      <td>91000.0</td>\n",
       "      <td>159000.0</td>\n",
       "    </tr>\n",
       "    <tr>\n",
       "      <th>3</th>\n",
       "      <td>разнорабочий (вахта)</td>\n",
       "      <td>189000.0</td>\n",
       "      <td>65796.0</td>\n",
       "      <td>123204.0</td>\n",
       "    </tr>\n",
       "    <tr>\n",
       "      <th>4</th>\n",
       "      <td>разнорабочий (вахта)</td>\n",
       "      <td>189000.0</td>\n",
       "      <td>65796.0</td>\n",
       "      <td>123204.0</td>\n",
       "    </tr>\n",
       "    <tr>\n",
       "      <th>5</th>\n",
       "      <td>грузчик</td>\n",
       "      <td>160000.0</td>\n",
       "      <td>46235.0</td>\n",
       "      <td>113765.0</td>\n",
       "    </tr>\n",
       "    <tr>\n",
       "      <th>6</th>\n",
       "      <td>кассир</td>\n",
       "      <td>160000.0</td>\n",
       "      <td>46400.0</td>\n",
       "      <td>113600.0</td>\n",
       "    </tr>\n",
       "    <tr>\n",
       "      <th>7</th>\n",
       "      <td>разнорабочий</td>\n",
       "      <td>150000.0</td>\n",
       "      <td>42514.0</td>\n",
       "      <td>107486.0</td>\n",
       "    </tr>\n",
       "    <tr>\n",
       "      <th>8</th>\n",
       "      <td>менеджер по продажам</td>\n",
       "      <td>200000.0</td>\n",
       "      <td>95000.0</td>\n",
       "      <td>105000.0</td>\n",
       "    </tr>\n",
       "    <tr>\n",
       "      <th>9</th>\n",
       "      <td>водитель категории е</td>\n",
       "      <td>229885.0</td>\n",
       "      <td>125733.0</td>\n",
       "      <td>104152.0</td>\n",
       "    </tr>\n",
       "  </tbody>\n",
       "</table>\n",
       "</div>"
      ],
      "text/plain": [
       "        custom_position    target      pred       MAE\n",
       "0          разнорабочий  250000.0   51658.0  198342.0\n",
       "1                 повар  220000.0   46248.0  173752.0\n",
       "2  менеджер по продажам  250000.0   91000.0  159000.0\n",
       "3  разнорабочий (вахта)  189000.0   65796.0  123204.0\n",
       "4  разнорабочий (вахта)  189000.0   65796.0  123204.0\n",
       "5               грузчик  160000.0   46235.0  113765.0\n",
       "6                кассир  160000.0   46400.0  113600.0\n",
       "7          разнорабочий  150000.0   42514.0  107486.0\n",
       "8  менеджер по продажам  200000.0   95000.0  105000.0\n",
       "9  водитель категории е  229885.0  125733.0  104152.0"
      ]
     },
     "metadata": {},
     "output_type": "display_data"
    }
   ],
   "source": [
    "X_train['target'] = y_train\n",
    "X_train['pred'] = y_train_pred\n",
    "X_train['MAE'] = np.abs(X_train['pred'] - y_train)\n",
    "\n",
    "top_10 = X_train.sort_values(by='MAE', ascending=False).head(10)[['target','pred','MAE']].reset_index()\n",
    "top_10['custom_position'] = top_10['index'].apply(lambda value: custom_position_dict[value])\n",
    "display(round(top_10[['custom_position','target','pred','MAE']]))"
   ]
  },
  {
   "cell_type": "code",
   "execution_count": 87,
   "metadata": {},
   "outputs": [
    {
     "data": {
      "text/html": [
       "<div>\n",
       "<style scoped>\n",
       "    .dataframe tbody tr th:only-of-type {\n",
       "        vertical-align: middle;\n",
       "    }\n",
       "\n",
       "    .dataframe tbody tr th {\n",
       "        vertical-align: top;\n",
       "    }\n",
       "\n",
       "    .dataframe thead th {\n",
       "        text-align: right;\n",
       "    }\n",
       "</style>\n",
       "<table border=\"1\" class=\"dataframe\">\n",
       "  <thead>\n",
       "    <tr style=\"text-align: right;\">\n",
       "      <th></th>\n",
       "      <th>custom_position</th>\n",
       "      <th>target</th>\n",
       "      <th>pred</th>\n",
       "      <th>MAE</th>\n",
       "    </tr>\n",
       "  </thead>\n",
       "  <tbody>\n",
       "    <tr>\n",
       "      <th>0</th>\n",
       "      <td>оператор электронных заявок</td>\n",
       "      <td>25000.0</td>\n",
       "      <td>300000.0</td>\n",
       "      <td>275000.0</td>\n",
       "    </tr>\n",
       "    <tr>\n",
       "      <th>1</th>\n",
       "      <td>кузнец штамповщик</td>\n",
       "      <td>257000.0</td>\n",
       "      <td>30000.0</td>\n",
       "      <td>227000.0</td>\n",
       "    </tr>\n",
       "    <tr>\n",
       "      <th>2</th>\n",
       "      <td>гравировщик / гравёр</td>\n",
       "      <td>40000.0</td>\n",
       "      <td>250000.0</td>\n",
       "      <td>210000.0</td>\n",
       "    </tr>\n",
       "    <tr>\n",
       "      <th>3</th>\n",
       "      <td>ведущий специалист по труду</td>\n",
       "      <td>46679.0</td>\n",
       "      <td>250287.0</td>\n",
       "      <td>203608.0</td>\n",
       "    </tr>\n",
       "    <tr>\n",
       "      <th>4</th>\n",
       "      <td>упаковщик бортпитания</td>\n",
       "      <td>292000.0</td>\n",
       "      <td>92900.0</td>\n",
       "      <td>199100.0</td>\n",
       "    </tr>\n",
       "    <tr>\n",
       "      <th>5</th>\n",
       "      <td>разнорабочий</td>\n",
       "      <td>250000.0</td>\n",
       "      <td>51658.0</td>\n",
       "      <td>198342.0</td>\n",
       "    </tr>\n",
       "    <tr>\n",
       "      <th>6</th>\n",
       "      <td>шиномонтажник</td>\n",
       "      <td>250000.0</td>\n",
       "      <td>60000.0</td>\n",
       "      <td>190000.0</td>\n",
       "    </tr>\n",
       "    <tr>\n",
       "      <th>7</th>\n",
       "      <td>шиномонтажник (на сезон)</td>\n",
       "      <td>250000.0</td>\n",
       "      <td>65000.0</td>\n",
       "      <td>185000.0</td>\n",
       "    </tr>\n",
       "    <tr>\n",
       "      <th>8</th>\n",
       "      <td>повар мясного, холодного и горячего цеха</td>\n",
       "      <td>53000.0</td>\n",
       "      <td>225000.0</td>\n",
       "      <td>172000.0</td>\n",
       "    </tr>\n",
       "    <tr>\n",
       "      <th>9</th>\n",
       "      <td>мастер ов</td>\n",
       "      <td>50000.0</td>\n",
       "      <td>220126.0</td>\n",
       "      <td>170126.0</td>\n",
       "    </tr>\n",
       "  </tbody>\n",
       "</table>\n",
       "</div>"
      ],
      "text/plain": [
       "                            custom_position    target      pred       MAE\n",
       "0               оператор электронных заявок   25000.0  300000.0  275000.0\n",
       "1                         кузнец штамповщик  257000.0   30000.0  227000.0\n",
       "2                      гравировщик / гравёр   40000.0  250000.0  210000.0\n",
       "3               ведущий специалист по труду   46679.0  250287.0  203608.0\n",
       "4                     упаковщик бортпитания  292000.0   92900.0  199100.0\n",
       "5                              разнорабочий  250000.0   51658.0  198342.0\n",
       "6                             шиномонтажник  250000.0   60000.0  190000.0\n",
       "7                  шиномонтажник (на сезон)  250000.0   65000.0  185000.0\n",
       "8  повар мясного, холодного и горячего цеха   53000.0  225000.0  172000.0\n",
       "9                                 мастер ов   50000.0  220126.0  170126.0"
      ]
     },
     "metadata": {},
     "output_type": "display_data"
    }
   ],
   "source": [
    "X_test['target'] = y_test\n",
    "X_test['pred'] = y_test_pred\n",
    "X_test['MAE'] = np.abs(X_test['pred'] - y_test)\n",
    "\n",
    "top_10 = X_test.sort_values(by='MAE', ascending=False).head(10)[['target','pred','MAE']].reset_index()\n",
    "top_10['custom_position'] = top_10['index'].apply(lambda value: custom_position_dict[value])\n",
    "display(round(top_10[['custom_position','target','pred','MAE']]))"
   ]
  },
  {
   "cell_type": "code",
   "execution_count": 111,
   "metadata": {},
   "outputs": [
    {
     "name": "stdout",
     "output_type": "stream",
     "text": [
      "(2907, 322)\n"
     ]
    },
    {
     "data": {
      "text/plain": [
       "<Axes: xlabel='salary_from'>"
      ]
     },
     "execution_count": 111,
     "metadata": {},
     "output_type": "execute_result"
    },
    {
     "data": {
      "image/png": "[encoded data removed]",
      "text/plain": [
       "<Figure size 1000x200 with 1 Axes>"
      ]
     },
     "metadata": {},
     "output_type": "display_data"
    }
   ],
   "source": [
    "sns.set(rc={'figure.figsize':(10, 2)})\n",
    "\n",
    "example = data[data.custom_position.str.contains('разнорабочий')]\n",
    "print(example.shape)\n",
    "sns.boxplot(example.salary_from, orient='h')"
   ]
  },
  {
   "cell_type": "code",
   "execution_count": 112,
   "metadata": {},
   "outputs": [
    {
     "name": "stdout",
     "output_type": "stream",
     "text": [
      "(10588, 322)\n"
     ]
    },
    {
     "data": {
      "text/plain": [
       "<Axes: xlabel='salary_from'>"
      ]
     },
     "execution_count": 112,
     "metadata": {},
     "output_type": "execute_result"
    },
    {
     "data": {
      "image/png": "[encoded data removed]",
      "text/plain": [
       "<Figure size 1000x200 with 1 Axes>"
      ]
     },
     "metadata": {},
     "output_type": "display_data"
    }
   ],
   "source": [
    "sns.set(rc={'figure.figsize':(10, 2)})\n",
    "\n",
    "example = data[data.custom_position.str.contains('повар')]\n",
    "print(example.shape)\n",
    "sns.boxplot(example.salary_from, orient='h')"
   ]
  },
  {
   "cell_type": "code",
   "execution_count": 113,
   "metadata": {},
   "outputs": [
    {
     "name": "stdout",
     "output_type": "stream",
     "text": [
      "(3, 322)\n"
     ]
    },
    {
     "data": {
      "text/plain": [
       "<Axes: xlabel='salary_from'>"
      ]
     },
     "execution_count": 113,
     "metadata": {},
     "output_type": "execute_result"
    },
    {
     "data": {
      "image/png": "[encoded data removed]",
      "text/plain": [
       "<Figure size 1000x200 with 1 Axes>"
      ]
     },
     "metadata": {},
     "output_type": "display_data"
    }
   ],
   "source": [
    "sns.set(rc={'figure.figsize':(10, 2)})\n",
    "\n",
    "example = data[data.custom_position.str.contains('оператор электронных заявок')]\n",
    "print(example.shape)\n",
    "sns.boxplot(example.salary_from, orient='h')"
   ]
  },
  {
   "cell_type": "code",
   "execution_count": 117,
   "metadata": {},
   "outputs": [
    {
     "name": "stdout",
     "output_type": "stream",
     "text": [
      "(6666, 322)\n"
     ]
    },
    {
     "data": {
      "text/plain": [
       "<Axes: xlabel='salary_from'>"
      ]
     },
     "execution_count": 117,
     "metadata": {},
     "output_type": "execute_result"
    },
    {
     "data": {
      "image/png": "[encoded data removed]",
      "text/plain": [
       "<Figure size 1000x200 with 1 Axes>"
      ]
     },
     "metadata": {},
     "output_type": "display_data"
    }
   ],
   "source": [
    "sns.set(rc={'figure.figsize':(10, 2)})\n",
    "\n",
    "example = data[(data.custom_position.str.contains('оператор'))]\n",
    "print(example.shape)\n",
    "sns.boxplot(example.salary_from, orient='h')"
   ]
  },
  {
   "cell_type": "code",
   "execution_count": null,
   "metadata": {},
   "outputs": [],
   "source": [
    "#Большое количество вакансий с повторяющимися словами, но с большим разбросом по зарплате."
   ]
  },
  {
   "cell_type": "markdown",
   "metadata": {},
   "source": [
    "### MAPE лучшей модели с другими размерностями эмбеддингов"
   ]
  },
  {
   "cell_type": "markdown",
   "metadata": {},
   "source": [
    "#### 200"
   ]
  },
  {
   "cell_type": "code",
   "execution_count": 72,
   "metadata": {},
   "outputs": [],
   "source": [
    "feat_columns = [f\"feature_{c}\" for c in range(1, 300+1)]"
   ]
  },
  {
   "cell_type": "code",
   "execution_count": 77,
   "metadata": {},
   "outputs": [
    {
     "name": "stdout",
     "output_type": "stream",
     "text": [
      "CPU times: total: 2min 56s\n",
      "Wall time: 1min 56s\n"
     ]
    }
   ],
   "source": [
    "%%time\n",
    "\n",
    "df_vector_professions_200_train = get_emb_dataframe(train_cust_pos, 200)\n",
    "X_train_200 = pd.concat([df_vector_professions_200_train, X_train[X_train.columns[~X_train.columns.isin(feat_columns)]].reset_index().drop('index', axis=1)], axis=1, ignore_index=True)\n",
    "\n",
    "df_vector_professions_200_test = get_emb_dataframe(test_cust_pos, 200)\n",
    "X_test_200 = pd.concat([df_vector_professions_200_test, X_test[X_test.columns[~X_test.columns.isin(feat_columns)]].reset_index().drop('index', axis=1)], axis=1, ignore_index=True)"
   ]
  },
  {
   "cell_type": "code",
   "execution_count": 78,
   "metadata": {},
   "outputs": [
    {
     "data": {
      "text/html": [
       "<style>#sk-container-id-4 {color: black;}#sk-container-id-4 pre{padding: 0;}#sk-container-id-4 div.sk-toggleable {background-color: white;}#sk-container-id-4 label.sk-toggleable__label {cursor: pointer;display: block;width: 100%;margin-bottom: 0;padding: 0.3em;box-sizing: border-box;text-align: center;}#sk-container-id-4 label.sk-toggleable__label-arrow:before {content: \"▸\";float: left;margin-right: 0.25em;color: #696969;}#sk-container-id-4 label.sk-toggleable__label-arrow:hover:before {color: black;}#sk-container-id-4 div.sk-estimator:hover label.sk-toggleable__label-arrow:before {color: black;}#sk-container-id-4 div.sk-toggleable__content {max-height: 0;max-width: 0;overflow: hidden;text-align: left;background-color: #f0f8ff;}#sk-container-id-4 div.sk-toggleable__content pre {margin: 0.2em;color: black;border-radius: 0.25em;background-color: #f0f8ff;}#sk-container-id-4 input.sk-toggleable__control:checked~div.sk-toggleable__content {max-height: 200px;max-width: 100%;overflow: auto;}#sk-container-id-4 input.sk-toggleable__control:checked~label.sk-toggleable__label-arrow:before {content: \"▾\";}#sk-container-id-4 div.sk-estimator input.sk-toggleable__control:checked~label.sk-toggleable__label {background-color: #d4ebff;}#sk-container-id-4 div.sk-label input.sk-toggleable__control:checked~label.sk-toggleable__label {background-color: #d4ebff;}#sk-container-id-4 input.sk-hidden--visually {border: 0;clip: rect(1px 1px 1px 1px);clip: rect(1px, 1px, 1px, 1px);height: 1px;margin: -1px;overflow: hidden;padding: 0;position: absolute;width: 1px;}#sk-container-id-4 div.sk-estimator {font-family: monospace;background-color: #f0f8ff;border: 1px dotted black;border-radius: 0.25em;box-sizing: border-box;margin-bottom: 0.5em;}#sk-container-id-4 div.sk-estimator:hover {background-color: #d4ebff;}#sk-container-id-4 div.sk-parallel-item::after {content: \"\";width: 100%;border-bottom: 1px solid gray;flex-grow: 1;}#sk-container-id-4 div.sk-label:hover label.sk-toggleable__label {background-color: #d4ebff;}#sk-container-id-4 div.sk-serial::before {content: \"\";position: absolute;border-left: 1px solid gray;box-sizing: border-box;top: 0;bottom: 0;left: 50%;z-index: 0;}#sk-container-id-4 div.sk-serial {display: flex;flex-direction: column;align-items: center;background-color: white;padding-right: 0.2em;padding-left: 0.2em;position: relative;}#sk-container-id-4 div.sk-item {position: relative;z-index: 1;}#sk-container-id-4 div.sk-parallel {display: flex;align-items: stretch;justify-content: center;background-color: white;position: relative;}#sk-container-id-4 div.sk-item::before, #sk-container-id-4 div.sk-parallel-item::before {content: \"\";position: absolute;border-left: 1px solid gray;box-sizing: border-box;top: 0;bottom: 0;left: 50%;z-index: -1;}#sk-container-id-4 div.sk-parallel-item {display: flex;flex-direction: column;z-index: 1;position: relative;background-color: white;}#sk-container-id-4 div.sk-parallel-item:first-child::after {align-self: flex-end;width: 50%;}#sk-container-id-4 div.sk-parallel-item:last-child::after {align-self: flex-start;width: 50%;}#sk-container-id-4 div.sk-parallel-item:only-child::after {width: 0;}#sk-container-id-4 div.sk-dashed-wrapped {border: 1px dashed gray;margin: 0 0.4em 0.5em 0.4em;box-sizing: border-box;padding-bottom: 0.4em;background-color: white;}#sk-container-id-4 div.sk-label label {font-family: monospace;font-weight: bold;display: inline-block;line-height: 1.2em;}#sk-container-id-4 div.sk-label-container {text-align: center;}#sk-container-id-4 div.sk-container {/* jupyter's `normalize.less` sets `[hidden] { display: none; }` but bootstrap.min.css set `[hidden] { display: none !important; }` so we also need the `!important` here to be able to override the default hidden behavior on the sphinx rendered scikit-learn.org. See: https://github.com/scikit-learn/scikit-learn/issues/21755 */display: inline-block !important;position: relative;}#sk-container-id-4 div.sk-text-repr-fallback {display: none;}</style><div id=\"sk-container-id-4\" class=\"sk-top-container\"><div class=\"sk-text-repr-fallback\"><pre>DecisionTreeRegressor()</pre><b>In a Jupyter environment, please rerun this cell to show the HTML representation or trust the notebook. <br />On GitHub, the HTML representation is unable to render, please try loading this page with nbviewer.org.</b></div><div class=\"sk-container\" hidden><div class=\"sk-item\"><div class=\"sk-estimator sk-toggleable\"><input class=\"sk-toggleable__control sk-hidden--visually\" id=\"sk-estimator-id-4\" type=\"checkbox\" checked><label for=\"sk-estimator-id-4\" class=\"sk-toggleable__label sk-toggleable__label-arrow\">DecisionTreeRegressor</label><div class=\"sk-toggleable__content\"><pre>DecisionTreeRegressor()</pre></div></div></div></div></div>"
      ],
      "text/plain": [
       "DecisionTreeRegressor()"
      ]
     },
     "execution_count": 78,
     "metadata": {},
     "output_type": "execute_result"
    }
   ],
   "source": [
    "model = DecisionTreeRegressor()\n",
    "\n",
    "model.fit(X_train_200, y_train)"
   ]
  },
  {
   "cell_type": "code",
   "execution_count": 79,
   "metadata": {},
   "outputs": [
    {
     "name": "stdout",
     "output_type": "stream",
     "text": [
      "train MAPE:  0.06593819596584449\n",
      "test MAPE:  0.0974239554053906\n"
     ]
    }
   ],
   "source": [
    "y_train_pred = model.predict(X_train_200)\n",
    "\n",
    "print('train MAPE: ',mean_absolute_percentage_error(y_train, y_train_pred))\n",
    "\n",
    "y_test_pred = model.predict(X_test_200)\n",
    "\n",
    "print('test MAPE: ', mean_absolute_percentage_error(y_test, y_test_pred))"
   ]
  },
  {
   "cell_type": "markdown",
   "metadata": {},
   "source": [
    "#### 100"
   ]
  },
  {
   "cell_type": "code",
   "execution_count": 80,
   "metadata": {},
   "outputs": [
    {
     "name": "stdout",
     "output_type": "stream",
     "text": [
      "CPU times: total: 2min 13s\n",
      "Wall time: 1min 12s\n"
     ]
    }
   ],
   "source": [
    "%%time\n",
    "\n",
    "df_vector_professions_100_train = get_emb_dataframe(train_cust_pos, 100)\n",
    "X_train_100 = pd.concat([df_vector_professions_100_train, X_train[X_train.columns[~X_train.columns.isin(feat_columns)]].reset_index().drop('index', axis=1)], axis=1, ignore_index=True)\n",
    "\n",
    "df_vector_professions_100_test = get_emb_dataframe(test_cust_pos, 100)\n",
    "X_test_100 = pd.concat([df_vector_professions_100_test, X_test[X_test.columns[~X_test.columns.isin(feat_columns)]].reset_index().drop('index', axis=1)], axis=1, ignore_index=True)"
   ]
  },
  {
   "cell_type": "code",
   "execution_count": 81,
   "metadata": {},
   "outputs": [
    {
     "data": {
      "text/html": [
       "<style>#sk-container-id-5 {color: black;}#sk-container-id-5 pre{padding: 0;}#sk-container-id-5 div.sk-toggleable {background-color: white;}#sk-container-id-5 label.sk-toggleable__label {cursor: pointer;display: block;width: 100%;margin-bottom: 0;padding: 0.3em;box-sizing: border-box;text-align: center;}#sk-container-id-5 label.sk-toggleable__label-arrow:before {content: \"▸\";float: left;margin-right: 0.25em;color: #696969;}#sk-container-id-5 label.sk-toggleable__label-arrow:hover:before {color: black;}#sk-container-id-5 div.sk-estimator:hover label.sk-toggleable__label-arrow:before {color: black;}#sk-container-id-5 div.sk-toggleable__content {max-height: 0;max-width: 0;overflow: hidden;text-align: left;background-color: #f0f8ff;}#sk-container-id-5 div.sk-toggleable__content pre {margin: 0.2em;color: black;border-radius: 0.25em;background-color: #f0f8ff;}#sk-container-id-5 input.sk-toggleable__control:checked~div.sk-toggleable__content {max-height: 200px;max-width: 100%;overflow: auto;}#sk-container-id-5 input.sk-toggleable__control:checked~label.sk-toggleable__label-arrow:before {content: \"▾\";}#sk-container-id-5 div.sk-estimator input.sk-toggleable__control:checked~label.sk-toggleable__label {background-color: #d4ebff;}#sk-container-id-5 div.sk-label input.sk-toggleable__control:checked~label.sk-toggleable__label {background-color: #d4ebff;}#sk-container-id-5 input.sk-hidden--visually {border: 0;clip: rect(1px 1px 1px 1px);clip: rect(1px, 1px, 1px, 1px);height: 1px;margin: -1px;overflow: hidden;padding: 0;position: absolute;width: 1px;}#sk-container-id-5 div.sk-estimator {font-family: monospace;background-color: #f0f8ff;border: 1px dotted black;border-radius: 0.25em;box-sizing: border-box;margin-bottom: 0.5em;}#sk-container-id-5 div.sk-estimator:hover {background-color: #d4ebff;}#sk-container-id-5 div.sk-parallel-item::after {content: \"\";width: 100%;border-bottom: 1px solid gray;flex-grow: 1;}#sk-container-id-5 div.sk-label:hover label.sk-toggleable__label {background-color: #d4ebff;}#sk-container-id-5 div.sk-serial::before {content: \"\";position: absolute;border-left: 1px solid gray;box-sizing: border-box;top: 0;bottom: 0;left: 50%;z-index: 0;}#sk-container-id-5 div.sk-serial {display: flex;flex-direction: column;align-items: center;background-color: white;padding-right: 0.2em;padding-left: 0.2em;position: relative;}#sk-container-id-5 div.sk-item {position: relative;z-index: 1;}#sk-container-id-5 div.sk-parallel {display: flex;align-items: stretch;justify-content: center;background-color: white;position: relative;}#sk-container-id-5 div.sk-item::before, #sk-container-id-5 div.sk-parallel-item::before {content: \"\";position: absolute;border-left: 1px solid gray;box-sizing: border-box;top: 0;bottom: 0;left: 50%;z-index: -1;}#sk-container-id-5 div.sk-parallel-item {display: flex;flex-direction: column;z-index: 1;position: relative;background-color: white;}#sk-container-id-5 div.sk-parallel-item:first-child::after {align-self: flex-end;width: 50%;}#sk-container-id-5 div.sk-parallel-item:last-child::after {align-self: flex-start;width: 50%;}#sk-container-id-5 div.sk-parallel-item:only-child::after {width: 0;}#sk-container-id-5 div.sk-dashed-wrapped {border: 1px dashed gray;margin: 0 0.4em 0.5em 0.4em;box-sizing: border-box;padding-bottom: 0.4em;background-color: white;}#sk-container-id-5 div.sk-label label {font-family: monospace;font-weight: bold;display: inline-block;line-height: 1.2em;}#sk-container-id-5 div.sk-label-container {text-align: center;}#sk-container-id-5 div.sk-container {/* jupyter's `normalize.less` sets `[hidden] { display: none; }` but bootstrap.min.css set `[hidden] { display: none !important; }` so we also need the `!important` here to be able to override the default hidden behavior on the sphinx rendered scikit-learn.org. See: https://github.com/scikit-learn/scikit-learn/issues/21755 */display: inline-block !important;position: relative;}#sk-container-id-5 div.sk-text-repr-fallback {display: none;}</style><div id=\"sk-container-id-5\" class=\"sk-top-container\"><div class=\"sk-text-repr-fallback\"><pre>DecisionTreeRegressor()</pre><b>In a Jupyter environment, please rerun this cell to show the HTML representation or trust the notebook. <br />On GitHub, the HTML representation is unable to render, please try loading this page with nbviewer.org.</b></div><div class=\"sk-container\" hidden><div class=\"sk-item\"><div class=\"sk-estimator sk-toggleable\"><input class=\"sk-toggleable__control sk-hidden--visually\" id=\"sk-estimator-id-5\" type=\"checkbox\" checked><label for=\"sk-estimator-id-5\" class=\"sk-toggleable__label sk-toggleable__label-arrow\">DecisionTreeRegressor</label><div class=\"sk-toggleable__content\"><pre>DecisionTreeRegressor()</pre></div></div></div></div></div>"
      ],
      "text/plain": [
       "DecisionTreeRegressor()"
      ]
     },
     "execution_count": 81,
     "metadata": {},
     "output_type": "execute_result"
    }
   ],
   "source": [
    "model = DecisionTreeRegressor()\n",
    "\n",
    "model.fit(X_train_100, y_train)"
   ]
  },
  {
   "cell_type": "code",
   "execution_count": 82,
   "metadata": {},
   "outputs": [
    {
     "name": "stdout",
     "output_type": "stream",
     "text": [
      "train MAPE:  0.06593819596584449\n",
      "test MAPE:  0.09705590577099299\n"
     ]
    }
   ],
   "source": [
    "y_train_pred = model.predict(X_train_100)\n",
    "\n",
    "print('train MAPE: ',mean_absolute_percentage_error(y_train, y_train_pred))\n",
    "\n",
    "y_test_pred = model.predict(X_test_100)\n",
    "\n",
    "print('test MAPE: ',mean_absolute_percentage_error(y_test, y_test_pred))"
   ]
  },
  {
   "cell_type": "code",
   "execution_count": null,
   "metadata": {},
   "outputs": [],
   "source": [
    "#Ничего особенно не поменялось. В основном в вакансиях небольшое количество слов."
   ]
  }
 ],
 "metadata": {
  "kernelspec": {
   "display_name": "Python 3 (ipykernel)",
   "language": "python",
   "name": "python3"
  },
  "language_info": {
   "codemirror_mode": {
    "name": "ipython",
    "version": 3
   },
   "file_extension": ".py",
   "mimetype": "text/x-python",
   "name": "python",
   "nbconvert_exporter": "python",
   "pygments_lexer": "ipython3",
   "version": "3.10.13"
  }
 },
 "nbformat": 4,
 "nbformat_minor": 4
}
