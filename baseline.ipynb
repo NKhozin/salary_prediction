{
 "cells": [
  {
   "cell_type": "code",
   "execution_count": 52,
   "metadata": {},
   "outputs": [],
   "source": [
    "# #1) Скачиваем с https://fasttext.cc/docs/en/crawl-vectors.html\n",
    "# #2) Распаковыпаем\n",
    "\n",
    "# import gzip\n",
    "# import shutil\n",
    "\n",
    "# with gzip.open('cc.ru.300.bin.gz', 'rb') as f_in:\n",
    "#     with open('cc.ru.300.bin', 'wb') as f_out:\n",
    "#         shutil.copyfileobj(f_in, f_out)"
   ]
  },
  {
   "cell_type": "markdown",
   "metadata": {},
   "source": [
    "### Подготовка "
   ]
  },
  {
   "cell_type": "code",
   "execution_count": 53,
   "metadata": {
    "scrolled": true
   },
   "outputs": [],
   "source": [
    "import pandas as pd\n",
    "import numpy as np\n",
    "import fasttext\n",
    "import fasttext.util\n",
    "from tqdm import tqdm\n",
    "import pickle\n",
    "import ast"
   ]
  },
  {
   "cell_type": "code",
   "execution_count": 54,
   "metadata": {},
   "outputs": [],
   "source": [
    "data = pd.read_csv('students_vacancies_10Nov2023.csv')"
   ]
  },
  {
   "cell_type": "code",
   "execution_count": 55,
   "metadata": {},
   "outputs": [],
   "source": [
    "data = data.drop(['id','salary_to'], axis=1)\n",
    "\n",
    "top_5_city = data.city_id.value_counts().reset_index()['city_id'].values[:5].tolist()\n",
    "data.city_id = data.city_id.apply(lambda value: str(value) if value in top_5_city else 'Остальные')"
   ]
  },
  {
   "cell_type": "code",
   "execution_count": 56,
   "metadata": {},
   "outputs": [
    {
     "data": {
      "text/plain": [
       "(663547, 18)"
      ]
     },
     "execution_count": 56,
     "metadata": {},
     "output_type": "execute_result"
    }
   ],
   "source": [
    "data.shape"
   ]
  },
  {
   "cell_type": "code",
   "execution_count": 57,
   "metadata": {},
   "outputs": [],
   "source": [
    "all_columns = ['custom_position', 'schedule', 'education_name',\n",
    "       'city_id', 'work_skills', 'count_skills', 'required_experience',\n",
    "       'skill_1', 'skill_2', 'skill_3', 'skill_4', 'skill_5', 'skill_6',\n",
    "       'skill_7', 'skill_8', 'skill_9', 'skill_10']"
   ]
  },
  {
   "cell_type": "code",
   "execution_count": 58,
   "metadata": {},
   "outputs": [],
   "source": [
    "data_no_duplicates = data.drop_duplicates(subset=all_columns, keep=False)"
   ]
  },
  {
   "cell_type": "code",
   "execution_count": 59,
   "metadata": {},
   "outputs": [
    {
     "data": {
      "text/plain": [
       "(69996, 18)"
      ]
     },
     "execution_count": 59,
     "metadata": {},
     "output_type": "execute_result"
    }
   ],
   "source": [
    "data_no_duplicates.shape"
   ]
  },
  {
   "cell_type": "code",
   "execution_count": 60,
   "metadata": {},
   "outputs": [],
   "source": [
    "data_median = data.groupby(all_columns, as_index=False).agg(\n",
    "    salary_from_nun=('salary_from', 'nunique'),\n",
    "    salary_from_median=('salary_from', np.median)\n",
    ")\n",
    "\n",
    "data_median = data_median[data_median.salary_from_nun>1][all_columns+['salary_from_median']].rename(columns={'salary_from_median':'salary_from'})"
   ]
  },
  {
   "cell_type": "code",
   "execution_count": 61,
   "metadata": {},
   "outputs": [],
   "source": [
    "data_final = pd.concat([data_no_duplicates, data_median], axis=0)"
   ]
  },
  {
   "cell_type": "code",
   "execution_count": 62,
   "metadata": {},
   "outputs": [
    {
     "data": {
      "text/plain": [
       "(69997, 18)"
      ]
     },
     "execution_count": 62,
     "metadata": {},
     "output_type": "execute_result"
    }
   ],
   "source": [
    "data_final.shape"
   ]
  },
  {
   "cell_type": "code",
   "execution_count": 63,
   "metadata": {},
   "outputs": [],
   "source": [
    "enc_columns = ['schedule','education_name','city_id','required_experience']\n",
    "enc_data = pd.get_dummies(data_final[enc_columns], drop_first=True)\n",
    "\n",
    "data_final = data_final.drop(enc_columns, axis=1)\n",
    "data_final = pd.concat([data_final,enc_data], axis=1)"
   ]
  },
  {
   "cell_type": "code",
   "execution_count": 64,
   "metadata": {},
   "outputs": [],
   "source": [
    "data_final.work_skills = data_final.work_skills.fillna('[]')\n",
    "data_final.work_skills = data_final.work_skills.apply(lambda value: ast.literal_eval(value))\n",
    "data_final['work_skills_str'] = data_final.work_skills.apply(lambda value: ' '.join(value))"
   ]
  },
  {
   "cell_type": "code",
   "execution_count": 65,
   "metadata": {},
   "outputs": [
    {
     "data": {
      "text/plain": [
       "<fasttext.FastText._FastText at 0x22918bc9120>"
      ]
     },
     "execution_count": 65,
     "metadata": {},
     "output_type": "execute_result"
    }
   ],
   "source": [
    "dim = 100\n",
    "\n",
    "ft = fasttext.load_model('cc.ru.300.bin')\n",
    "\n",
    "fasttext.util.reduce_model(ft, dim)"
   ]
  },
  {
   "cell_type": "code",
   "execution_count": 66,
   "metadata": {},
   "outputs": [
    {
     "name": "stdout",
     "output_type": "stream",
     "text": [
      "CPU times: total: 4.8 s\n",
      "Wall time: 4.8 s\n"
     ]
    }
   ],
   "source": [
    "%%time\n",
    "vector_skills = []\n",
    "    \n",
    "for words in data_final.work_skills_str.values.tolist():\n",
    "    vector = np.mean([ft.get_word_vector(word) for word in words.split(' ')], axis=0).tolist()\n",
    "    vector_skills.append(vector)"
   ]
  },
  {
   "cell_type": "code",
   "execution_count": 67,
   "metadata": {},
   "outputs": [],
   "source": [
    "data_final['vector_skills'] = vector_skills"
   ]
  },
  {
   "cell_type": "code",
   "execution_count": 68,
   "metadata": {},
   "outputs": [
    {
     "name": "stdout",
     "output_type": "stream",
     "text": [
      "CPU times: total: 2.17 s\n",
      "Wall time: 2.17 s\n"
     ]
    }
   ],
   "source": [
    "%%time\n",
    "vector_professions = []\n",
    "\n",
    "for words in data_final.custom_position.values.tolist():\n",
    "    vector = np.mean([ft.get_word_vector(word) for word in words.split(' ')], axis=0).tolist()\n",
    "    vector_professions.append(vector)"
   ]
  },
  {
   "cell_type": "code",
   "execution_count": 69,
   "metadata": {},
   "outputs": [],
   "source": [
    "data_final['vector_professions'] = vector_professions"
   ]
  },
  {
   "cell_type": "code",
   "execution_count": 18,
   "metadata": {},
   "outputs": [],
   "source": [
    "del vector_skills, vector_professions, data_median, data_no_duplicates"
   ]
  },
  {
   "cell_type": "code",
   "execution_count": 71,
   "metadata": {},
   "outputs": [],
   "source": [
    "data_final.to_csv('my_data.csv')"
   ]
  },
  {
   "cell_type": "markdown",
   "metadata": {},
   "source": [
    "### Предсказание"
   ]
  },
  {
   "cell_type": "code",
   "execution_count": 19,
   "metadata": {},
   "outputs": [],
   "source": [
    "from sklearn.model_selection import train_test_split, cross_val_score, KFold, GridSearchCV\n",
    "from sklearn.metrics import mean_absolute_percentage_error\n",
    "from sklearn.linear_model import LinearRegression, Ridge, Lasso\n",
    "from sklearn.neighbors import KNeighborsRegressor\n",
    "from sklearn.tree import DecisionTreeRegressor\n",
    "from sklearn.ensemble import RandomForestRegressor\n",
    "from catboost import CatBoostRegressor\n",
    "import matplotlib.pyplot as plt\n",
    "import seaborn as sns\n",
    "import time"
   ]
  },
  {
   "cell_type": "code",
   "execution_count": 20,
   "metadata": {},
   "outputs": [],
   "source": [
    "custom_position_dict = dict(zip(data_final.index, data_final.custom_position))"
   ]
  },
  {
   "cell_type": "code",
   "execution_count": 21,
   "metadata": {},
   "outputs": [],
   "source": [
    "y = data_final.salary_from\n",
    "X = data_final.drop('salary_from', axis=1)"
   ]
  },
  {
   "cell_type": "code",
   "execution_count": 49,
   "metadata": {},
   "outputs": [],
   "source": [
    "X_train, X_test, y_train, y_test = train_test_split(X, y, test_size=0.2, random_state=42)"
   ]
  },
  {
   "cell_type": "code",
   "execution_count": 23,
   "metadata": {},
   "outputs": [],
   "source": [
    "train_cust_pos = X_train.custom_position.values.tolist()\n",
    "test_cust_pos = X_test.custom_position.values.tolist()"
   ]
  },
  {
   "cell_type": "code",
   "execution_count": 24,
   "metadata": {},
   "outputs": [],
   "source": [
    "fit_cols = ['count_skills', 'schedule_полный рабочий день',\n",
    "       'schedule_свободный график', 'schedule_сменный график',\n",
    "       'schedule_удаленная работа', 'schedule_частичная занятость',\n",
    "       'education_name_высшее (бакалавр)', 'education_name_любое',\n",
    "       'education_name_неполное высшее', 'education_name_среднее',\n",
    "       'education_name_среднее профессиональное',\n",
    "       'required_experience_Нет опыта',\n",
    "       'required_experience_От 1 года до 3 лет',\n",
    "       'required_experience_От 3 до 6 лет', 'vector_skills',\n",
    "       'vector_professions']"
   ]
  },
  {
   "cell_type": "code",
   "execution_count": 25,
   "metadata": {},
   "outputs": [],
   "source": [
    "X_train = X_train[fit_cols]\n",
    "X_test = X_test[fit_cols]"
   ]
  },
  {
   "cell_type": "code",
   "execution_count": 26,
   "metadata": {},
   "outputs": [],
   "source": [
    "vector_professions_train_df = pd.DataFrame(X_train.vector_professions.tolist(), columns=[f\"feature_prof_{c}\" for c in range(1, 100+1)])\n",
    "X_train.reset_index(drop=True, inplace=True)\n",
    "vector_professions_train_df.reset_index(drop=True, inplace=True)\n",
    "X_train = pd.concat([X_train, vector_professions_train_df], axis=1)\n",
    "\n",
    "vector_professions_test_df = pd.DataFrame(X_test.vector_professions.tolist(), columns=[f\"feature_prof_{c}\" for c in range(1, 100+1)])\n",
    "X_test.reset_index(drop=True, inplace=True)\n",
    "vector_professions_test_df.reset_index(drop=True, inplace=True)\n",
    "X_test = pd.concat([X_test, vector_professions_test_df], axis=1)"
   ]
  },
  {
   "cell_type": "code",
   "execution_count": 27,
   "metadata": {},
   "outputs": [],
   "source": [
    "vector_skills_train_df = pd.DataFrame(X_train.vector_skills.tolist(), columns=[f\"feature_skill_{c}\" for c in range(1, 100+1)])\n",
    "X_train.reset_index(drop=True, inplace=True)\n",
    "vector_skills_train_df.reset_index(drop=True, inplace=True)\n",
    "X_train = pd.concat([X_train, vector_skills_train_df], axis=1)\n",
    "\n",
    "vector_skills_test_df = pd.DataFrame(X_test.vector_skills.tolist(), columns=[f\"feature_skill_{c}\" for c in range(1, 100+1)])\n",
    "X_test.reset_index(drop=True, inplace=True)\n",
    "vector_skills_test_df.reset_index(drop=True, inplace=True)\n",
    "X_test = pd.concat([X_test, vector_skills_test_df], axis=1)"
   ]
  },
  {
   "cell_type": "code",
   "execution_count": 28,
   "metadata": {},
   "outputs": [],
   "source": [
    "X_train = X_train.drop(['vector_professions', 'vector_skills'], axis=1)\n",
    "X_test = X_test.drop(['vector_professions', 'vector_skills'], axis=1)"
   ]
  },
  {
   "cell_type": "code",
   "execution_count": 29,
   "metadata": {},
   "outputs": [
    {
     "data": {
      "text/plain": [
       "(55997, 214)"
      ]
     },
     "execution_count": 29,
     "metadata": {},
     "output_type": "execute_result"
    }
   ],
   "source": [
    "X_train.shape"
   ]
  },
  {
   "cell_type": "code",
   "execution_count": 30,
   "metadata": {},
   "outputs": [
    {
     "data": {
      "text/plain": [
       "(14000, 214)"
      ]
     },
     "execution_count": 30,
     "metadata": {},
     "output_type": "execute_result"
    }
   ],
   "source": [
    "X_test.shape"
   ]
  },
  {
   "cell_type": "code",
   "execution_count": 32,
   "metadata": {},
   "outputs": [],
   "source": [
    "num_folds = 5\n",
    "random_state = 42\n",
    "scoring = 'neg_mean_absolute_error'\n",
    "\n",
    "models = []\n",
    "\n",
    "models.append(('LR', LinearRegression()))\n",
    "models.append(('RidgeRegression', Ridge()))\n",
    "models.append(('LassoRegression', Lasso()))\n",
    "models.append(('KNNRegression', KNeighborsRegressor()))\n",
    "models.append(('DecisionTreeRegressor', DecisionTreeRegressor()))\n",
    "models.append(('CatBoostRegressor', CatBoostRegressor(verbose=0)))"
   ]
  },
  {
   "cell_type": "code",
   "execution_count": 33,
   "metadata": {},
   "outputs": [
    {
     "name": "stdout",
     "output_type": "stream",
     "text": [
      "LR 16985.24 107.87 0.99  sec.\n",
      "RidgeRegression 16970.79 114.74 0.57  sec.\n",
      "LassoRegression 16973.9 115.7 11.4  sec.\n",
      "KNNRegression 14906.79 95.82 6.22  sec.\n",
      "DecisionTreeRegressor 16445.19 43.6 101.56  sec.\n",
      "CatBoostRegressor 13579.62 98.63 74.36  sec.\n"
     ]
    }
   ],
   "source": [
    "results = []\n",
    "names = []\n",
    "times = []\n",
    "\n",
    "for name, model in models:\n",
    "    start = time.time()\n",
    "    kfold = KFold(n_splits=num_folds, random_state=random_state, shuffle=True)\n",
    "\n",
    "    cv_results = -1 * cross_val_score(model, X_train, y_train, cv=kfold, scoring=scoring)\n",
    "\n",
    "    results.append(cv_results)\n",
    "    names.append(name)\n",
    "    end = time.time()\n",
    "    times.append(end - start)\n",
    "    \n",
    "    print(name, round(cv_results.mean(),2), round(cv_results.std(),2), round(end - start,2), ' sec.')"
   ]
  },
  {
   "cell_type": "code",
   "execution_count": 34,
   "metadata": {},
   "outputs": [
    {
     "data": {
      "text/html": [
       "<div>\n",
       "<style scoped>\n",
       "    .dataframe tbody tr th:only-of-type {\n",
       "        vertical-align: middle;\n",
       "    }\n",
       "\n",
       "    .dataframe tbody tr th {\n",
       "        vertical-align: top;\n",
       "    }\n",
       "\n",
       "    .dataframe thead th {\n",
       "        text-align: right;\n",
       "    }\n",
       "</style>\n",
       "<table border=\"1\" class=\"dataframe\">\n",
       "  <thead>\n",
       "    <tr style=\"text-align: right;\">\n",
       "      <th></th>\n",
       "      <th>names</th>\n",
       "      <th>score</th>\n",
       "      <th>time</th>\n",
       "    </tr>\n",
       "  </thead>\n",
       "  <tbody>\n",
       "    <tr>\n",
       "      <th>0</th>\n",
       "      <td>LR</td>\n",
       "      <td>16985.2</td>\n",
       "      <td>0.990</td>\n",
       "    </tr>\n",
       "    <tr>\n",
       "      <th>1</th>\n",
       "      <td>RidgeRegression</td>\n",
       "      <td>16970.8</td>\n",
       "      <td>0.572</td>\n",
       "    </tr>\n",
       "    <tr>\n",
       "      <th>2</th>\n",
       "      <td>LassoRegression</td>\n",
       "      <td>16973.9</td>\n",
       "      <td>11.403</td>\n",
       "    </tr>\n",
       "    <tr>\n",
       "      <th>3</th>\n",
       "      <td>KNNRegression</td>\n",
       "      <td>14906.8</td>\n",
       "      <td>6.217</td>\n",
       "    </tr>\n",
       "    <tr>\n",
       "      <th>4</th>\n",
       "      <td>DecisionTreeRegressor</td>\n",
       "      <td>16445.2</td>\n",
       "      <td>101.561</td>\n",
       "    </tr>\n",
       "    <tr>\n",
       "      <th>5</th>\n",
       "      <td>CatBoostRegressor</td>\n",
       "      <td>13579.6</td>\n",
       "      <td>74.360</td>\n",
       "    </tr>\n",
       "  </tbody>\n",
       "</table>\n",
       "</div>"
      ],
      "text/plain": [
       "                   names    score     time\n",
       "0                     LR  16985.2    0.990\n",
       "1        RidgeRegression  16970.8    0.572\n",
       "2        LassoRegression  16973.9   11.403\n",
       "3          KNNRegression  14906.8    6.217\n",
       "4  DecisionTreeRegressor  16445.2  101.561\n",
       "5      CatBoostRegressor  13579.6   74.360"
      ]
     },
     "execution_count": 34,
     "metadata": {},
     "output_type": "execute_result"
    }
   ],
   "source": [
    "result_df = pd.DataFrame(\n",
    "    {'names': names,\n",
    "     'score': [round(np.mean(i),1) for i in results],\n",
    "     'time': [round(i,3) for i in times]\n",
    "    })\n",
    "result_df"
   ]
  },
  {
   "cell_type": "code",
   "execution_count": 35,
   "metadata": {},
   "outputs": [],
   "source": [
    "result_df.to_excel('results.xlsx')"
   ]
  },
  {
   "cell_type": "markdown",
   "metadata": {},
   "source": [
    "### MAPE лучшей модели"
   ]
  },
  {
   "cell_type": "code",
   "execution_count": 36,
   "metadata": {},
   "outputs": [
    {
     "data": {
      "text/plain": [
       "<catboost.core.CatBoostRegressor at 0x2290609eef0>"
      ]
     },
     "execution_count": 36,
     "metadata": {},
     "output_type": "execute_result"
    }
   ],
   "source": [
    "model = CatBoostRegressor(verbose=0)\n",
    "\n",
    "model.fit(X_train, y_train)"
   ]
  },
  {
   "cell_type": "code",
   "execution_count": 37,
   "metadata": {},
   "outputs": [
    {
     "name": "stdout",
     "output_type": "stream",
     "text": [
      "train MAPE:  0.22651276095082312\n",
      "test MAPE:  0.25299705188454075\n"
     ]
    }
   ],
   "source": [
    "y_train_pred = model.predict(X_train)\n",
    "\n",
    "print('train MAPE: ',mean_absolute_percentage_error(y_train, y_train_pred))\n",
    "\n",
    "y_test_pred = model.predict(X_test)\n",
    "\n",
    "print('test MAPE: ',mean_absolute_percentage_error(y_test, y_test_pred))"
   ]
  },
  {
   "cell_type": "markdown",
   "metadata": {},
   "source": [
    "### Наибольшие значения ошибок на train и test"
   ]
  },
  {
   "cell_type": "code",
   "execution_count": 38,
   "metadata": {},
   "outputs": [
    {
     "data": {
      "text/html": [
       "<div>\n",
       "<style scoped>\n",
       "    .dataframe tbody tr th:only-of-type {\n",
       "        vertical-align: middle;\n",
       "    }\n",
       "\n",
       "    .dataframe tbody tr th {\n",
       "        vertical-align: top;\n",
       "    }\n",
       "\n",
       "    .dataframe thead th {\n",
       "        text-align: right;\n",
       "    }\n",
       "</style>\n",
       "<table border=\"1\" class=\"dataframe\">\n",
       "  <thead>\n",
       "    <tr style=\"text-align: right;\">\n",
       "      <th></th>\n",
       "      <th>custom_position</th>\n",
       "      <th>target</th>\n",
       "      <th>pred</th>\n",
       "      <th>MAE</th>\n",
       "    </tr>\n",
       "  </thead>\n",
       "  <tbody>\n",
       "    <tr>\n",
       "      <th>0</th>\n",
       "      <td>упаковщик бортпитания</td>\n",
       "      <td>292000.0</td>\n",
       "      <td>54910.0</td>\n",
       "      <td>237090.0</td>\n",
       "    </tr>\n",
       "    <tr>\n",
       "      <th>1</th>\n",
       "      <td>упаковщик брендовой одежды</td>\n",
       "      <td>275000.0</td>\n",
       "      <td>39104.0</td>\n",
       "      <td>235896.0</td>\n",
       "    </tr>\n",
       "    <tr>\n",
       "      <th>2</th>\n",
       "      <td>менеджер по продажам</td>\n",
       "      <td>250000.0</td>\n",
       "      <td>55300.0</td>\n",
       "      <td>194700.0</td>\n",
       "    </tr>\n",
       "    <tr>\n",
       "      <th>3</th>\n",
       "      <td>продавец-кассир</td>\n",
       "      <td>45000.0</td>\n",
       "      <td>232810.0</td>\n",
       "      <td>187810.0</td>\n",
       "    </tr>\n",
       "    <tr>\n",
       "      <th>4</th>\n",
       "      <td>геофизик</td>\n",
       "      <td>230000.0</td>\n",
       "      <td>45579.0</td>\n",
       "      <td>184421.0</td>\n",
       "    </tr>\n",
       "    <tr>\n",
       "      <th>5</th>\n",
       "      <td>водитель категории с</td>\n",
       "      <td>229885.0</td>\n",
       "      <td>47035.0</td>\n",
       "      <td>182850.0</td>\n",
       "    </tr>\n",
       "    <tr>\n",
       "      <th>6</th>\n",
       "      <td>начальник отдела пто</td>\n",
       "      <td>235000.0</td>\n",
       "      <td>52266.0</td>\n",
       "      <td>182734.0</td>\n",
       "    </tr>\n",
       "    <tr>\n",
       "      <th>7</th>\n",
       "      <td>бригадир на склад (оконный профиль)</td>\n",
       "      <td>60000.0</td>\n",
       "      <td>230333.0</td>\n",
       "      <td>170333.0</td>\n",
       "    </tr>\n",
       "    <tr>\n",
       "      <th>8</th>\n",
       "      <td>прораб (отделочные работы)</td>\n",
       "      <td>200000.0</td>\n",
       "      <td>34257.0</td>\n",
       "      <td>165743.0</td>\n",
       "    </tr>\n",
       "    <tr>\n",
       "      <th>9</th>\n",
       "      <td>водитель камаза категории се</td>\n",
       "      <td>208000.0</td>\n",
       "      <td>42270.0</td>\n",
       "      <td>165730.0</td>\n",
       "    </tr>\n",
       "  </tbody>\n",
       "</table>\n",
       "</div>"
      ],
      "text/plain": [
       "                       custom_position    target      pred       MAE\n",
       "0                упаковщик бортпитания  292000.0   54910.0  237090.0\n",
       "1           упаковщик брендовой одежды  275000.0   39104.0  235896.0\n",
       "2                 менеджер по продажам  250000.0   55300.0  194700.0\n",
       "3                      продавец-кассир   45000.0  232810.0  187810.0\n",
       "4                             геофизик  230000.0   45579.0  184421.0\n",
       "5                 водитель категории с  229885.0   47035.0  182850.0\n",
       "6                 начальник отдела пто  235000.0   52266.0  182734.0\n",
       "7  бригадир на склад (оконный профиль)   60000.0  230333.0  170333.0\n",
       "8           прораб (отделочные работы)  200000.0   34257.0  165743.0\n",
       "9         водитель камаза категории се  208000.0   42270.0  165730.0"
      ]
     },
     "metadata": {},
     "output_type": "display_data"
    }
   ],
   "source": [
    "X_train['target'] = y_train\n",
    "X_train['pred'] = y_train_pred\n",
    "X_train['MAE'] = np.abs(X_train['pred'] - y_train)\n",
    "\n",
    "top_10 = X_train.sort_values(by='MAE', ascending=False).head(10)[['target','pred','MAE']].reset_index()\n",
    "top_10['custom_position'] = top_10['index'].apply(lambda value: custom_position_dict[value])\n",
    "display(round(top_10[['custom_position','target','pred','MAE']]))"
   ]
  },
  {
   "cell_type": "code",
   "execution_count": 39,
   "metadata": {},
   "outputs": [
    {
     "data": {
      "text/html": [
       "<div>\n",
       "<style scoped>\n",
       "    .dataframe tbody tr th:only-of-type {\n",
       "        vertical-align: middle;\n",
       "    }\n",
       "\n",
       "    .dataframe tbody tr th {\n",
       "        vertical-align: top;\n",
       "    }\n",
       "\n",
       "    .dataframe thead th {\n",
       "        text-align: right;\n",
       "    }\n",
       "</style>\n",
       "<table border=\"1\" class=\"dataframe\">\n",
       "  <thead>\n",
       "    <tr style=\"text-align: right;\">\n",
       "      <th></th>\n",
       "      <th>custom_position</th>\n",
       "      <th>target</th>\n",
       "      <th>pred</th>\n",
       "      <th>MAE</th>\n",
       "    </tr>\n",
       "  </thead>\n",
       "  <tbody>\n",
       "    <tr>\n",
       "      <th>0</th>\n",
       "      <td>сортировщик/ упаковщик на склад полуфабрикатов...</td>\n",
       "      <td>189000.0</td>\n",
       "      <td>36755.0</td>\n",
       "      <td>152245.0</td>\n",
       "    </tr>\n",
       "    <tr>\n",
       "      <th>1</th>\n",
       "      <td>бухгалтер первички</td>\n",
       "      <td>35000.0</td>\n",
       "      <td>169641.0</td>\n",
       "      <td>134641.0</td>\n",
       "    </tr>\n",
       "    <tr>\n",
       "      <th>2</th>\n",
       "      <td>слесарь по ремонту и обслуживанию кипиа и элек...</td>\n",
       "      <td>150000.0</td>\n",
       "      <td>32423.0</td>\n",
       "      <td>117577.0</td>\n",
       "    </tr>\n",
       "    <tr>\n",
       "      <th>3</th>\n",
       "      <td>менеджер в мебельный отдел</td>\n",
       "      <td>30000.0</td>\n",
       "      <td>142644.0</td>\n",
       "      <td>112644.0</td>\n",
       "    </tr>\n",
       "    <tr>\n",
       "      <th>4</th>\n",
       "      <td>head of hr</td>\n",
       "      <td>150000.0</td>\n",
       "      <td>47882.0</td>\n",
       "      <td>102118.0</td>\n",
       "    </tr>\n",
       "    <tr>\n",
       "      <th>5</th>\n",
       "      <td>разнорабочий</td>\n",
       "      <td>22400.0</td>\n",
       "      <td>122835.0</td>\n",
       "      <td>100435.0</td>\n",
       "    </tr>\n",
       "    <tr>\n",
       "      <th>6</th>\n",
       "      <td>водитель категории е</td>\n",
       "      <td>150000.0</td>\n",
       "      <td>49626.0</td>\n",
       "      <td>100374.0</td>\n",
       "    </tr>\n",
       "    <tr>\n",
       "      <th>7</th>\n",
       "      <td>водитель категории с и е</td>\n",
       "      <td>140000.0</td>\n",
       "      <td>42773.0</td>\n",
       "      <td>97227.0</td>\n",
       "    </tr>\n",
       "    <tr>\n",
       "      <th>8</th>\n",
       "      <td>охранник без лицензии</td>\n",
       "      <td>72000.0</td>\n",
       "      <td>168768.0</td>\n",
       "      <td>96768.0</td>\n",
       "    </tr>\n",
       "    <tr>\n",
       "      <th>9</th>\n",
       "      <td>бульдозерист</td>\n",
       "      <td>140000.0</td>\n",
       "      <td>49488.0</td>\n",
       "      <td>90512.0</td>\n",
       "    </tr>\n",
       "  </tbody>\n",
       "</table>\n",
       "</div>"
      ],
      "text/plain": [
       "                                     custom_position    target      pred  \\\n",
       "0  сортировщик/ упаковщик на склад полуфабрикатов...  189000.0   36755.0   \n",
       "1                                 бухгалтер первички   35000.0  169641.0   \n",
       "2  слесарь по ремонту и обслуживанию кипиа и элек...  150000.0   32423.0   \n",
       "3                         менеджер в мебельный отдел   30000.0  142644.0   \n",
       "4                                         head of hr  150000.0   47882.0   \n",
       "5                                       разнорабочий   22400.0  122835.0   \n",
       "6                               водитель категории е  150000.0   49626.0   \n",
       "7                           водитель категории с и е  140000.0   42773.0   \n",
       "8                              охранник без лицензии   72000.0  168768.0   \n",
       "9                                       бульдозерист  140000.0   49488.0   \n",
       "\n",
       "        MAE  \n",
       "0  152245.0  \n",
       "1  134641.0  \n",
       "2  117577.0  \n",
       "3  112644.0  \n",
       "4  102118.0  \n",
       "5  100435.0  \n",
       "6  100374.0  \n",
       "7   97227.0  \n",
       "8   96768.0  \n",
       "9   90512.0  "
      ]
     },
     "metadata": {},
     "output_type": "display_data"
    }
   ],
   "source": [
    "X_test['target'] = y_test\n",
    "X_test['pred'] = y_test_pred\n",
    "X_test['MAE'] = np.abs(X_test['pred'] - y_test)\n",
    "\n",
    "top_10 = X_test.sort_values(by='MAE', ascending=False).head(10)[['target','pred','MAE']].reset_index()\n",
    "top_10['custom_position'] = top_10['index'].apply(lambda value: custom_position_dict[value])\n",
    "display(round(top_10[['custom_position','target','pred','MAE']]))"
   ]
  },
  {
   "cell_type": "code",
   "execution_count": 43,
   "metadata": {},
   "outputs": [
    {
     "name": "stdout",
     "output_type": "stream",
     "text": [
      "(1369, 30)\n"
     ]
    },
    {
     "data": {
      "text/plain": [
       "<Axes: xlabel='salary_from'>"
      ]
     },
     "execution_count": 43,
     "metadata": {},
     "output_type": "execute_result"
    },
    {
     "data": {
      "image/png": "[encoded data removed]",
      "text/plain": [
       "<Figure size 1000x200 with 1 Axes>"
      ]
     },
     "metadata": {},
     "output_type": "display_data"
    }
   ],
   "source": [
    "sns.set(rc={'figure.figsize':(10, 2)})\n",
    "\n",
    "example = data_final[data_final.custom_position.str.contains('упаковщик')]\n",
    "print(example.shape)\n",
    "sns.boxplot(example.salary_from, orient='h')"
   ]
  },
  {
   "cell_type": "code",
   "execution_count": 44,
   "metadata": {},
   "outputs": [
    {
     "name": "stdout",
     "output_type": "stream",
     "text": [
      "(6491, 30)\n"
     ]
    },
    {
     "data": {
      "text/plain": [
       "<Axes: xlabel='salary_from'>"
      ]
     },
     "execution_count": 44,
     "metadata": {},
     "output_type": "execute_result"
    },
    {
     "data": {
      "image/png": "[encoded data removed]",
      "text/plain": [
       "<Figure size 1000x200 with 1 Axes>"
      ]
     },
     "metadata": {},
     "output_type": "display_data"
    }
   ],
   "source": [
    "sns.set(rc={'figure.figsize':(10, 2)})\n",
    "\n",
    "example = data_final[data_final.custom_position.str.contains('менеджер ')]\n",
    "print(example.shape)\n",
    "sns.boxplot(example.salary_from, orient='h')"
   ]
  },
  {
   "cell_type": "code",
   "execution_count": 45,
   "metadata": {
    "scrolled": true
   },
   "outputs": [
    {
     "name": "stdout",
     "output_type": "stream",
     "text": [
      "(2907, 18)\n"
     ]
    },
    {
     "data": {
      "text/plain": [
       "<Axes: xlabel='salary_from'>"
      ]
     },
     "execution_count": 45,
     "metadata": {},
     "output_type": "execute_result"
    },
    {
     "data": {
      "image/png": "[encoded data removed]",
      "text/plain": [
       "<Figure size 1000x200 with 1 Axes>"
      ]
     },
     "metadata": {},
     "output_type": "display_data"
    }
   ],
   "source": [
    "sns.set(rc={'figure.figsize':(10, 2)})\n",
    "\n",
    "example = data[data.custom_position.str.contains('разнорабочий')]\n",
    "print(example.shape)\n",
    "sns.boxplot(example.salary_from, orient='h')"
   ]
  }
 ],
 "metadata": {
  "kernelspec": {
   "display_name": "Python 3 (ipykernel)",
   "language": "python",
   "name": "python3"
  },
  "language_info": {
   "codemirror_mode": {
    "name": "ipython",
    "version": 3
   },
   "file_extension": ".py",
   "mimetype": "text/x-python",
   "name": "python",
   "nbconvert_exporter": "python",
   "pygments_lexer": "ipython3",
   "version": "3.10.13"
  }
 },
 "nbformat": 4,
 "nbformat_minor": 4
}
