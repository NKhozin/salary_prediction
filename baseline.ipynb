{
 "cells": [
  {
   "cell_type": "markdown",
   "metadata": {},
   "source": [
    "### Подготовка данных"
   ]
  },
  {
   "cell_type": "code",
   "execution_count": 1,
   "metadata": {
    "scrolled": true
   },
   "outputs": [],
   "source": [
    "import pandas as pd\n",
    "import numpy as np\n",
    "import fasttext\n",
    "import fasttext.util\n",
    "from tqdm import tqdm\n",
    "import pickle\n",
    "import ast"
   ]
  },
  {
   "cell_type": "code",
   "execution_count": 2,
   "metadata": {},
   "outputs": [],
   "source": [
    "data = pd.read_csv('students_vacancies_10Nov2023.csv')"
   ]
  },
  {
   "cell_type": "code",
   "execution_count": 3,
   "metadata": {},
   "outputs": [
    {
     "data": {
      "text/html": [
       "<div>\n",
       "<style scoped>\n",
       "    .dataframe tbody tr th:only-of-type {\n",
       "        vertical-align: middle;\n",
       "    }\n",
       "\n",
       "    .dataframe tbody tr th {\n",
       "        vertical-align: top;\n",
       "    }\n",
       "\n",
       "    .dataframe thead th {\n",
       "        text-align: right;\n",
       "    }\n",
       "</style>\n",
       "<table border=\"1\" class=\"dataframe\">\n",
       "  <thead>\n",
       "    <tr style=\"text-align: right;\">\n",
       "      <th></th>\n",
       "      <th>id</th>\n",
       "      <th>custom_position</th>\n",
       "      <th>schedule</th>\n",
       "      <th>salary_from</th>\n",
       "      <th>salary_to</th>\n",
       "      <th>education_name</th>\n",
       "      <th>city_id</th>\n",
       "      <th>work_skills</th>\n",
       "      <th>count_skills</th>\n",
       "      <th>required_experience</th>\n",
       "      <th>skill_1</th>\n",
       "      <th>skill_2</th>\n",
       "      <th>skill_3</th>\n",
       "      <th>skill_4</th>\n",
       "      <th>skill_5</th>\n",
       "      <th>skill_6</th>\n",
       "      <th>skill_7</th>\n",
       "      <th>skill_8</th>\n",
       "      <th>skill_9</th>\n",
       "      <th>skill_10</th>\n",
       "    </tr>\n",
       "  </thead>\n",
       "  <tbody>\n",
       "    <tr>\n",
       "      <th>0</th>\n",
       "      <td>48670907</td>\n",
       "      <td>продавец-кассир</td>\n",
       "      <td>сменный график</td>\n",
       "      <td>24400.0</td>\n",
       "      <td>29400.0</td>\n",
       "      <td>любое</td>\n",
       "      <td>174</td>\n",
       "      <td>NaN</td>\n",
       "      <td>0</td>\n",
       "      <td>Нет опыта</td>\n",
       "      <td>NaN</td>\n",
       "      <td>NaN</td>\n",
       "      <td>NaN</td>\n",
       "      <td>NaN</td>\n",
       "      <td>NaN</td>\n",
       "      <td>NaN</td>\n",
       "      <td>NaN</td>\n",
       "      <td>NaN</td>\n",
       "      <td>NaN</td>\n",
       "      <td>NaN</td>\n",
       "    </tr>\n",
       "    <tr>\n",
       "      <th>1</th>\n",
       "      <td>48252249</td>\n",
       "      <td>продавец-кассир</td>\n",
       "      <td>сменный график</td>\n",
       "      <td>27800.0</td>\n",
       "      <td>32800.0</td>\n",
       "      <td>любое</td>\n",
       "      <td>36</td>\n",
       "      <td>NaN</td>\n",
       "      <td>0</td>\n",
       "      <td>Нет опыта</td>\n",
       "      <td>NaN</td>\n",
       "      <td>NaN</td>\n",
       "      <td>NaN</td>\n",
       "      <td>NaN</td>\n",
       "      <td>NaN</td>\n",
       "      <td>NaN</td>\n",
       "      <td>NaN</td>\n",
       "      <td>NaN</td>\n",
       "      <td>NaN</td>\n",
       "      <td>NaN</td>\n",
       "    </tr>\n",
       "    <tr>\n",
       "      <th>2</th>\n",
       "      <td>48628300</td>\n",
       "      <td>кассир (сотрудник супермаркета)</td>\n",
       "      <td>полный рабочий день</td>\n",
       "      <td>44000.0</td>\n",
       "      <td>55000.0</td>\n",
       "      <td>любое</td>\n",
       "      <td>1</td>\n",
       "      <td>NaN</td>\n",
       "      <td>0</td>\n",
       "      <td>Нет опыта</td>\n",
       "      <td>NaN</td>\n",
       "      <td>NaN</td>\n",
       "      <td>NaN</td>\n",
       "      <td>NaN</td>\n",
       "      <td>NaN</td>\n",
       "      <td>NaN</td>\n",
       "      <td>NaN</td>\n",
       "      <td>NaN</td>\n",
       "      <td>NaN</td>\n",
       "      <td>NaN</td>\n",
       "    </tr>\n",
       "  </tbody>\n",
       "</table>\n",
       "</div>"
      ],
      "text/plain": [
       "         id                  custom_position             schedule  \\\n",
       "0  48670907                  продавец-кассир       сменный график   \n",
       "1  48252249                  продавец-кассир       сменный график   \n",
       "2  48628300  кассир (сотрудник супермаркета)  полный рабочий день   \n",
       "\n",
       "   salary_from  salary_to education_name  city_id work_skills  count_skills  \\\n",
       "0      24400.0    29400.0          любое      174         NaN             0   \n",
       "1      27800.0    32800.0          любое       36         NaN             0   \n",
       "2      44000.0    55000.0          любое        1         NaN             0   \n",
       "\n",
       "  required_experience skill_1 skill_2 skill_3 skill_4 skill_5 skill_6 skill_7  \\\n",
       "0           Нет опыта     NaN     NaN     NaN     NaN     NaN     NaN     NaN   \n",
       "1           Нет опыта     NaN     NaN     NaN     NaN     NaN     NaN     NaN   \n",
       "2           Нет опыта     NaN     NaN     NaN     NaN     NaN     NaN     NaN   \n",
       "\n",
       "  skill_8 skill_9 skill_10  \n",
       "0     NaN     NaN      NaN  \n",
       "1     NaN     NaN      NaN  \n",
       "2     NaN     NaN      NaN  "
      ]
     },
     "execution_count": 3,
     "metadata": {},
     "output_type": "execute_result"
    }
   ],
   "source": [
    "data.head(3)"
   ]
  },
  {
   "cell_type": "code",
   "execution_count": 4,
   "metadata": {},
   "outputs": [
    {
     "data": {
      "text/plain": [
       "(663547, 20)"
      ]
     },
     "execution_count": 4,
     "metadata": {},
     "output_type": "execute_result"
    }
   ],
   "source": [
    "data.shape"
   ]
  },
  {
   "cell_type": "code",
   "execution_count": 5,
   "metadata": {},
   "outputs": [
    {
     "data": {
      "text/html": [
       "<div>\n",
       "<style scoped>\n",
       "    .dataframe tbody tr th:only-of-type {\n",
       "        vertical-align: middle;\n",
       "    }\n",
       "\n",
       "    .dataframe tbody tr th {\n",
       "        vertical-align: top;\n",
       "    }\n",
       "\n",
       "    .dataframe thead th {\n",
       "        text-align: right;\n",
       "    }\n",
       "</style>\n",
       "<table border=\"1\" class=\"dataframe\">\n",
       "  <thead>\n",
       "    <tr style=\"text-align: right;\">\n",
       "      <th></th>\n",
       "      <th>id</th>\n",
       "      <th>salary_from</th>\n",
       "      <th>salary_to</th>\n",
       "      <th>city_id</th>\n",
       "      <th>count_skills</th>\n",
       "    </tr>\n",
       "  </thead>\n",
       "  <tbody>\n",
       "    <tr>\n",
       "      <th>count</th>\n",
       "      <td>6.635470e+05</td>\n",
       "      <td>663547.000000</td>\n",
       "      <td>663547.000000</td>\n",
       "      <td>663547.000000</td>\n",
       "      <td>663547.000000</td>\n",
       "    </tr>\n",
       "    <tr>\n",
       "      <th>mean</th>\n",
       "      <td>4.838766e+07</td>\n",
       "      <td>39096.017057</td>\n",
       "      <td>49290.199144</td>\n",
       "      <td>44.343623</td>\n",
       "      <td>0.614056</td>\n",
       "    </tr>\n",
       "    <tr>\n",
       "      <th>std</th>\n",
       "      <td>2.566830e+05</td>\n",
       "      <td>21831.560470</td>\n",
       "      <td>32908.483886</td>\n",
       "      <td>71.286823</td>\n",
       "      <td>2.357438</td>\n",
       "    </tr>\n",
       "    <tr>\n",
       "      <th>min</th>\n",
       "      <td>4.796162e+07</td>\n",
       "      <td>20025.000000</td>\n",
       "      <td>20100.000000</td>\n",
       "      <td>1.000000</td>\n",
       "      <td>0.000000</td>\n",
       "    </tr>\n",
       "    <tr>\n",
       "      <th>25%</th>\n",
       "      <td>4.816378e+07</td>\n",
       "      <td>27800.000000</td>\n",
       "      <td>32600.000000</td>\n",
       "      <td>3.000000</td>\n",
       "      <td>0.000000</td>\n",
       "    </tr>\n",
       "    <tr>\n",
       "      <th>50%</th>\n",
       "      <td>4.837984e+07</td>\n",
       "      <td>32000.000000</td>\n",
       "      <td>37500.000000</td>\n",
       "      <td>10.000000</td>\n",
       "      <td>0.000000</td>\n",
       "    </tr>\n",
       "    <tr>\n",
       "      <th>75%</th>\n",
       "      <td>4.859582e+07</td>\n",
       "      <td>40000.000000</td>\n",
       "      <td>50000.000000</td>\n",
       "      <td>36.000000</td>\n",
       "      <td>0.000000</td>\n",
       "    </tr>\n",
       "    <tr>\n",
       "      <th>max</th>\n",
       "      <td>4.890312e+07</td>\n",
       "      <td>400000.000000</td>\n",
       "      <td>400000.000000</td>\n",
       "      <td>272.000000</td>\n",
       "      <td>56.000000</td>\n",
       "    </tr>\n",
       "  </tbody>\n",
       "</table>\n",
       "</div>"
      ],
      "text/plain": [
       "                 id    salary_from      salary_to        city_id  \\\n",
       "count  6.635470e+05  663547.000000  663547.000000  663547.000000   \n",
       "mean   4.838766e+07   39096.017057   49290.199144      44.343623   \n",
       "std    2.566830e+05   21831.560470   32908.483886      71.286823   \n",
       "min    4.796162e+07   20025.000000   20100.000000       1.000000   \n",
       "25%    4.816378e+07   27800.000000   32600.000000       3.000000   \n",
       "50%    4.837984e+07   32000.000000   37500.000000      10.000000   \n",
       "75%    4.859582e+07   40000.000000   50000.000000      36.000000   \n",
       "max    4.890312e+07  400000.000000  400000.000000     272.000000   \n",
       "\n",
       "        count_skills  \n",
       "count  663547.000000  \n",
       "mean        0.614056  \n",
       "std         2.357438  \n",
       "min         0.000000  \n",
       "25%         0.000000  \n",
       "50%         0.000000  \n",
       "75%         0.000000  \n",
       "max        56.000000  "
      ]
     },
     "execution_count": 5,
     "metadata": {},
     "output_type": "execute_result"
    }
   ],
   "source": [
    "data.describe()"
   ]
  },
  {
   "cell_type": "code",
   "execution_count": 6,
   "metadata": {},
   "outputs": [
    {
     "data": {
      "text/plain": [
       "id                       int64\n",
       "custom_position         object\n",
       "schedule                object\n",
       "salary_from            float64\n",
       "salary_to              float64\n",
       "education_name          object\n",
       "city_id                  int64\n",
       "work_skills             object\n",
       "count_skills             int64\n",
       "required_experience     object\n",
       "skill_1                 object\n",
       "skill_2                 object\n",
       "skill_3                 object\n",
       "skill_4                 object\n",
       "skill_5                 object\n",
       "skill_6                 object\n",
       "skill_7                 object\n",
       "skill_8                 object\n",
       "skill_9                 object\n",
       "skill_10                object\n",
       "dtype: object"
      ]
     },
     "execution_count": 6,
     "metadata": {},
     "output_type": "execute_result"
    }
   ],
   "source": [
    "data.dtypes"
   ]
  },
  {
   "cell_type": "code",
   "execution_count": 7,
   "metadata": {},
   "outputs": [
    {
     "data": {
      "text/plain": [
       "id                          0\n",
       "custom_position             0\n",
       "schedule                    0\n",
       "salary_from                 0\n",
       "salary_to                   0\n",
       "education_name              0\n",
       "city_id                     0\n",
       "work_skills            591021\n",
       "count_skills                0\n",
       "required_experience     89263\n",
       "skill_1                591021\n",
       "skill_2                600646\n",
       "skill_3                609014\n",
       "skill_4                618789\n",
       "skill_5                627742\n",
       "skill_6                635531\n",
       "skill_7                642117\n",
       "skill_8                647209\n",
       "skill_9                650452\n",
       "skill_10               653061\n",
       "dtype: int64"
      ]
     },
     "execution_count": 7,
     "metadata": {},
     "output_type": "execute_result"
    }
   ],
   "source": [
    "data.isna().sum()"
   ]
  },
  {
   "cell_type": "markdown",
   "metadata": {},
   "source": [
    "Удаляем ненужные столбцы"
   ]
  },
  {
   "cell_type": "code",
   "execution_count": 8,
   "metadata": {},
   "outputs": [],
   "source": [
    "data = data.drop(['id','salary_to'], axis=1)"
   ]
  },
  {
   "cell_type": "markdown",
   "metadata": {},
   "source": [
    "Оставляем только топ 10 городов, остальные заменяем на \"Остальные\""
   ]
  },
  {
   "cell_type": "code",
   "execution_count": 10,
   "metadata": {},
   "outputs": [],
   "source": [
    "top_10_city = data.city_id.value_counts().reset_index()['city_id'].values[:10].tolist()\n",
    "data.city_id = data.city_id.apply(lambda value: str(value) if value in top_10_city else 'Остальные')"
   ]
  },
  {
   "cell_type": "markdown",
   "metadata": {},
   "source": [
    "Удаляем дубликаты по строкам "
   ]
  },
  {
   "cell_type": "code",
   "execution_count": 11,
   "metadata": {},
   "outputs": [],
   "source": [
    "all_columns = ['custom_position', 'schedule', 'education_name',\n",
    "       'city_id', 'work_skills', 'count_skills', 'required_experience',\n",
    "       'skill_1', 'skill_2', 'skill_3', 'skill_4', 'skill_5', 'skill_6',\n",
    "       'skill_7', 'skill_8', 'skill_9', 'skill_10']"
   ]
  },
  {
   "cell_type": "code",
   "execution_count": 22,
   "metadata": {},
   "outputs": [],
   "source": [
    "data_no_duplicates = data.drop_duplicates(subset=all_columns, keep=False)"
   ]
  },
  {
   "cell_type": "code",
   "execution_count": 13,
   "metadata": {},
   "outputs": [
    {
     "data": {
      "text/plain": [
       "(86641, 18)"
      ]
     },
     "execution_count": 13,
     "metadata": {},
     "output_type": "execute_result"
    }
   ],
   "source": [
    "#data.drop_duplicates(subset=all_columns, keep='first').shape"
   ]
  },
  {
   "cell_type": "code",
   "execution_count": 23,
   "metadata": {},
   "outputs": [
    {
     "data": {
      "text/plain": [
       "(77673, 18)"
      ]
     },
     "execution_count": 23,
     "metadata": {},
     "output_type": "execute_result"
    }
   ],
   "source": [
    "data_no_duplicates.shape"
   ]
  },
  {
   "cell_type": "markdown",
   "metadata": {},
   "source": [
    "Ищем одинаковые описания вакансий для которых есть несколько разных зарплат, заменяем целевое значение на медиану и возвращаем обратно в датасет, так как эти данные были удалены на прошлом шаге"
   ]
  },
  {
   "cell_type": "code",
   "execution_count": 24,
   "metadata": {},
   "outputs": [],
   "source": [
    "data_median = data.groupby(all_columns, as_index=False).agg(\n",
    "    salary_from_nun=('salary_from', 'nunique'),\n",
    "    salary_from_median=('salary_from', np.median)\n",
    ")\n",
    "\n",
    "data_median = data_median[data_median.salary_from_nun>1][all_columns+['salary_from_median']].rename(columns={'salary_from_median':'salary_from'})"
   ]
  },
  {
   "cell_type": "code",
   "execution_count": 25,
   "metadata": {},
   "outputs": [],
   "source": [
    "data_final = pd.concat([data_no_duplicates, data_median], axis=0)"
   ]
  },
  {
   "cell_type": "code",
   "execution_count": 26,
   "metadata": {},
   "outputs": [
    {
     "data": {
      "text/plain": [
       "(77674, 18)"
      ]
     },
     "execution_count": 26,
     "metadata": {},
     "output_type": "execute_result"
    }
   ],
   "source": [
    "data_final.shape"
   ]
  },
  {
   "cell_type": "markdown",
   "metadata": {},
   "source": [
    "Кодируем категориальные переменные"
   ]
  },
  {
   "cell_type": "code",
   "execution_count": 27,
   "metadata": {},
   "outputs": [],
   "source": [
    "enc_columns = ['schedule','education_name','city_id','required_experience']\n",
    "enc_data = pd.get_dummies(data_final[enc_columns], drop_first=True)\n",
    "\n",
    "data_final = data_final.drop(enc_columns, axis=1)\n",
    "data_final = pd.concat([data_final,enc_data], axis=1)"
   ]
  },
  {
   "cell_type": "markdown",
   "metadata": {},
   "source": [
    "Заполняем пропущенные значения"
   ]
  },
  {
   "cell_type": "code",
   "execution_count": 31,
   "metadata": {},
   "outputs": [],
   "source": [
    "data_final.work_skills = data_final.work_skills.fillna('[]')\n",
    "data_final.work_skills = data_final.work_skills.apply(lambda value: ast.literal_eval(value))\n",
    "data_final['work_skills_str'] = data_final.work_skills.apply(lambda value: ' '.join(value))"
   ]
  },
  {
   "cell_type": "markdown",
   "metadata": {},
   "source": [
    "Получение эмбеддингов FastText для текстовых данных"
   ]
  },
  {
   "cell_type": "code",
   "execution_count": 32,
   "metadata": {},
   "outputs": [
    {
     "data": {
      "text/plain": [
       "<fasttext.FastText._FastText at 0x1d09ef0b250>"
      ]
     },
     "execution_count": 32,
     "metadata": {},
     "output_type": "execute_result"
    }
   ],
   "source": [
    "dim = 100\n",
    "\n",
    "ft = fasttext.load_model('cc.ru.300.bin')\n",
    "\n",
    "fasttext.util.reduce_model(ft, dim)"
   ]
  },
  {
   "cell_type": "code",
   "execution_count": 33,
   "metadata": {},
   "outputs": [
    {
     "name": "stdout",
     "output_type": "stream",
     "text": [
      "CPU times: total: 4.77 s\n",
      "Wall time: 4.76 s\n"
     ]
    }
   ],
   "source": [
    "%%time\n",
    "vector_skills = []\n",
    "    \n",
    "for words in data_final.work_skills_str.values.tolist():\n",
    "    vector = np.mean([ft.get_word_vector(word) for word in words.split(' ')], axis=0).tolist()\n",
    "    vector_skills.append(vector)"
   ]
  },
  {
   "cell_type": "code",
   "execution_count": 34,
   "metadata": {},
   "outputs": [],
   "source": [
    "data_final['vector_skills'] = vector_skills"
   ]
  },
  {
   "cell_type": "code",
   "execution_count": 35,
   "metadata": {},
   "outputs": [
    {
     "name": "stdout",
     "output_type": "stream",
     "text": [
      "CPU times: total: 2.23 s\n",
      "Wall time: 2.22 s\n"
     ]
    }
   ],
   "source": [
    "%%time\n",
    "vector_professions = []\n",
    "\n",
    "for words in data_final.custom_position.values.tolist():\n",
    "    vector = np.mean([ft.get_word_vector(word) for word in words.split(' ')], axis=0).tolist()\n",
    "    vector_professions.append(vector)"
   ]
  },
  {
   "cell_type": "code",
   "execution_count": 36,
   "metadata": {},
   "outputs": [],
   "source": [
    "data_final['vector_professions'] = vector_professions"
   ]
  },
  {
   "cell_type": "code",
   "execution_count": 37,
   "metadata": {},
   "outputs": [],
   "source": [
    "del vector_skills, vector_professions, data_median, data_no_duplicates"
   ]
  },
  {
   "cell_type": "code",
   "execution_count": 38,
   "metadata": {},
   "outputs": [],
   "source": [
    "data_final.to_csv('students_vacancies_10Nov2023_clear.csv')"
   ]
  },
  {
   "cell_type": "markdown",
   "metadata": {},
   "source": [
    "### Предсказание"
   ]
  },
  {
   "cell_type": "code",
   "execution_count": 39,
   "metadata": {},
   "outputs": [],
   "source": [
    "from sklearn.model_selection import train_test_split, cross_val_score, KFold, GridSearchCV\n",
    "from sklearn.linear_model import LinearRegression, Ridge, Lasso\n",
    "from sklearn.metrics import mean_absolute_percentage_error\n",
    "from sklearn.ensemble import RandomForestRegressor\n",
    "from sklearn.model_selection import cross_validate\n",
    "from sklearn.neighbors import KNeighborsRegressor\n",
    "from sklearn.tree import DecisionTreeRegressor\n",
    "from catboost import CatBoostRegressor\n",
    "import matplotlib.pyplot as plt\n",
    "import seaborn as sns\n",
    "import time"
   ]
  },
  {
   "cell_type": "code",
   "execution_count": 100,
   "metadata": {},
   "outputs": [],
   "source": [
    "data_final = data_final.reset_index().drop('index', axis=1)"
   ]
  },
  {
   "cell_type": "code",
   "execution_count": 112,
   "metadata": {},
   "outputs": [],
   "source": [
    "custom_position_dict = dict(zip(data_final.index, data_final.custom_position))"
   ]
  },
  {
   "cell_type": "code",
   "execution_count": 101,
   "metadata": {},
   "outputs": [],
   "source": [
    "y = data_final.salary_from\n",
    "X = data_final.drop('salary_from', axis=1)"
   ]
  },
  {
   "cell_type": "code",
   "execution_count": 102,
   "metadata": {},
   "outputs": [],
   "source": [
    "fit_columns = ['count_skills', 'schedule_полный рабочий день', 'schedule_свободный график',\n",
    "       'schedule_сменный график', 'schedule_удаленная работа',\n",
    "       'schedule_частичная занятость', 'education_name_высшее (бакалавр)',\n",
    "       'education_name_любое', 'education_name_неполное высшее',\n",
    "       'education_name_среднее', 'education_name_среднее профессиональное',\n",
    "       'city_id_10', 'city_id_16', 'city_id_174', 'city_id_2', 'city_id_268',\n",
    "       'city_id_3', 'city_id_36', 'city_id_57', 'city_id_6',\n",
    "       'city_id_Остальные', 'required_experience_Нет опыта',\n",
    "       'required_experience_От 1 года до 3 лет',\n",
    "       'required_experience_От 3 до 6 лет', 'vector_skills','vector_professions']"
   ]
  },
  {
   "cell_type": "code",
   "execution_count": 103,
   "metadata": {},
   "outputs": [],
   "source": [
    "X = X[fit_columns]"
   ]
  },
  {
   "cell_type": "code",
   "execution_count": 104,
   "metadata": {},
   "outputs": [],
   "source": [
    "vector_professions_df = pd.DataFrame(X.vector_professions.tolist(), columns=[f\"feature_prof_{c}\" for c in range(1, 100+1)])\n",
    "X.reset_index(drop=True, inplace=True)\n",
    "vector_professions_df.reset_index(drop=True, inplace=True)\n",
    "X = pd.concat([X, vector_professions_df], axis=1)\n",
    "\n",
    "vector_skills_df = pd.DataFrame(X.vector_skills.tolist(), columns=[f\"feature_skill_{c}\" for c in range(1, 100+1)])\n",
    "X.reset_index(drop=True, inplace=True)\n",
    "vector_skills_df.reset_index(drop=True, inplace=True)\n",
    "X = pd.concat([X, vector_skills_df], axis=1)"
   ]
  },
  {
   "cell_type": "code",
   "execution_count": 105,
   "metadata": {},
   "outputs": [],
   "source": [
    "X = X.drop(['vector_professions', 'vector_skills'], axis=1)"
   ]
  },
  {
   "cell_type": "code",
   "execution_count": 106,
   "metadata": {},
   "outputs": [
    {
     "data": {
      "text/plain": [
       "(77674, 224)"
      ]
     },
     "execution_count": 106,
     "metadata": {},
     "output_type": "execute_result"
    }
   ],
   "source": [
    "X.shape"
   ]
  },
  {
   "cell_type": "code",
   "execution_count": 107,
   "metadata": {},
   "outputs": [],
   "source": [
    "num_folds = 5\n",
    "random_state = 42\n",
    "scoring = ['neg_mean_absolute_error', 'neg_mean_absolute_percentage_error']\n",
    "\n",
    "models = []\n",
    "\n",
    "models.append(('LR', LinearRegression()))\n",
    "models.append(('RidgeRegression', Ridge()))\n",
    "models.append(('LassoRegression', Lasso()))\n",
    "models.append(('KNNRegression', KNeighborsRegressor()))\n",
    "models.append(('DecisionTreeRegressor', DecisionTreeRegressor()))\n",
    "models.append(('CatBoostRegressor', CatBoostRegressor(verbose=0)))"
   ]
  },
  {
   "cell_type": "code",
   "execution_count": 108,
   "metadata": {},
   "outputs": [],
   "source": [
    "results = []\n",
    "names = []\n",
    "times = []\n",
    "\n",
    "for name, model in models:\n",
    "    start = time.time()\n",
    "    kfold = KFold(n_splits=num_folds, random_state=random_state, shuffle=True)\n",
    "\n",
    "    scores = cross_validate(model, X, y, cv=kfold, scoring=scoring, return_train_score=False)\n",
    "    \n",
    "    results.append(scores)\n",
    "    names.append(name)\n",
    "    end = time.time()\n",
    "    times.append(end - start)"
   ]
  },
  {
   "cell_type": "code",
   "execution_count": 109,
   "metadata": {},
   "outputs": [
    {
     "data": {
      "text/html": [
       "<div>\n",
       "<style scoped>\n",
       "    .dataframe tbody tr th:only-of-type {\n",
       "        vertical-align: middle;\n",
       "    }\n",
       "\n",
       "    .dataframe tbody tr th {\n",
       "        vertical-align: top;\n",
       "    }\n",
       "\n",
       "    .dataframe thead th {\n",
       "        text-align: right;\n",
       "    }\n",
       "</style>\n",
       "<table border=\"1\" class=\"dataframe\">\n",
       "  <thead>\n",
       "    <tr style=\"text-align: right;\">\n",
       "      <th></th>\n",
       "      <th>stage</th>\n",
       "      <th>model_name</th>\n",
       "      <th>MAE</th>\n",
       "      <th>MAPE</th>\n",
       "      <th>fit_time</th>\n",
       "    </tr>\n",
       "  </thead>\n",
       "  <tbody>\n",
       "    <tr>\n",
       "      <th>0</th>\n",
       "      <td>baseline</td>\n",
       "      <td>LR</td>\n",
       "      <td>16283.3</td>\n",
       "      <td>29.53</td>\n",
       "      <td>1.720</td>\n",
       "    </tr>\n",
       "    <tr>\n",
       "      <th>1</th>\n",
       "      <td>baseline</td>\n",
       "      <td>RidgeRegression</td>\n",
       "      <td>16267.7</td>\n",
       "      <td>29.49</td>\n",
       "      <td>0.880</td>\n",
       "    </tr>\n",
       "    <tr>\n",
       "      <th>2</th>\n",
       "      <td>baseline</td>\n",
       "      <td>LassoRegression</td>\n",
       "      <td>16266.6</td>\n",
       "      <td>29.49</td>\n",
       "      <td>13.634</td>\n",
       "    </tr>\n",
       "    <tr>\n",
       "      <th>3</th>\n",
       "      <td>baseline</td>\n",
       "      <td>KNNRegression</td>\n",
       "      <td>14986.2</td>\n",
       "      <td>27.60</td>\n",
       "      <td>11.166</td>\n",
       "    </tr>\n",
       "    <tr>\n",
       "      <th>4</th>\n",
       "      <td>baseline</td>\n",
       "      <td>DecisionTreeRegressor</td>\n",
       "      <td>15059.2</td>\n",
       "      <td>28.39</td>\n",
       "      <td>142.998</td>\n",
       "    </tr>\n",
       "    <tr>\n",
       "      <th>5</th>\n",
       "      <td>baseline</td>\n",
       "      <td>CatBoostRegressor</td>\n",
       "      <td>12754.2</td>\n",
       "      <td>23.52</td>\n",
       "      <td>83.855</td>\n",
       "    </tr>\n",
       "  </tbody>\n",
       "</table>\n",
       "</div>"
      ],
      "text/plain": [
       "      stage             model_name      MAE   MAPE  fit_time\n",
       "0  baseline                     LR  16283.3  29.53     1.720\n",
       "1  baseline        RidgeRegression  16267.7  29.49     0.880\n",
       "2  baseline        LassoRegression  16266.6  29.49    13.634\n",
       "3  baseline          KNNRegression  14986.2  27.60    11.166\n",
       "4  baseline  DecisionTreeRegressor  15059.2  28.39   142.998\n",
       "5  baseline      CatBoostRegressor  12754.2  23.52    83.855"
      ]
     },
     "execution_count": 109,
     "metadata": {},
     "output_type": "execute_result"
    }
   ],
   "source": [
    "result_df = pd.DataFrame(\n",
    "    {'model_name': names,\n",
    "     'MAE': [round(np.mean(np.abs(i['test_neg_mean_absolute_error'])),1) for i in results],\n",
    "     'MAPE': [round(np.mean(np.abs(i['test_neg_mean_absolute_percentage_error']))*100,2) for i in results],\n",
    "     'fit_time': [round(i,3) for i in times]\n",
    "    })\n",
    "\n",
    "\n",
    "result_df['stage'] = 'baseline'\n",
    "result_df = result_df[['stage','model_name','MAE','MAPE','fit_time']]\n",
    "\n",
    "result_df"
   ]
  },
  {
   "cell_type": "code",
   "execution_count": 110,
   "metadata": {},
   "outputs": [],
   "source": [
    "result_df.to_excel('results.xlsx')"
   ]
  },
  {
   "cell_type": "markdown",
   "metadata": {},
   "source": [
    "### Наибольшие значения ошибок лучшей модели"
   ]
  },
  {
   "cell_type": "code",
   "execution_count": 127,
   "metadata": {},
   "outputs": [],
   "source": [
    "def NMAPE(y_true, y_pred): \n",
    "    return np.mean(np.abs((y_true - y_pred) / y_true)) * 100"
   ]
  },
  {
   "cell_type": "code",
   "execution_count": 158,
   "metadata": {},
   "outputs": [],
   "source": [
    "model = CatBoostRegressor(verbose=0)\n",
    "\n",
    "random_state = 42\n",
    "num_folds = 5\n",
    "kfold = KFold(n_splits=num_folds, random_state=random_state, shuffle=True)\n",
    "\n",
    "test_idx_all = []\n",
    "y_test_all = []\n",
    "y_test_pred_all = []\n",
    "\n",
    "for train_idx, test_idx in kfold.split(X):\n",
    "    X_train = X.loc[train_idx]\n",
    "    X_test = X.loc[test_idx]\n",
    "\n",
    "    y_train = y.loc[train_idx]\n",
    "    y_test = y.loc[test_idx]\n",
    "    \n",
    "    model.fit(X_train, y_train)\n",
    "\n",
    "    y_test_pred = model.predict(X_test)\n",
    "    \n",
    "    test_idx_all.extend(test_idx.tolist())\n",
    "    y_test_all.extend(y_test.tolist())\n",
    "    y_test_pred_all.extend(y_test_pred.tolist())"
   ]
  },
  {
   "cell_type": "code",
   "execution_count": 159,
   "metadata": {
    "scrolled": true
   },
   "outputs": [],
   "source": [
    "result_df = pd.DataFrame(\n",
    "    {'test_idx': test_idx_all,\n",
    "     'y_true': y_test_all,\n",
    "     'y_pred': y_test_pred_all\n",
    "    })\n",
    "\n",
    "result_df['custom_position'] = result_df.test_idx.apply(lambda value: custom_position_dict[value])\n",
    "result_df['MAPE'] = result_df.apply(lambda row: NMAPE(row['y_true'], row['y_pred']), axis=1)"
   ]
  },
  {
   "cell_type": "code",
   "execution_count": 160,
   "metadata": {},
   "outputs": [
    {
     "data": {
      "text/html": [
       "<div>\n",
       "<style scoped>\n",
       "    .dataframe tbody tr th:only-of-type {\n",
       "        vertical-align: middle;\n",
       "    }\n",
       "\n",
       "    .dataframe tbody tr th {\n",
       "        vertical-align: top;\n",
       "    }\n",
       "\n",
       "    .dataframe thead th {\n",
       "        text-align: right;\n",
       "    }\n",
       "</style>\n",
       "<table border=\"1\" class=\"dataframe\">\n",
       "  <thead>\n",
       "    <tr style=\"text-align: right;\">\n",
       "      <th></th>\n",
       "      <th>custom_position</th>\n",
       "      <th>y_true</th>\n",
       "      <th>y_pred</th>\n",
       "      <th>MAPE</th>\n",
       "    </tr>\n",
       "  </thead>\n",
       "  <tbody>\n",
       "    <tr>\n",
       "      <th>0</th>\n",
       "      <td>продавец (ночная смена)</td>\n",
       "      <td>30000.0</td>\n",
       "      <td>138647.0</td>\n",
       "      <td>362.0</td>\n",
       "    </tr>\n",
       "    <tr>\n",
       "      <th>1</th>\n",
       "      <td>медицинская сестра по предрейсовым осмотрам</td>\n",
       "      <td>22300.0</td>\n",
       "      <td>92745.0</td>\n",
       "      <td>316.0</td>\n",
       "    </tr>\n",
       "    <tr>\n",
       "      <th>2</th>\n",
       "      <td>кладовщик</td>\n",
       "      <td>22000.0</td>\n",
       "      <td>88828.0</td>\n",
       "      <td>304.0</td>\n",
       "    </tr>\n",
       "    <tr>\n",
       "      <th>3</th>\n",
       "      <td>курьер</td>\n",
       "      <td>25000.0</td>\n",
       "      <td>98168.0</td>\n",
       "      <td>293.0</td>\n",
       "    </tr>\n",
       "    <tr>\n",
       "      <th>4</th>\n",
       "      <td>оператор линии производства</td>\n",
       "      <td>30000.0</td>\n",
       "      <td>117758.0</td>\n",
       "      <td>293.0</td>\n",
       "    </tr>\n",
       "    <tr>\n",
       "      <th>5</th>\n",
       "      <td>сервисный инженер/механик по ремонту складской...</td>\n",
       "      <td>25000.0</td>\n",
       "      <td>97002.0</td>\n",
       "      <td>288.0</td>\n",
       "    </tr>\n",
       "    <tr>\n",
       "      <th>6</th>\n",
       "      <td>продавец-консультант в бутик сладостей \"мармел...</td>\n",
       "      <td>27000.0</td>\n",
       "      <td>101927.0</td>\n",
       "      <td>278.0</td>\n",
       "    </tr>\n",
       "    <tr>\n",
       "      <th>7</th>\n",
       "      <td>водитель - экспедитор категории е</td>\n",
       "      <td>30000.0</td>\n",
       "      <td>112522.0</td>\n",
       "      <td>275.0</td>\n",
       "    </tr>\n",
       "    <tr>\n",
       "      <th>8</th>\n",
       "      <td>администратор-кассир</td>\n",
       "      <td>35000.0</td>\n",
       "      <td>130321.0</td>\n",
       "      <td>272.0</td>\n",
       "    </tr>\n",
       "    <tr>\n",
       "      <th>9</th>\n",
       "      <td>дежурный/дежурная пульта централизованной охра...</td>\n",
       "      <td>25000.0</td>\n",
       "      <td>92319.0</td>\n",
       "      <td>269.0</td>\n",
       "    </tr>\n",
       "    <tr>\n",
       "      <th>10</th>\n",
       "      <td>дорожный рабочий</td>\n",
       "      <td>25000.0</td>\n",
       "      <td>91153.0</td>\n",
       "      <td>265.0</td>\n",
       "    </tr>\n",
       "    <tr>\n",
       "      <th>11</th>\n",
       "      <td>оценщик</td>\n",
       "      <td>25000.0</td>\n",
       "      <td>90320.0</td>\n",
       "      <td>261.0</td>\n",
       "    </tr>\n",
       "    <tr>\n",
       "      <th>12</th>\n",
       "      <td>инструктор лфк</td>\n",
       "      <td>30000.0</td>\n",
       "      <td>107579.0</td>\n",
       "      <td>259.0</td>\n",
       "    </tr>\n",
       "    <tr>\n",
       "      <th>13</th>\n",
       "      <td>начальник автоколонны (г. одинцово)</td>\n",
       "      <td>21000.0</td>\n",
       "      <td>74569.0</td>\n",
       "      <td>255.0</td>\n",
       "    </tr>\n",
       "    <tr>\n",
       "      <th>14</th>\n",
       "      <td>сметчик-замерщик</td>\n",
       "      <td>30000.0</td>\n",
       "      <td>102790.0</td>\n",
       "      <td>243.0</td>\n",
       "    </tr>\n",
       "    <tr>\n",
       "      <th>15</th>\n",
       "      <td>разнорабочий</td>\n",
       "      <td>25000.0</td>\n",
       "      <td>84108.0</td>\n",
       "      <td>236.0</td>\n",
       "    </tr>\n",
       "    <tr>\n",
       "      <th>16</th>\n",
       "      <td>специалист по работе с клиентами</td>\n",
       "      <td>28736.0</td>\n",
       "      <td>96540.0</td>\n",
       "      <td>236.0</td>\n",
       "    </tr>\n",
       "    <tr>\n",
       "      <th>17</th>\n",
       "      <td>повар в теремок</td>\n",
       "      <td>30000.0</td>\n",
       "      <td>100293.0</td>\n",
       "      <td>234.0</td>\n",
       "    </tr>\n",
       "    <tr>\n",
       "      <th>18</th>\n",
       "      <td>оператор на производство</td>\n",
       "      <td>35000.0</td>\n",
       "      <td>116977.0</td>\n",
       "      <td>234.0</td>\n",
       "    </tr>\n",
       "    <tr>\n",
       "      <th>19</th>\n",
       "      <td>менеджер чат-поддержки клиентов</td>\n",
       "      <td>25000.0</td>\n",
       "      <td>82832.0</td>\n",
       "      <td>231.0</td>\n",
       "    </tr>\n",
       "    <tr>\n",
       "      <th>20</th>\n",
       "      <td>грузчик-комплектовщик</td>\n",
       "      <td>25287.0</td>\n",
       "      <td>82967.0</td>\n",
       "      <td>228.0</td>\n",
       "    </tr>\n",
       "    <tr>\n",
       "      <th>21</th>\n",
       "      <td>продавец/специалист на выдачу товара (м. медве...</td>\n",
       "      <td>42000.0</td>\n",
       "      <td>137400.0</td>\n",
       "      <td>227.0</td>\n",
       "    </tr>\n",
       "    <tr>\n",
       "      <th>22</th>\n",
       "      <td>младший юрист</td>\n",
       "      <td>25000.0</td>\n",
       "      <td>80928.0</td>\n",
       "      <td>224.0</td>\n",
       "    </tr>\n",
       "    <tr>\n",
       "      <th>23</th>\n",
       "      <td>оператор станка</td>\n",
       "      <td>22000.0</td>\n",
       "      <td>70587.0</td>\n",
       "      <td>221.0</td>\n",
       "    </tr>\n",
       "    <tr>\n",
       "      <th>24</th>\n",
       "      <td>воспитатель в детский сад ( м. новокосино)</td>\n",
       "      <td>25000.0</td>\n",
       "      <td>79646.0</td>\n",
       "      <td>219.0</td>\n",
       "    </tr>\n",
       "    <tr>\n",
       "      <th>25</th>\n",
       "      <td>водитель с личном автомобилем газель</td>\n",
       "      <td>28000.0</td>\n",
       "      <td>89106.0</td>\n",
       "      <td>218.0</td>\n",
       "    </tr>\n",
       "    <tr>\n",
       "      <th>26</th>\n",
       "      <td>повар-кассир в фаст-фуд</td>\n",
       "      <td>21000.0</td>\n",
       "      <td>66829.0</td>\n",
       "      <td>218.0</td>\n",
       "    </tr>\n",
       "    <tr>\n",
       "      <th>27</th>\n",
       "      <td>сварщик</td>\n",
       "      <td>30000.0</td>\n",
       "      <td>95285.0</td>\n",
       "      <td>218.0</td>\n",
       "    </tr>\n",
       "    <tr>\n",
       "      <th>28</th>\n",
       "      <td>машинист автокрана (32 и 50 тонн)</td>\n",
       "      <td>25000.0</td>\n",
       "      <td>79092.0</td>\n",
       "      <td>216.0</td>\n",
       "    </tr>\n",
       "    <tr>\n",
       "      <th>29</th>\n",
       "      <td>плотник-столяр</td>\n",
       "      <td>35000.0</td>\n",
       "      <td>110297.0</td>\n",
       "      <td>215.0</td>\n",
       "    </tr>\n",
       "  </tbody>\n",
       "</table>\n",
       "</div>"
      ],
      "text/plain": [
       "                                      custom_position   y_true    y_pred  \\\n",
       "0                             продавец (ночная смена)  30000.0  138647.0   \n",
       "1         медицинская сестра по предрейсовым осмотрам  22300.0   92745.0   \n",
       "2                                           кладовщик  22000.0   88828.0   \n",
       "3                                              курьер  25000.0   98168.0   \n",
       "4                         оператор линии производства  30000.0  117758.0   \n",
       "5   сервисный инженер/механик по ремонту складской...  25000.0   97002.0   \n",
       "6   продавец-консультант в бутик сладостей \"мармел...  27000.0  101927.0   \n",
       "7                   водитель - экспедитор категории е  30000.0  112522.0   \n",
       "8                                администратор-кассир  35000.0  130321.0   \n",
       "9   дежурный/дежурная пульта централизованной охра...  25000.0   92319.0   \n",
       "10                                   дорожный рабочий  25000.0   91153.0   \n",
       "11                                            оценщик  25000.0   90320.0   \n",
       "12                                     инструктор лфк  30000.0  107579.0   \n",
       "13                начальник автоколонны (г. одинцово)  21000.0   74569.0   \n",
       "14                                   сметчик-замерщик  30000.0  102790.0   \n",
       "15                                       разнорабочий  25000.0   84108.0   \n",
       "16                   специалист по работе с клиентами  28736.0   96540.0   \n",
       "17                                    повар в теремок  30000.0  100293.0   \n",
       "18                           оператор на производство  35000.0  116977.0   \n",
       "19                    менеджер чат-поддержки клиентов  25000.0   82832.0   \n",
       "20                              грузчик-комплектовщик  25287.0   82967.0   \n",
       "21  продавец/специалист на выдачу товара (м. медве...  42000.0  137400.0   \n",
       "22                                      младший юрист  25000.0   80928.0   \n",
       "23                                    оператор станка  22000.0   70587.0   \n",
       "24         воспитатель в детский сад ( м. новокосино)  25000.0   79646.0   \n",
       "25               водитель с личном автомобилем газель  28000.0   89106.0   \n",
       "26                            повар-кассир в фаст-фуд  21000.0   66829.0   \n",
       "27                                            сварщик  30000.0   95285.0   \n",
       "28                  машинист автокрана (32 и 50 тонн)  25000.0   79092.0   \n",
       "29                                     плотник-столяр  35000.0  110297.0   \n",
       "\n",
       "     MAPE  \n",
       "0   362.0  \n",
       "1   316.0  \n",
       "2   304.0  \n",
       "3   293.0  \n",
       "4   293.0  \n",
       "5   288.0  \n",
       "6   278.0  \n",
       "7   275.0  \n",
       "8   272.0  \n",
       "9   269.0  \n",
       "10  265.0  \n",
       "11  261.0  \n",
       "12  259.0  \n",
       "13  255.0  \n",
       "14  243.0  \n",
       "15  236.0  \n",
       "16  236.0  \n",
       "17  234.0  \n",
       "18  234.0  \n",
       "19  231.0  \n",
       "20  228.0  \n",
       "21  227.0  \n",
       "22  224.0  \n",
       "23  221.0  \n",
       "24  219.0  \n",
       "25  218.0  \n",
       "26  218.0  \n",
       "27  218.0  \n",
       "28  216.0  \n",
       "29  215.0  "
      ]
     },
     "metadata": {},
     "output_type": "display_data"
    }
   ],
   "source": [
    "N = 30\n",
    "\n",
    "top = result_df.sort_values(by='MAPE', ascending=False).head(N)[['custom_position','y_true', 'y_pred','MAPE']].reset_index()\n",
    "top['custom_position'] = top['index'].apply(lambda value: custom_position_dict[value])\n",
    "display(round(top[['custom_position','y_true','y_pred','MAPE']]))"
   ]
  },
  {
   "cell_type": "code",
   "execution_count": 166,
   "metadata": {},
   "outputs": [
    {
     "name": "stdout",
     "output_type": "stream",
     "text": [
      "(7543, 40)\n"
     ]
    },
    {
     "data": {
      "text/plain": [
       "<Axes: xlabel='salary_from'>"
      ]
     },
     "execution_count": 166,
     "metadata": {},
     "output_type": "execute_result"
    },
    {
     "data": {
      "image/png": "[encoded data removed]",
      "text/plain": [
       "<Figure size 1000x200 with 1 Axes>"
      ]
     },
     "metadata": {},
     "output_type": "display_data"
    }
   ],
   "source": [
    "sns.set(rc={'figure.figsize':(10, 2)})\n",
    "\n",
    "example = data_final[data_final.custom_position.str.contains('продавец')]\n",
    "print(example.shape)\n",
    "sns.boxplot(example.salary_from, orient='h')"
   ]
  },
  {
   "cell_type": "code",
   "execution_count": 167,
   "metadata": {},
   "outputs": [
    {
     "name": "stdout",
     "output_type": "stream",
     "text": [
      "(1532, 40)\n"
     ]
    },
    {
     "data": {
      "text/plain": [
       "<Axes: xlabel='salary_from'>"
      ]
     },
     "execution_count": 167,
     "metadata": {},
     "output_type": "execute_result"
    },
    {
     "data": {
      "image/png": "[encoded data removed]",
      "text/plain": [
       "<Figure size 1000x200 with 1 Axes>"
      ]
     },
     "metadata": {},
     "output_type": "display_data"
    }
   ],
   "source": [
    "sns.set(rc={'figure.figsize':(10, 2)})\n",
    "\n",
    "example = data_final[data_final.custom_position.str.contains('кладовщик')]\n",
    "print(example.shape)\n",
    "sns.boxplot(example.salary_from, orient='h')"
   ]
  },
  {
   "cell_type": "code",
   "execution_count": 168,
   "metadata": {
    "scrolled": true
   },
   "outputs": [
    {
     "name": "stdout",
     "output_type": "stream",
     "text": [
      "(6666, 18)\n"
     ]
    },
    {
     "data": {
      "text/plain": [
       "<Axes: xlabel='salary_from'>"
      ]
     },
     "execution_count": 168,
     "metadata": {},
     "output_type": "execute_result"
    },
    {
     "data": {
      "image/png": "[encoded data removed]",
      "text/plain": [
       "<Figure size 1000x200 with 1 Axes>"
      ]
     },
     "metadata": {},
     "output_type": "display_data"
    }
   ],
   "source": [
    "sns.set(rc={'figure.figsize':(10, 2)})\n",
    "\n",
    "example = data[data.custom_position.str.contains('оператор')]\n",
    "print(example.shape)\n",
    "sns.boxplot(example.salary_from, orient='h')"
   ]
  }
 ],
 "metadata": {
  "kernelspec": {
   "display_name": "Python 3 (ipykernel)",
   "language": "python",
   "name": "python3"
  },
  "language_info": {
   "codemirror_mode": {
    "name": "ipython",
    "version": 3
   },
   "file_extension": ".py",
   "mimetype": "text/x-python",
   "name": "python",
   "nbconvert_exporter": "python",
   "pygments_lexer": "ipython3",
   "version": "3.9.18"
  }
 },
 "nbformat": 4,
 "nbformat_minor": 4
}
