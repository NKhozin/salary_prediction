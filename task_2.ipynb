{
 "cells": [
  {
   "cell_type": "code",
   "execution_count": 1,
   "id": "e8621a11",
   "metadata": {},
   "outputs": [],
   "source": [
    "import pandas as pd\n",
    "import re\n",
    "import seaborn as sns\n",
    "import matplotlib.pyplot as plt\n",
    "import fasttext.util\n",
    "import numpy as np\n",
    "import ast\n",
    "from collections import Counter\n",
    "\n",
    "from sklearn.model_selection import KFold, cross_val_score, train_test_split\n",
    "from sklearn.metrics import mean_absolute_percentage_error\n",
    "from catboost import CatBoostRegressor\n",
    "\n",
    "from StemLemPipe import phrases2lower, phrases_without_excess_symbols, phrases_transform, text2sentences, split_by_words, sentence_split, create_stemmer_lemmer, words_to_ngrams_list, sum_phrases, wordlist2set, stopwords, StemLemPipeline\n",
    "\n",
    "import nltk\n",
    "import spacy\n",
    "from nltk.tokenize import word_tokenize  \n",
    "from nltk.corpus import stopwords\n",
    "from nltk.stem import WordNetLemmatizer\n",
    "from nltk.stem.snowball import SnowballStemmer\n",
    "from nltk.stem.porter import *"
   ]
  },
  {
   "cell_type": "code",
   "execution_count": 2,
   "id": "9890ff57",
   "metadata": {},
   "outputs": [],
   "source": [
    "def get_emb_dataframe(custom_position, dim_size):\n",
    "    \n",
    "    ft = fasttext.load_model('cc.ru.300.bin')\n",
    "\n",
    "    fasttext.util.reduce_model(ft, dim_size)\n",
    "    \n",
    "    vector_professions = []\n",
    "    for words in custom_position:\n",
    "        vector = np.mean([ft.get_word_vector(word) for word in words.split(' ')], axis=0).tolist()\n",
    "        vector_professions.append(vector)\n",
    "        \n",
    "    df_vector_professions = pd.DataFrame(vector_professions, columns=[f\"feat_prof_{c}\" for c in range(1, dim_size+1)])\n",
    "    \n",
    "    return df_vector_professions\n",
    "\n",
    "def cv_fit_predict(data, cols, text_col_name):\n",
    "    dim = 100\n",
    "\n",
    "    df_vector_professions = get_emb_dataframe(data[text_col_name].values.tolist(), dim)\n",
    "\n",
    "    data = data[fit_cols+[text_col_name]]\n",
    "\n",
    "    data.reset_index(drop=True, inplace=True)\n",
    "    df_vector_professions.reset_index(drop=True, inplace=True)\n",
    "\n",
    "    data = pd.concat([data, df_vector_professions], axis=1)\n",
    "\n",
    "    data.vector_skills = data.vector_skills.apply(ast.literal_eval)\n",
    "    vector_skills = pd.DataFrame(data.vector_skills.tolist(), columns=[f\"feat_skill_{c}\" for c in range(1, dim+1)])\n",
    "\n",
    "    data = pd.concat([data, vector_skills], axis=1)\n",
    "\n",
    "    y = data.salary_from\n",
    "    X = data.drop(['salary_from', 'vector_skills', 'vector_professions', text_col_name], axis=1)\n",
    "\n",
    "    num_folds = 5\n",
    "    random_state = 42\n",
    "    scoring = 'neg_mean_absolute_error'\n",
    "\n",
    "    X_train, X_test, y_train, y_test = train_test_split(X, y, test_size=0.2, random_state=random_state)\n",
    "\n",
    "    model = CatBoostRegressor(iterations=1000, verbose=0)\n",
    "\n",
    "    kfold = KFold(n_splits=num_folds, random_state=random_state, shuffle=True)\n",
    "\n",
    "    cv_results = -1 * cross_val_score(model, X_train, y_train, cv=kfold, scoring=scoring)\n",
    "\n",
    "    print([round(i,1) for i in cv_results])\n",
    "    print(round(cv_results.mean(),2))\n",
    "    \n",
    "def str_replace(value):\n",
    "    for i in ['/ка', '/ца','(-ца)']:\n",
    "        value = value.replace(i, ' ')\n",
    "    return value\n",
    "\n",
    "def spacy_process(text):\n",
    "    doc = nlp(text)\n",
    "    return ' '.join([token.lemma_ for token in doc])\n",
    "\n",
    "def nltk_process(text):\n",
    "    #Tokenization\n",
    "    nltk_tokenList = word_tokenize(text)\n",
    "    \n",
    "    #Stemming\n",
    "    nltk_stemedList = []\n",
    "    for word in nltk_tokenList:\n",
    "        nltk_stemedList.append(s_stemmer.stem(word))\n",
    "    \n",
    "    #Lemmatization\n",
    "    wordnet_lemmatizer = WordNetLemmatizer()\n",
    "    return ' '.join([wordnet_lemmatizer.lemmatize(word) for word in nltk_stemedList])"
   ]
  },
  {
   "cell_type": "code",
   "execution_count": 3,
   "id": "7f002a63",
   "metadata": {},
   "outputs": [],
   "source": [
    "fit_cols = ['count_skills', 'schedule_полный рабочий день',\n",
    "       'schedule_свободный график', 'schedule_сменный график',\n",
    "       'schedule_удаленная работа', 'schedule_частичная занятость',\n",
    "       'education_name_высшее (бакалавр)', 'education_name_любое',\n",
    "       'education_name_неполное высшее', 'education_name_среднее',\n",
    "       'education_name_среднее профессиональное',\n",
    "       'required_experience_Нет опыта',\n",
    "       'required_experience_От 1 года до 3 лет',\n",
    "       'required_experience_От 3 до 6 лет', 'vector_skills',\n",
    "       'vector_professions','salary_from']"
   ]
  },
  {
   "cell_type": "code",
   "execution_count": 4,
   "id": "698595af",
   "metadata": {},
   "outputs": [],
   "source": [
    "data = pd.read_csv('my_data.csv', index_col=0)"
   ]
  },
  {
   "cell_type": "code",
   "execution_count": 5,
   "id": "0da4f53c",
   "metadata": {},
   "outputs": [
    {
     "data": {
      "text/plain": [
       "(69997, 30)"
      ]
     },
     "execution_count": 5,
     "metadata": {},
     "output_type": "execute_result"
    }
   ],
   "source": [
    "data.shape"
   ]
  },
  {
   "cell_type": "code",
   "execution_count": 6,
   "id": "a8b693e9",
   "metadata": {},
   "outputs": [
    {
     "name": "stdout",
     "output_type": "stream",
     "text": [
      "[13713.7, 13417.2, 13639.5, 13573.7, 13553.8]\n",
      "13579.62\n",
      "CPU times: total: 14min 38s\n",
      "Wall time: 1min 45s\n"
     ]
    }
   ],
   "source": [
    "%%time\n",
    "text_col_name = 'custom_position'\n",
    "\n",
    "cv_fit_predict(data, cols=fit_cols+[text_col_name], text_col_name=text_col_name)"
   ]
  },
  {
   "cell_type": "code",
   "execution_count": 7,
   "id": "81168286",
   "metadata": {},
   "outputs": [],
   "source": [
    "#CatBoostRegressor 13579.62"
   ]
  },
  {
   "cell_type": "code",
   "execution_count": 8,
   "id": "ef342ab4",
   "metadata": {},
   "outputs": [],
   "source": [
    "#Замена знаков пунктуации\n",
    "data['custom_position'] = data.custom_position.apply(lambda value: re.sub(r'[^\\w\\s]', ' ', value))\n",
    "\n",
    "#Удаление лишних пробелов\n",
    "data['custom_position'] = data.custom_position.apply(lambda value: re.sub('\\s+', ' ', value).strip())"
   ]
  },
  {
   "cell_type": "code",
   "execution_count": 9,
   "id": "818f4718",
   "metadata": {},
   "outputs": [
    {
     "data": {
      "text/html": [
       "<div>\n",
       "<style scoped>\n",
       "    .dataframe tbody tr th:only-of-type {\n",
       "        vertical-align: middle;\n",
       "    }\n",
       "\n",
       "    .dataframe tbody tr th {\n",
       "        vertical-align: top;\n",
       "    }\n",
       "\n",
       "    .dataframe thead th {\n",
       "        text-align: right;\n",
       "    }\n",
       "</style>\n",
       "<table border=\"1\" class=\"dataframe\">\n",
       "  <thead>\n",
       "    <tr style=\"text-align: right;\">\n",
       "      <th></th>\n",
       "      <th>index</th>\n",
       "      <th>0</th>\n",
       "    </tr>\n",
       "  </thead>\n",
       "  <tbody>\n",
       "    <tr>\n",
       "      <th>26</th>\n",
       "      <td>по</td>\n",
       "      <td>10084</td>\n",
       "    </tr>\n",
       "    <tr>\n",
       "      <th>20</th>\n",
       "      <td>продавец</td>\n",
       "      <td>7561</td>\n",
       "    </tr>\n",
       "    <tr>\n",
       "      <th>32</th>\n",
       "      <td>менеджер</td>\n",
       "      <td>7390</td>\n",
       "    </tr>\n",
       "    <tr>\n",
       "      <th>40</th>\n",
       "      <td>на</td>\n",
       "      <td>5361</td>\n",
       "    </tr>\n",
       "    <tr>\n",
       "      <th>66</th>\n",
       "      <td>кассир</td>\n",
       "      <td>4773</td>\n",
       "    </tr>\n",
       "    <tr>\n",
       "      <th>11</th>\n",
       "      <td>водитель</td>\n",
       "      <td>4756</td>\n",
       "    </tr>\n",
       "    <tr>\n",
       "      <th>9</th>\n",
       "      <td>в</td>\n",
       "      <td>4626</td>\n",
       "    </tr>\n",
       "    <tr>\n",
       "      <th>44</th>\n",
       "      <td>оператор</td>\n",
       "      <td>4446</td>\n",
       "    </tr>\n",
       "    <tr>\n",
       "      <th>17</th>\n",
       "      <td>с</td>\n",
       "      <td>3715</td>\n",
       "    </tr>\n",
       "    <tr>\n",
       "      <th>36</th>\n",
       "      <td>продажам</td>\n",
       "      <td>3026</td>\n",
       "    </tr>\n",
       "    <tr>\n",
       "      <th>62</th>\n",
       "      <td>консультант</td>\n",
       "      <td>2951</td>\n",
       "    </tr>\n",
       "    <tr>\n",
       "      <th>25</th>\n",
       "      <td>специалист</td>\n",
       "      <td>2597</td>\n",
       "    </tr>\n",
       "    <tr>\n",
       "      <th>2</th>\n",
       "      <td>грузчик</td>\n",
       "      <td>2546</td>\n",
       "    </tr>\n",
       "    <tr>\n",
       "      <th>169</th>\n",
       "      <td>центра</td>\n",
       "      <td>2422</td>\n",
       "    </tr>\n",
       "    <tr>\n",
       "      <th>3</th>\n",
       "      <td>комплектовщик</td>\n",
       "      <td>2181</td>\n",
       "    </tr>\n",
       "    <tr>\n",
       "      <th>34</th>\n",
       "      <td>удаленно</td>\n",
       "      <td>2015</td>\n",
       "    </tr>\n",
       "    <tr>\n",
       "      <th>87</th>\n",
       "      <td>работе</td>\n",
       "      <td>1998</td>\n",
       "    </tr>\n",
       "    <tr>\n",
       "      <th>77</th>\n",
       "      <td>повар</td>\n",
       "      <td>1900</td>\n",
       "    </tr>\n",
       "    <tr>\n",
       "      <th>132</th>\n",
       "      <td>курьер</td>\n",
       "      <td>1770</td>\n",
       "    </tr>\n",
       "    <tr>\n",
       "      <th>151</th>\n",
       "      <td>инженер</td>\n",
       "      <td>1743</td>\n",
       "    </tr>\n",
       "  </tbody>\n",
       "</table>\n",
       "</div>"
      ],
      "text/plain": [
       "             index      0\n",
       "26              по  10084\n",
       "20        продавец   7561\n",
       "32        менеджер   7390\n",
       "40              на   5361\n",
       "66          кассир   4773\n",
       "11        водитель   4756\n",
       "9                в   4626\n",
       "44        оператор   4446\n",
       "17               с   3715\n",
       "36        продажам   3026\n",
       "62     консультант   2951\n",
       "25      специалист   2597\n",
       "2          грузчик   2546\n",
       "169         центра   2422\n",
       "3    комплектовщик   2181\n",
       "34        удаленно   2015\n",
       "87          работе   1998\n",
       "77           повар   1900\n",
       "132         курьер   1770\n",
       "151        инженер   1743"
      ]
     },
     "execution_count": 9,
     "metadata": {},
     "output_type": "execute_result"
    }
   ],
   "source": [
    "words  = []\n",
    "\n",
    "for sublist in [i.split(' ') for i in data.custom_position.to_list()]:\n",
    "    for item in sublist:\n",
    "        words.append(item)\n",
    "        \n",
    "cnt_df = pd.DataFrame.from_dict(Counter(words), orient='index').reset_index()\n",
    "cnt_df.sort_values(by=0, ascending=False).head(20)"
   ]
  },
  {
   "cell_type": "code",
   "execution_count": 10,
   "id": "5800659c",
   "metadata": {},
   "outputs": [],
   "source": [
    "#Заменяем ка и ца\n",
    "data.custom_position = data.custom_position.apply(str_replace)"
   ]
  },
  {
   "cell_type": "code",
   "execution_count": 11,
   "id": "6b4f1c2e",
   "metadata": {},
   "outputs": [],
   "source": [
    "#Очищаем от стоп слов\n",
    "stopwords = stopwords.words(\"russian\")\n",
    "\n",
    "data.custom_position = data.custom_position.apply(lambda value: ' '.join([word for word in value.split(' ') if word not in stopwords]))"
   ]
  },
  {
   "cell_type": "code",
   "execution_count": 12,
   "id": "6c86ae99",
   "metadata": {},
   "outputs": [
    {
     "name": "stderr",
     "output_type": "stream",
     "text": [
      "C:\\Users\\User\\anaconda3\\envs\\myenv_py_3_10\\lib\\site-packages\\torch\\__init__.py:614: UserWarning: torch.set_default_tensor_type() is deprecated as of PyTorch 2.1, please use torch.set_default_dtype() and torch.set_default_device() as alternatives. (Triggered internally at C:\\cb\\pytorch_1000000000000\\work\\torch\\csrc\\tensor\\python_tensor.cpp:453.)\n",
      "  _C._set_default_tensor_type(t)\n"
     ]
    }
   ],
   "source": [
    "s_stemmer = SnowballStemmer(\"russian\")\n",
    "\n",
    "nlp = spacy.load('ru_core_news_sm')"
   ]
  },
  {
   "cell_type": "code",
   "execution_count": 13,
   "id": "7e1b68b4",
   "metadata": {},
   "outputs": [
    {
     "name": "stdout",
     "output_type": "stream",
     "text": [
      "CPU times: total: 10.5 s\n",
      "Wall time: 10.6 s\n"
     ]
    }
   ],
   "source": [
    "%%time\n",
    "\n",
    "data['nltk_custom_position'] = data.custom_position.apply(lambda value: nltk_process(value))"
   ]
  },
  {
   "cell_type": "code",
   "execution_count": 14,
   "id": "83204918",
   "metadata": {},
   "outputs": [
    {
     "name": "stdout",
     "output_type": "stream",
     "text": [
      "CPU times: total: 3min 14s\n",
      "Wall time: 3min 15s\n"
     ]
    }
   ],
   "source": [
    "%%time\n",
    "\n",
    "data['spacy_custom_position'] = data.custom_position.apply(lambda value: spacy_process(value))"
   ]
  },
  {
   "cell_type": "code",
   "execution_count": 15,
   "id": "05503691",
   "metadata": {},
   "outputs": [],
   "source": [
    "stem_lem = create_stemmer_lemmer(lemmatizer_backend='pymorphy', stemmer_backend='snowball')"
   ]
  },
  {
   "cell_type": "code",
   "execution_count": 16,
   "id": "e0a6ebf5",
   "metadata": {},
   "outputs": [],
   "source": [
    "data['stem_custom_position'] = phrases_transform(data.custom_position.to_list(), func = stem_lem)"
   ]
  },
  {
   "cell_type": "code",
   "execution_count": 17,
   "id": "ae0fc1bb",
   "metadata": {},
   "outputs": [
    {
     "name": "stdout",
     "output_type": "stream",
     "text": [
      "[13548.0, 13275.4, 13526.4, 13387.2, 13452.0]\n",
      "13437.79\n",
      "CPU times: total: 14min 45s\n",
      "Wall time: 1min 46s\n"
     ]
    }
   ],
   "source": [
    "%%time\n",
    "text_col_name = 'nltk_custom_position'\n",
    "\n",
    "cv_fit_predict(data, cols=fit_cols+[text_col_name], text_col_name=text_col_name)"
   ]
  },
  {
   "cell_type": "code",
   "execution_count": 18,
   "id": "60981f06",
   "metadata": {},
   "outputs": [
    {
     "name": "stdout",
     "output_type": "stream",
     "text": [
      "[13552.9, 13240.8, 13450.7, 13351.4, 13489.1]\n",
      "13416.98\n",
      "CPU times: total: 14min 44s\n",
      "Wall time: 1min 46s\n"
     ]
    }
   ],
   "source": [
    "%%time\n",
    "text_col_name = 'spacy_custom_position'\n",
    "\n",
    "cv_fit_predict(data, cols=fit_cols+[text_col_name], text_col_name=text_col_name)"
   ]
  },
  {
   "cell_type": "code",
   "execution_count": 19,
   "id": "5dcb2fdf",
   "metadata": {},
   "outputs": [
    {
     "name": "stdout",
     "output_type": "stream",
     "text": [
      "[13549.0, 13282.6, 13549.2, 13373.5, 13421.4]\n",
      "13435.14\n",
      "CPU times: total: 14min 49s\n",
      "Wall time: 1min 46s\n"
     ]
    }
   ],
   "source": [
    "%%time\n",
    "text_col_name = 'stem_custom_position'\n",
    "\n",
    "cv_fit_predict(data, cols=fit_cols+[text_col_name], text_col_name=text_col_name)"
   ]
  },
  {
   "cell_type": "code",
   "execution_count": 20,
   "id": "d4a804db",
   "metadata": {},
   "outputs": [
    {
     "data": {
      "text/html": [
       "<div>\n",
       "<style scoped>\n",
       "    .dataframe tbody tr th:only-of-type {\n",
       "        vertical-align: middle;\n",
       "    }\n",
       "\n",
       "    .dataframe tbody tr th {\n",
       "        vertical-align: top;\n",
       "    }\n",
       "\n",
       "    .dataframe thead th {\n",
       "        text-align: right;\n",
       "    }\n",
       "</style>\n",
       "<table border=\"1\" class=\"dataframe\">\n",
       "  <thead>\n",
       "    <tr style=\"text-align: right;\">\n",
       "      <th></th>\n",
       "      <th>index</th>\n",
       "      <th>0</th>\n",
       "    </tr>\n",
       "  </thead>\n",
       "  <tbody>\n",
       "    <tr>\n",
       "      <th>29</th>\n",
       "      <td>менеджер</td>\n",
       "      <td>7569</td>\n",
       "    </tr>\n",
       "    <tr>\n",
       "      <th>18</th>\n",
       "      <td>продавец</td>\n",
       "      <td>7561</td>\n",
       "    </tr>\n",
       "    <tr>\n",
       "      <th>10</th>\n",
       "      <td>водител</td>\n",
       "      <td>4794</td>\n",
       "    </tr>\n",
       "    <tr>\n",
       "      <th>62</th>\n",
       "      <td>кассир</td>\n",
       "      <td>4776</td>\n",
       "    </tr>\n",
       "    <tr>\n",
       "      <th>40</th>\n",
       "      <td>оператор</td>\n",
       "      <td>4487</td>\n",
       "    </tr>\n",
       "    <tr>\n",
       "      <th>33</th>\n",
       "      <td>продаж</td>\n",
       "      <td>3923</td>\n",
       "    </tr>\n",
       "    <tr>\n",
       "      <th>58</th>\n",
       "      <td>консультант</td>\n",
       "      <td>2953</td>\n",
       "    </tr>\n",
       "    <tr>\n",
       "      <th>83</th>\n",
       "      <td>работ</td>\n",
       "      <td>2675</td>\n",
       "    </tr>\n",
       "    <tr>\n",
       "      <th>159</th>\n",
       "      <td>центр</td>\n",
       "      <td>2646</td>\n",
       "    </tr>\n",
       "    <tr>\n",
       "      <th>23</th>\n",
       "      <td>специалист</td>\n",
       "      <td>2610</td>\n",
       "    </tr>\n",
       "    <tr>\n",
       "      <th>2</th>\n",
       "      <td>грузчик</td>\n",
       "      <td>2560</td>\n",
       "    </tr>\n",
       "    <tr>\n",
       "      <th>31</th>\n",
       "      <td>удален</td>\n",
       "      <td>2333</td>\n",
       "    </tr>\n",
       "    <tr>\n",
       "      <th>3</th>\n",
       "      <td>комплектовщик</td>\n",
       "      <td>2188</td>\n",
       "    </tr>\n",
       "    <tr>\n",
       "      <th>73</th>\n",
       "      <td>повар</td>\n",
       "      <td>1968</td>\n",
       "    </tr>\n",
       "    <tr>\n",
       "      <th>84</th>\n",
       "      <td>клиент</td>\n",
       "      <td>1911</td>\n",
       "    </tr>\n",
       "    <tr>\n",
       "      <th>125</th>\n",
       "      <td>курьер</td>\n",
       "      <td>1816</td>\n",
       "    </tr>\n",
       "    <tr>\n",
       "      <th>37</th>\n",
       "      <td>склад</td>\n",
       "      <td>1814</td>\n",
       "    </tr>\n",
       "    <tr>\n",
       "      <th>11</th>\n",
       "      <td>категор</td>\n",
       "      <td>1793</td>\n",
       "    </tr>\n",
       "    <tr>\n",
       "      <th>143</th>\n",
       "      <td>инженер</td>\n",
       "      <td>1774</td>\n",
       "    </tr>\n",
       "    <tr>\n",
       "      <th>208</th>\n",
       "      <td>call</td>\n",
       "      <td>1657</td>\n",
       "    </tr>\n",
       "  </tbody>\n",
       "</table>\n",
       "</div>"
      ],
      "text/plain": [
       "             index     0\n",
       "29        менеджер  7569\n",
       "18        продавец  7561\n",
       "10         водител  4794\n",
       "62          кассир  4776\n",
       "40        оператор  4487\n",
       "33          продаж  3923\n",
       "58     консультант  2953\n",
       "83           работ  2675\n",
       "159          центр  2646\n",
       "23      специалист  2610\n",
       "2          грузчик  2560\n",
       "31          удален  2333\n",
       "3    комплектовщик  2188\n",
       "73           повар  1968\n",
       "84          клиент  1911\n",
       "125         курьер  1816\n",
       "37           склад  1814\n",
       "11         категор  1793\n",
       "143        инженер  1774\n",
       "208           call  1657"
      ]
     },
     "execution_count": 20,
     "metadata": {},
     "output_type": "execute_result"
    }
   ],
   "source": [
    "words  = []\n",
    "\n",
    "for sublist in [i.split(' ') for i in data.nltk_custom_position.to_list()]:\n",
    "    for item in sublist:\n",
    "        words.append(item)\n",
    "        \n",
    "cnt_df = pd.DataFrame.from_dict(Counter(words), orient='index').reset_index()\n",
    "cnt_df.sort_values(by=0, ascending=False).head(20)"
   ]
  }
 ],
 "metadata": {
  "kernelspec": {
   "display_name": "Python 3 (ipykernel)",
   "language": "python",
   "name": "python3"
  },
  "language_info": {
   "codemirror_mode": {
    "name": "ipython",
    "version": 3
   },
   "file_extension": ".py",
   "mimetype": "text/x-python",
   "name": "python",
   "nbconvert_exporter": "python",
   "pygments_lexer": "ipython3",
   "version": "3.10.13"
  }
 },
 "nbformat": 4,
 "nbformat_minor": 5
}
