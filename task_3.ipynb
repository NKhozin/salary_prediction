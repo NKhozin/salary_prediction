{
 "cells": [
  {
   "cell_type": "code",
   "execution_count": 18,
   "id": "eca2ec98",
   "metadata": {},
   "outputs": [],
   "source": [
    "import pandas as pd\n",
    "import re\n",
    "import seaborn as sns\n",
    "import matplotlib.pyplot as plt\n",
    "import fasttext.util\n",
    "import numpy as np\n",
    "import ast\n",
    "from collections import Counter\n",
    "\n",
    "from sklearn.model_selection import KFold, cross_val_score, train_test_split\n",
    "from sklearn.metrics import mean_absolute_percentage_error\n",
    "from catboost import CatBoostRegressor, Pool, cv"
   ]
  },
  {
   "cell_type": "code",
   "execution_count": 19,
   "id": "ca207789",
   "metadata": {},
   "outputs": [],
   "source": [
    "def get_emb_dataframe(custom_position, dim_size):\n",
    "    \n",
    "    ft = fasttext.load_model('cc.ru.300.bin')\n",
    "\n",
    "    fasttext.util.reduce_model(ft, dim_size)\n",
    "    \n",
    "    vector_professions = []\n",
    "    for words in custom_position:\n",
    "        vector = np.mean([ft.get_word_vector(word) for word in words.split(' ')], axis=0).tolist()\n",
    "        vector_professions.append(vector)\n",
    "        \n",
    "    df_vector_professions = pd.DataFrame(vector_professions, columns=[f\"feat_prof_{c}\" for c in range(1, dim_size+1)])\n",
    "    \n",
    "    return df_vector_professions"
   ]
  },
  {
   "cell_type": "code",
   "execution_count": 20,
   "id": "cbbf295d",
   "metadata": {},
   "outputs": [],
   "source": [
    "data = pd.read_csv('my_data.csv', index_col=0)"
   ]
  },
  {
   "cell_type": "code",
   "execution_count": 21,
   "id": "964e381d",
   "metadata": {},
   "outputs": [
    {
     "data": {
      "text/plain": [
       "Index(['custom_position', 'salary_from', 'work_skills', 'count_skills',\n",
       "       'skill_1', 'skill_2', 'skill_3', 'skill_4', 'skill_5', 'skill_6',\n",
       "       'skill_7', 'skill_8', 'skill_9', 'skill_10',\n",
       "       'schedule_полный рабочий день', 'schedule_свободный график',\n",
       "       'schedule_сменный график', 'schedule_удаленная работа',\n",
       "       'schedule_частичная занятость', 'education_name_высшее (бакалавр)',\n",
       "       'education_name_любое', 'education_name_неполное высшее',\n",
       "       'education_name_среднее', 'education_name_среднее профессиональное',\n",
       "       'required_experience_Нет опыта',\n",
       "       'required_experience_От 1 года до 3 лет',\n",
       "       'required_experience_От 3 до 6 лет', 'work_skills_str', 'vector_skills',\n",
       "       'vector_professions'],\n",
       "      dtype='object')"
      ]
     },
     "execution_count": 21,
     "metadata": {},
     "output_type": "execute_result"
    }
   ],
   "source": [
    "data.columns"
   ]
  },
  {
   "cell_type": "code",
   "execution_count": 22,
   "id": "1928163a",
   "metadata": {},
   "outputs": [],
   "source": [
    "text_col_name = 'custom_position'\n",
    "\n",
    "df_vector_professions = get_emb_dataframe(data[text_col_name].values.tolist(), 100)\n",
    "\n",
    "data.reset_index(drop=True, inplace=True)\n",
    "df_vector_professions.reset_index(drop=True, inplace=True)\n",
    "\n",
    "data = pd.concat([data, df_vector_professions], axis=1)"
   ]
  },
  {
   "cell_type": "code",
   "execution_count": 23,
   "id": "d6a0f13b",
   "metadata": {
    "scrolled": true
   },
   "outputs": [],
   "source": [
    "data = data.drop(['custom_position', 'work_skills', 'vector_professions'], axis=1)"
   ]
  },
  {
   "cell_type": "markdown",
   "id": "f3ed6030",
   "metadata": {},
   "source": [
    "### Оставялем эмебддинги как есть"
   ]
  },
  {
   "cell_type": "code",
   "execution_count": 24,
   "id": "a6430c9a",
   "metadata": {},
   "outputs": [],
   "source": [
    "subdata = data.drop(['work_skills_str','skill_1', 'skill_2', 'skill_3', 'skill_4', 'skill_5', 'skill_6','skill_7', 'skill_8', 'skill_9', 'skill_10'], axis=1)"
   ]
  },
  {
   "cell_type": "code",
   "execution_count": 25,
   "id": "e8d50396",
   "metadata": {},
   "outputs": [],
   "source": [
    "dim = 100\n",
    "\n",
    "subdata.vector_skills = subdata.vector_skills.apply(ast.literal_eval)\n",
    "\n",
    "vector_skills = pd.DataFrame(subdata.vector_skills.tolist(), columns=[f\"feat_skill_{c}\" for c in range(1, dim+1)])\n",
    "\n",
    "subdata = pd.concat([subdata, vector_skills], axis=1)"
   ]
  },
  {
   "cell_type": "code",
   "execution_count": 26,
   "id": "cff28c6c",
   "metadata": {},
   "outputs": [],
   "source": [
    "y = subdata.salary_from\n",
    "X = subdata.drop(['salary_from','vector_skills'], axis=1)\n",
    "\n",
    "num_folds = 5\n",
    "random_state = 42\n",
    "scoring = 'neg_mean_absolute_error'\n",
    "\n",
    "X_train, X_test, y_train, y_test = train_test_split(X, y, test_size=0.2, random_state=random_state)"
   ]
  },
  {
   "cell_type": "code",
   "execution_count": 27,
   "id": "0514d3a9",
   "metadata": {},
   "outputs": [
    {
     "name": "stdout",
     "output_type": "stream",
     "text": [
      "[13713.7, 13417.2, 13639.5, 13573.7, 13553.8]\n",
      "13579.62\n"
     ]
    }
   ],
   "source": [
    "model = CatBoostRegressor(iterations=1000, verbose=0)\n",
    "\n",
    "kfold = KFold(n_splits=num_folds, random_state=random_state, shuffle=True)\n",
    "\n",
    "cv_results = -1 * cross_val_score(model, X_train, y_train, cv=kfold, scoring=scoring)\n",
    "\n",
    "print([round(i,1) for i in cv_results])\n",
    "print(round(cv_results.mean(),2))"
   ]
  },
  {
   "cell_type": "code",
   "execution_count": 28,
   "id": "dcbc2840",
   "metadata": {},
   "outputs": [
    {
     "data": {
      "application/vnd.jupyter.widget-view+json": {
       "model_id": "e3d37b03d5eb44bca16ad8d87d010ee4",
       "version_major": 2,
       "version_minor": 0
      },
      "text/plain": [
       "MetricVisualizer(layout=Layout(align_self='stretch', height='500px'))"
      ]
     },
     "metadata": {},
     "output_type": "display_data"
    },
    {
     "name": "stdout",
     "output_type": "stream",
     "text": [
      "Training on fold [0/5]\n",
      "\n",
      "bestTest = 14092.68073\n",
      "bestIteration = 9999\n",
      "\n",
      "Training on fold [1/5]\n",
      "\n",
      "bestTest = 13558.28096\n",
      "bestIteration = 9996\n",
      "\n",
      "Training on fold [2/5]\n",
      "\n",
      "bestTest = 13550.9816\n",
      "bestIteration = 9998\n",
      "\n",
      "Training on fold [3/5]\n",
      "\n",
      "bestTest = 13587.45571\n",
      "bestIteration = 9999\n",
      "\n",
      "Training on fold [4/5]\n",
      "\n",
      "bestTest = 13282.53887\n",
      "bestIteration = 9999\n",
      "\n"
     ]
    }
   ],
   "source": [
    "params = {\n",
    "    'loss_function': 'MAE',\n",
    "    'iterations': 10000,\n",
    "    'random_seed': 42,\n",
    "}\n",
    "\n",
    "cv_data = cv(\n",
    "    params=params,\n",
    "    pool=Pool(X_train, label=y_train),\n",
    "    fold_count=5,\n",
    "    shuffle=True,\n",
    "    partition_random_seed=42,\n",
    "    plot=True,\n",
    "    verbose=False,\n",
    "    early_stopping_rounds=50\n",
    ")"
   ]
  },
  {
   "cell_type": "code",
   "execution_count": 29,
   "id": "f727f089",
   "metadata": {},
   "outputs": [
    {
     "data": {
      "text/html": [
       "<div>\n",
       "<style scoped>\n",
       "    .dataframe tbody tr th:only-of-type {\n",
       "        vertical-align: middle;\n",
       "    }\n",
       "\n",
       "    .dataframe tbody tr th {\n",
       "        vertical-align: top;\n",
       "    }\n",
       "\n",
       "    .dataframe thead th {\n",
       "        text-align: right;\n",
       "    }\n",
       "</style>\n",
       "<table border=\"1\" class=\"dataframe\">\n",
       "  <thead>\n",
       "    <tr style=\"text-align: right;\">\n",
       "      <th></th>\n",
       "      <th>iterations</th>\n",
       "      <th>test-MAE-mean</th>\n",
       "      <th>test-MAE-std</th>\n",
       "      <th>train-MAE-mean</th>\n",
       "      <th>train-MAE-std</th>\n",
       "    </tr>\n",
       "  </thead>\n",
       "  <tbody>\n",
       "    <tr>\n",
       "      <th>0</th>\n",
       "      <td>0</td>\n",
       "      <td>57502.564865</td>\n",
       "      <td>174.095606</td>\n",
       "      <td>57502.454007</td>\n",
       "      <td>43.798942</td>\n",
       "    </tr>\n",
       "    <tr>\n",
       "      <th>1</th>\n",
       "      <td>1</td>\n",
       "      <td>56030.175095</td>\n",
       "      <td>173.761161</td>\n",
       "      <td>56029.884445</td>\n",
       "      <td>44.597347</td>\n",
       "    </tr>\n",
       "    <tr>\n",
       "      <th>2</th>\n",
       "      <td>2</td>\n",
       "      <td>54580.136656</td>\n",
       "      <td>173.220157</td>\n",
       "      <td>54579.920427</td>\n",
       "      <td>43.347073</td>\n",
       "    </tr>\n",
       "    <tr>\n",
       "      <th>3</th>\n",
       "      <td>3</td>\n",
       "      <td>53202.466762</td>\n",
       "      <td>171.938977</td>\n",
       "      <td>53202.029353</td>\n",
       "      <td>43.600039</td>\n",
       "    </tr>\n",
       "    <tr>\n",
       "      <th>4</th>\n",
       "      <td>4</td>\n",
       "      <td>51863.290758</td>\n",
       "      <td>173.953805</td>\n",
       "      <td>51862.803996</td>\n",
       "      <td>42.606263</td>\n",
       "    </tr>\n",
       "    <tr>\n",
       "      <th>...</th>\n",
       "      <td>...</td>\n",
       "      <td>...</td>\n",
       "      <td>...</td>\n",
       "      <td>...</td>\n",
       "      <td>...</td>\n",
       "    </tr>\n",
       "    <tr>\n",
       "      <th>9995</th>\n",
       "      <td>9995</td>\n",
       "      <td>13614.597859</td>\n",
       "      <td>294.595679</td>\n",
       "      <td>11730.518046</td>\n",
       "      <td>157.742658</td>\n",
       "    </tr>\n",
       "    <tr>\n",
       "      <th>9996</th>\n",
       "      <td>9996</td>\n",
       "      <td>13614.561543</td>\n",
       "      <td>294.574840</td>\n",
       "      <td>11730.445470</td>\n",
       "      <td>157.745749</td>\n",
       "    </tr>\n",
       "    <tr>\n",
       "      <th>9997</th>\n",
       "      <td>9997</td>\n",
       "      <td>13614.482649</td>\n",
       "      <td>294.532835</td>\n",
       "      <td>11730.239955</td>\n",
       "      <td>157.762394</td>\n",
       "    </tr>\n",
       "    <tr>\n",
       "      <th>9998</th>\n",
       "      <td>9998</td>\n",
       "      <td>13614.423284</td>\n",
       "      <td>294.449694</td>\n",
       "      <td>11730.094828</td>\n",
       "      <td>157.591850</td>\n",
       "    </tr>\n",
       "    <tr>\n",
       "      <th>9999</th>\n",
       "      <td>9999</td>\n",
       "      <td>13614.409329</td>\n",
       "      <td>294.435530</td>\n",
       "      <td>11729.974989</td>\n",
       "      <td>157.601250</td>\n",
       "    </tr>\n",
       "  </tbody>\n",
       "</table>\n",
       "<p>10000 rows × 5 columns</p>\n",
       "</div>"
      ],
      "text/plain": [
       "      iterations  test-MAE-mean  test-MAE-std  train-MAE-mean  train-MAE-std\n",
       "0              0   57502.564865    174.095606    57502.454007      43.798942\n",
       "1              1   56030.175095    173.761161    56029.884445      44.597347\n",
       "2              2   54580.136656    173.220157    54579.920427      43.347073\n",
       "3              3   53202.466762    171.938977    53202.029353      43.600039\n",
       "4              4   51863.290758    173.953805    51862.803996      42.606263\n",
       "...          ...            ...           ...             ...            ...\n",
       "9995        9995   13614.597859    294.595679    11730.518046     157.742658\n",
       "9996        9996   13614.561543    294.574840    11730.445470     157.745749\n",
       "9997        9997   13614.482649    294.532835    11730.239955     157.762394\n",
       "9998        9998   13614.423284    294.449694    11730.094828     157.591850\n",
       "9999        9999   13614.409329    294.435530    11729.974989     157.601250\n",
       "\n",
       "[10000 rows x 5 columns]"
      ]
     },
     "execution_count": 29,
     "metadata": {},
     "output_type": "execute_result"
    }
   ],
   "source": [
    "cv_data"
   ]
  },
  {
   "cell_type": "markdown",
   "id": "c0d9be16",
   "metadata": {},
   "source": [
    "### Оставляем один текстовый столбец со всеми 10 навыками"
   ]
  },
  {
   "cell_type": "code",
   "execution_count": 30,
   "id": "659eb466",
   "metadata": {},
   "outputs": [],
   "source": [
    "subdata = data.drop(['vector_skills','skill_1', 'skill_2', 'skill_3', 'skill_4', 'skill_5', 'skill_6','skill_7', 'skill_8', 'skill_9', 'skill_10'], axis=1)"
   ]
  },
  {
   "cell_type": "code",
   "execution_count": 31,
   "id": "cdf748d9",
   "metadata": {},
   "outputs": [],
   "source": [
    "subdata.work_skills_str = subdata.work_skills_str.fillna('нет')"
   ]
  },
  {
   "cell_type": "code",
   "execution_count": 32,
   "id": "d06ca62f",
   "metadata": {},
   "outputs": [],
   "source": [
    "y = subdata.salary_from\n",
    "X = subdata.drop(['salary_from'], axis=1)\n",
    "\n",
    "num_folds = 5\n",
    "random_state = 42\n",
    "scoring = 'neg_mean_absolute_error'\n",
    "\n",
    "X_train, X_test, y_train, y_test = train_test_split(X, y, test_size=0.2, random_state=random_state)"
   ]
  },
  {
   "cell_type": "code",
   "execution_count": 33,
   "id": "1b0a5d51",
   "metadata": {},
   "outputs": [
    {
     "data": {
      "application/vnd.jupyter.widget-view+json": {
       "model_id": "4c1b8805ecfa4f089eb42c95f57e7307",
       "version_major": 2,
       "version_minor": 0
      },
      "text/plain": [
       "MetricVisualizer(layout=Layout(align_self='stretch', height='500px'))"
      ]
     },
     "metadata": {},
     "output_type": "display_data"
    },
    {
     "name": "stdout",
     "output_type": "stream",
     "text": [
      "Training on fold [0/5]\n",
      "\n",
      "bestTest = 15475.9497\n",
      "bestIteration = 3160\n",
      "\n",
      "Training on fold [1/5]\n",
      "\n",
      "bestTest = 14684.13496\n",
      "bestIteration = 8729\n",
      "\n",
      "Training on fold [2/5]\n",
      "\n",
      "bestTest = 14969.10869\n",
      "bestIteration = 3019\n",
      "\n",
      "Training on fold [3/5]\n",
      "\n",
      "bestTest = 14301.99388\n",
      "bestIteration = 8365\n",
      "\n",
      "Training on fold [4/5]\n",
      "\n",
      "bestTest = 14393.2057\n",
      "bestIteration = 6169\n",
      "\n"
     ]
    }
   ],
   "source": [
    "params = {\n",
    "    'loss_function': 'MAE',\n",
    "    'iterations': 10000,\n",
    "    'random_seed': 42,\n",
    "}\n",
    "\n",
    "cv_data = cv(\n",
    "    params=params,\n",
    "    pool=Pool(X_train, label=y_train, text_features=['work_skills_str']),\n",
    "    fold_count=5,\n",
    "    shuffle=True,\n",
    "    partition_random_seed=42,\n",
    "    plot=True,\n",
    "    verbose=False,\n",
    "    early_stopping_rounds=50\n",
    ")"
   ]
  },
  {
   "cell_type": "code",
   "execution_count": 34,
   "id": "5b866d9a",
   "metadata": {},
   "outputs": [
    {
     "data": {
      "text/html": [
       "<div>\n",
       "<style scoped>\n",
       "    .dataframe tbody tr th:only-of-type {\n",
       "        vertical-align: middle;\n",
       "    }\n",
       "\n",
       "    .dataframe tbody tr th {\n",
       "        vertical-align: top;\n",
       "    }\n",
       "\n",
       "    .dataframe thead th {\n",
       "        text-align: right;\n",
       "    }\n",
       "</style>\n",
       "<table border=\"1\" class=\"dataframe\">\n",
       "  <thead>\n",
       "    <tr style=\"text-align: right;\">\n",
       "      <th></th>\n",
       "      <th>iterations</th>\n",
       "      <th>test-MAE-mean</th>\n",
       "      <th>test-MAE-std</th>\n",
       "      <th>train-MAE-mean</th>\n",
       "      <th>train-MAE-std</th>\n",
       "    </tr>\n",
       "  </thead>\n",
       "  <tbody>\n",
       "    <tr>\n",
       "      <th>0</th>\n",
       "      <td>0</td>\n",
       "      <td>57492.563691</td>\n",
       "      <td>169.320547</td>\n",
       "      <td>57491.417708</td>\n",
       "      <td>47.376263</td>\n",
       "    </tr>\n",
       "    <tr>\n",
       "      <th>1</th>\n",
       "      <td>1</td>\n",
       "      <td>56036.484140</td>\n",
       "      <td>168.414231</td>\n",
       "      <td>56035.193947</td>\n",
       "      <td>47.497284</td>\n",
       "    </tr>\n",
       "    <tr>\n",
       "      <th>2</th>\n",
       "      <td>2</td>\n",
       "      <td>54587.198081</td>\n",
       "      <td>167.585743</td>\n",
       "      <td>54586.127157</td>\n",
       "      <td>49.183479</td>\n",
       "    </tr>\n",
       "    <tr>\n",
       "      <th>3</th>\n",
       "      <td>3</td>\n",
       "      <td>53211.547910</td>\n",
       "      <td>167.454157</td>\n",
       "      <td>53210.318422</td>\n",
       "      <td>53.905842</td>\n",
       "    </tr>\n",
       "    <tr>\n",
       "      <th>4</th>\n",
       "      <td>4</td>\n",
       "      <td>51849.013631</td>\n",
       "      <td>164.349870</td>\n",
       "      <td>51847.280435</td>\n",
       "      <td>55.835399</td>\n",
       "    </tr>\n",
       "    <tr>\n",
       "      <th>...</th>\n",
       "      <td>...</td>\n",
       "      <td>...</td>\n",
       "      <td>...</td>\n",
       "      <td>...</td>\n",
       "      <td>...</td>\n",
       "    </tr>\n",
       "    <tr>\n",
       "      <th>8775</th>\n",
       "      <td>8775</td>\n",
       "      <td>14765.342683</td>\n",
       "      <td>476.265341</td>\n",
       "      <td>14149.215817</td>\n",
       "      <td>385.974904</td>\n",
       "    </tr>\n",
       "    <tr>\n",
       "      <th>8776</th>\n",
       "      <td>8776</td>\n",
       "      <td>14765.342680</td>\n",
       "      <td>476.265342</td>\n",
       "      <td>14149.215812</td>\n",
       "      <td>385.974904</td>\n",
       "    </tr>\n",
       "    <tr>\n",
       "      <th>8777</th>\n",
       "      <td>8777</td>\n",
       "      <td>14765.342677</td>\n",
       "      <td>476.265342</td>\n",
       "      <td>14149.215807</td>\n",
       "      <td>385.974903</td>\n",
       "    </tr>\n",
       "    <tr>\n",
       "      <th>8778</th>\n",
       "      <td>8778</td>\n",
       "      <td>14765.342664</td>\n",
       "      <td>476.265345</td>\n",
       "      <td>14149.215789</td>\n",
       "      <td>385.974902</td>\n",
       "    </tr>\n",
       "    <tr>\n",
       "      <th>8779</th>\n",
       "      <td>8779</td>\n",
       "      <td>14765.347047</td>\n",
       "      <td>476.264411</td>\n",
       "      <td>14149.208565</td>\n",
       "      <td>385.974387</td>\n",
       "    </tr>\n",
       "  </tbody>\n",
       "</table>\n",
       "<p>8780 rows × 5 columns</p>\n",
       "</div>"
      ],
      "text/plain": [
       "      iterations  test-MAE-mean  test-MAE-std  train-MAE-mean  train-MAE-std\n",
       "0              0   57492.563691    169.320547    57491.417708      47.376263\n",
       "1              1   56036.484140    168.414231    56035.193947      47.497284\n",
       "2              2   54587.198081    167.585743    54586.127157      49.183479\n",
       "3              3   53211.547910    167.454157    53210.318422      53.905842\n",
       "4              4   51849.013631    164.349870    51847.280435      55.835399\n",
       "...          ...            ...           ...             ...            ...\n",
       "8775        8775   14765.342683    476.265341    14149.215817     385.974904\n",
       "8776        8776   14765.342680    476.265342    14149.215812     385.974904\n",
       "8777        8777   14765.342677    476.265342    14149.215807     385.974903\n",
       "8778        8778   14765.342664    476.265345    14149.215789     385.974902\n",
       "8779        8779   14765.347047    476.264411    14149.208565     385.974387\n",
       "\n",
       "[8780 rows x 5 columns]"
      ]
     },
     "execution_count": 34,
     "metadata": {},
     "output_type": "execute_result"
    }
   ],
   "source": [
    "cv_data"
   ]
  },
  {
   "cell_type": "markdown",
   "id": "bc2131d0",
   "metadata": {},
   "source": [
    "### Оставляем 10 текстовых столбцов с навыками"
   ]
  },
  {
   "cell_type": "code",
   "execution_count": 35,
   "id": "e614e09a",
   "metadata": {},
   "outputs": [],
   "source": [
    "subdata = data.drop(['vector_skills', 'work_skills_str'], axis=1)\n"
   ]
  },
  {
   "cell_type": "code",
   "execution_count": 36,
   "id": "0eb1a989",
   "metadata": {},
   "outputs": [],
   "source": [
    "skills_cols = ['skill_1', 'skill_2', 'skill_3', 'skill_4', 'skill_5', 'skill_6','skill_7', 'skill_8', 'skill_9', 'skill_10']"
   ]
  },
  {
   "cell_type": "code",
   "execution_count": 37,
   "id": "e020ec86",
   "metadata": {},
   "outputs": [],
   "source": [
    "subdata[skills_cols] = subdata[skills_cols].fillna('нет')"
   ]
  },
  {
   "cell_type": "code",
   "execution_count": 38,
   "id": "a726d28d",
   "metadata": {},
   "outputs": [],
   "source": [
    "y = subdata.salary_from\n",
    "X = subdata.drop(['salary_from'], axis=1)\n",
    "\n",
    "num_folds = 5\n",
    "random_state = 42\n",
    "scoring = 'neg_mean_absolute_error'\n",
    "\n",
    "X_train, X_test, y_train, y_test = train_test_split(X, y, test_size=0.2, random_state=random_state)"
   ]
  },
  {
   "cell_type": "code",
   "execution_count": 39,
   "id": "bda4bf64",
   "metadata": {},
   "outputs": [
    {
     "data": {
      "application/vnd.jupyter.widget-view+json": {
       "model_id": "93098885d6604031885afa02073743a6",
       "version_major": 2,
       "version_minor": 0
      },
      "text/plain": [
       "MetricVisualizer(layout=Layout(align_self='stretch', height='500px'))"
      ]
     },
     "metadata": {},
     "output_type": "display_data"
    },
    {
     "name": "stdout",
     "output_type": "stream",
     "text": [
      "Training on fold [0/5]\n",
      "\n",
      "bestTest = 14104.45884\n",
      "bestIteration = 9999\n",
      "\n",
      "Training on fold [1/5]\n",
      "\n",
      "bestTest = 13900.1167\n",
      "bestIteration = 9591\n",
      "\n",
      "Training on fold [2/5]\n",
      "\n",
      "bestTest = 13918.46957\n",
      "bestIteration = 9999\n",
      "\n",
      "Training on fold [3/5]\n",
      "\n",
      "bestTest = 13849.96164\n",
      "bestIteration = 9999\n",
      "\n",
      "Training on fold [4/5]\n",
      "\n",
      "bestTest = 13732.01639\n",
      "bestIteration = 9751\n",
      "\n"
     ]
    }
   ],
   "source": [
    "params = {\n",
    "    'loss_function': 'MAE',\n",
    "    'iterations': 10000,\n",
    "    'random_seed': 42,\n",
    "}\n",
    "\n",
    "cv_data = cv(\n",
    "    params=params,\n",
    "    pool=Pool(X_train, label=y_train, text_features=skills_cols),\n",
    "    fold_count=5,\n",
    "    shuffle=True,\n",
    "    partition_random_seed=42,\n",
    "    plot=True,\n",
    "    verbose=False,\n",
    "    early_stopping_rounds=50\n",
    ")"
   ]
  },
  {
   "cell_type": "code",
   "execution_count": 40,
   "id": "77daa950",
   "metadata": {},
   "outputs": [
    {
     "data": {
      "text/html": [
       "<div>\n",
       "<style scoped>\n",
       "    .dataframe tbody tr th:only-of-type {\n",
       "        vertical-align: middle;\n",
       "    }\n",
       "\n",
       "    .dataframe tbody tr th {\n",
       "        vertical-align: top;\n",
       "    }\n",
       "\n",
       "    .dataframe thead th {\n",
       "        text-align: right;\n",
       "    }\n",
       "</style>\n",
       "<table border=\"1\" class=\"dataframe\">\n",
       "  <thead>\n",
       "    <tr style=\"text-align: right;\">\n",
       "      <th></th>\n",
       "      <th>iterations</th>\n",
       "      <th>test-MAE-mean</th>\n",
       "      <th>test-MAE-std</th>\n",
       "      <th>train-MAE-mean</th>\n",
       "      <th>train-MAE-std</th>\n",
       "    </tr>\n",
       "  </thead>\n",
       "  <tbody>\n",
       "    <tr>\n",
       "      <th>0</th>\n",
       "      <td>0</td>\n",
       "      <td>57499.916132</td>\n",
       "      <td>172.481190</td>\n",
       "      <td>57499.870954</td>\n",
       "      <td>43.367510</td>\n",
       "    </tr>\n",
       "    <tr>\n",
       "      <th>1</th>\n",
       "      <td>1</td>\n",
       "      <td>56043.522705</td>\n",
       "      <td>171.420215</td>\n",
       "      <td>56043.802008</td>\n",
       "      <td>44.025529</td>\n",
       "    </tr>\n",
       "    <tr>\n",
       "      <th>2</th>\n",
       "      <td>2</td>\n",
       "      <td>54631.310989</td>\n",
       "      <td>170.835754</td>\n",
       "      <td>54631.559290</td>\n",
       "      <td>44.660071</td>\n",
       "    </tr>\n",
       "    <tr>\n",
       "      <th>3</th>\n",
       "      <td>3</td>\n",
       "      <td>53255.290355</td>\n",
       "      <td>169.608321</td>\n",
       "      <td>53255.427098</td>\n",
       "      <td>48.525834</td>\n",
       "    </tr>\n",
       "    <tr>\n",
       "      <th>4</th>\n",
       "      <td>4</td>\n",
       "      <td>51927.876460</td>\n",
       "      <td>169.217582</td>\n",
       "      <td>51928.059963</td>\n",
       "      <td>49.091335</td>\n",
       "    </tr>\n",
       "    <tr>\n",
       "      <th>...</th>\n",
       "      <td>...</td>\n",
       "      <td>...</td>\n",
       "      <td>...</td>\n",
       "      <td>...</td>\n",
       "      <td>...</td>\n",
       "    </tr>\n",
       "    <tr>\n",
       "      <th>9995</th>\n",
       "      <td>9995</td>\n",
       "      <td>13901.524497</td>\n",
       "      <td>134.882719</td>\n",
       "      <td>11182.733742</td>\n",
       "      <td>64.570323</td>\n",
       "    </tr>\n",
       "    <tr>\n",
       "      <th>9996</th>\n",
       "      <td>9996</td>\n",
       "      <td>13901.417522</td>\n",
       "      <td>134.668452</td>\n",
       "      <td>11182.547280</td>\n",
       "      <td>64.766684</td>\n",
       "    </tr>\n",
       "    <tr>\n",
       "      <th>9997</th>\n",
       "      <td>9997</td>\n",
       "      <td>13901.389459</td>\n",
       "      <td>134.652256</td>\n",
       "      <td>11182.476543</td>\n",
       "      <td>64.767393</td>\n",
       "    </tr>\n",
       "    <tr>\n",
       "      <th>9998</th>\n",
       "      <td>9998</td>\n",
       "      <td>13901.391812</td>\n",
       "      <td>134.670169</td>\n",
       "      <td>11182.402117</td>\n",
       "      <td>64.849664</td>\n",
       "    </tr>\n",
       "    <tr>\n",
       "      <th>9999</th>\n",
       "      <td>9999</td>\n",
       "      <td>13901.229648</td>\n",
       "      <td>134.665987</td>\n",
       "      <td>11182.203606</td>\n",
       "      <td>65.033942</td>\n",
       "    </tr>\n",
       "  </tbody>\n",
       "</table>\n",
       "<p>10000 rows × 5 columns</p>\n",
       "</div>"
      ],
      "text/plain": [
       "      iterations  test-MAE-mean  test-MAE-std  train-MAE-mean  train-MAE-std\n",
       "0              0   57499.916132    172.481190    57499.870954      43.367510\n",
       "1              1   56043.522705    171.420215    56043.802008      44.025529\n",
       "2              2   54631.310989    170.835754    54631.559290      44.660071\n",
       "3              3   53255.290355    169.608321    53255.427098      48.525834\n",
       "4              4   51927.876460    169.217582    51928.059963      49.091335\n",
       "...          ...            ...           ...             ...            ...\n",
       "9995        9995   13901.524497    134.882719    11182.733742      64.570323\n",
       "9996        9996   13901.417522    134.668452    11182.547280      64.766684\n",
       "9997        9997   13901.389459    134.652256    11182.476543      64.767393\n",
       "9998        9998   13901.391812    134.670169    11182.402117      64.849664\n",
       "9999        9999   13901.229648    134.665987    11182.203606      65.033942\n",
       "\n",
       "[10000 rows x 5 columns]"
      ]
     },
     "execution_count": 40,
     "metadata": {},
     "output_type": "execute_result"
    }
   ],
   "source": [
    "cv_data"
   ]
  }
 ],
 "metadata": {
  "kernelspec": {
   "display_name": "Python 3 (ipykernel)",
   "language": "python",
   "name": "python3"
  },
  "language_info": {
   "codemirror_mode": {
    "name": "ipython",
    "version": 3
   },
   "file_extension": ".py",
   "mimetype": "text/x-python",
   "name": "python",
   "nbconvert_exporter": "python",
   "pygments_lexer": "ipython3",
   "version": "3.10.13"
  }
 },
 "nbformat": 4,
 "nbformat_minor": 5
}
