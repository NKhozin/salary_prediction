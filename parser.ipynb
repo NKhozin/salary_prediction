{
 "cells": [
  {
   "cell_type": "code",
   "execution_count": 57,
   "id": "e608b7a2",
   "metadata": {},
   "outputs": [],
   "source": [
    "import requests\n",
    "import pandas as pd"
   ]
  },
  {
   "cell_type": "code",
   "execution_count": 58,
   "id": "1288fb38",
   "metadata": {},
   "outputs": [],
   "source": [
    "#https://trudvsem.ru/opendata/api"
   ]
  },
  {
   "cell_type": "code",
   "execution_count": 60,
   "id": "d1b0d564",
   "metadata": {},
   "outputs": [],
   "source": [
    "def find_vacancies_by_region():\n",
    "    \"\"\"Обогащение вакансий по регионам\"\"\"\n",
    "    \n",
    "    total_results = []\n",
    "\n",
    "    reg_nums = list(range(1,90))\n",
    "    status = 200\n",
    "    offset = 1\n",
    "\n",
    "    for reg_num in reg_nums:\n",
    "        while status==200:\n",
    "            try:\n",
    "                url = f\"http://opendata.trudvsem.ru/api/v1/vacancies/region/{reg_num}?offset={offset}&limit=100\"\n",
    "                response = requests.get(url)\n",
    "\n",
    "                response_json = response.json()\n",
    "                status = response_json['status']\n",
    "                results = response_json['results']\n",
    "\n",
    "                if 'vacancies' in results:\n",
    "                    vacancies = results['vacancies']\n",
    "                    total_results.append(results)\n",
    "                else:\n",
    "                    continue\n",
    "            except:\n",
    "                print('1')\n",
    "\n",
    "            offset+=1\n",
    "    return total_results\n",
    "\n",
    "def find_vacancies_by_text(find_text_list):\n",
    "    \"\"\"Обогащение вакансий по тексту\"\"\"\n",
    "    \n",
    "    total_results = []\n",
    "\n",
    "    status = 200\n",
    "    offset = 1\n",
    "\n",
    "    for find_text in find_text_list:\n",
    "        while status==200:\n",
    "            try:\n",
    "                url = f\"http://opendata.trudvsem.ru/api/v1/vacancies/region/{reg_num}?offset={offset}&limit=100\"\n",
    "                url = f\"http://opendata.trudvsem.ru/api/v1/vacancies?offset={offset}&limit=100&text={find_text}\"\n",
    "                response = requests.get(url)\n",
    "\n",
    "                response_json = response.json()\n",
    "                status = response_json['status']\n",
    "                results = response_json['results']\n",
    "\n",
    "                if 'vacancies' in results:\n",
    "                    vacancies = results['vacancies']\n",
    "                    total_results.append(results)\n",
    "                else:\n",
    "                    continue\n",
    "            except:\n",
    "                print('1')\n",
    "\n",
    "            offset+=1\n",
    "    return total_results"
   ]
  },
  {
   "cell_type": "code",
   "execution_count": 62,
   "id": "abe9dc50",
   "metadata": {},
   "outputs": [],
   "source": [
    "#1) Берем вакансии, которые мало встречаются в исходном наборе данных\n",
    "data = pd.read_csv('data_vacancies.csv', index_col=0)\n",
    "subroup = data.groupby('custom_position', as_index=False).schedule.count().sort_values(by='schedule')\n",
    "find_text_list = subroup[(subroup.schedule>10)&(subroup.schedule<50)].custom_position.to_list()\n",
    "\n",
    "vacancies = find_vacancies_by_text(find_text_list)"
   ]
  },
  {
   "cell_type": "code",
   "execution_count": 65,
   "id": "c2acf908",
   "metadata": {},
   "outputs": [],
   "source": [
    "#2) Формируем сами\n",
    "find_text_list = ['Инженер','Программист','Аналитик']\n",
    "\n",
    "vacancies = find_vacancies_by_text(find_text_list)"
   ]
  },
  {
   "cell_type": "code",
   "execution_count": null,
   "id": "04b7edeb",
   "metadata": {},
   "outputs": [],
   "source": [
    "#3) По регионам\n",
    "\n",
    "vacancies = find_vacancies_by_text(find_vacancies_by_region)"
   ]
  }
 ],
 "metadata": {
  "kernelspec": {
   "display_name": "Python 3 (ipykernel)",
   "language": "python",
   "name": "python3"
  },
  "language_info": {
   "codemirror_mode": {
    "name": "ipython",
    "version": 3
   },
   "file_extension": ".py",
   "mimetype": "text/x-python",
   "name": "python",
   "nbconvert_exporter": "python",
   "pygments_lexer": "ipython3",
   "version": "3.10.11"
  }
 },
 "nbformat": 4,
 "nbformat_minor": 5
}
